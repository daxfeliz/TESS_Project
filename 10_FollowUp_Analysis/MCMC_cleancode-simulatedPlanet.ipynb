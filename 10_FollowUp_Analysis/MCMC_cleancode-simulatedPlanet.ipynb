{
 "cells": [
  {
   "cell_type": "code",
   "execution_count": 1,
   "metadata": {
    "scrolled": true
   },
   "outputs": [
    {
     "name": "stdout",
     "output_type": "stream",
     "text": [
      "Created TAP+ (v1.2.1) - Connection:\n",
      "\tHost: gea.esac.esa.int\n",
      "\tUse HTTPS: False\n",
      "\tPort: 80\n",
      "\tSSL Port: 443\n",
      "Created TAP+ (v1.2.1) - Connection:\n",
      "\tHost: geadata.esac.esa.int\n",
      "\tUse HTTPS: False\n",
      "\tPort: 80\n",
      "\tSSL Port: 443\n"
     ]
    }
   ],
   "source": [
    "# These are all the modules and definitions you will need in this notebook\n",
    "import batman\n",
    "from astropy.stats import BoxLeastSquares\n",
    "\n",
    "import os\n",
    "import matplotlib.pyplot as plt\n",
    "plt.style.use(\"default\")\n",
    "\n",
    "from matplotlib import rcParams\n",
    "rcParams[\"savefig.dpi\"] = 75\n",
    "rcParams[\"figure.dpi\"] = 75\n",
    "rcParams[\"font.size\"] = 16\n",
    "rcParams[\"text.usetex\"] = False\n",
    "rcParams[\"font.family\"] = [\"sans-serif\"]\n",
    "rcParams[\"font.sans-serif\"] = [\"cmss10\"]\n",
    "rcParams[\"axes.unicode_minus\"] = False\n",
    "\n",
    "import warnings\n",
    "warnings.filterwarnings(\"ignore\", category=DeprecationWarning)\n",
    "warnings.filterwarnings(\"ignore\", category=FutureWarning)\n",
    "import logging\n",
    "logger = logging.getLogger(\"theano.gof.compilelock\")\n",
    "logger.setLevel(logging.ERROR)\n",
    "logger.propagate = False\n",
    "\n",
    "import corner\n",
    "import numpy as np\n",
    "import pandas as pd\n",
    "import lightkurve as lk\n",
    "import matplotlib.pyplot as plt\n",
    "\n",
    "import pymc3 as pm\n",
    "import exoplanet as xo\n",
    "import theano.tensor as tt\n",
    "# tt.config.optimizer='fast_compile'\n",
    "# print(tt.config.optimizer)\n",
    "\n",
    "\n",
    "\n",
    "#stuff for getting FFI data from MAST\n",
    "import astropy\n",
    "from astroquery.mast import Catalogs\n",
    "from astroquery.mast import Tesscut\n",
    "from astropy.coordinates import SkyCoord\n",
    "from astroquery.gaia import Gaia\n",
    "from astropy.wcs import WCS\n",
    "from astropy.io import fits\n",
    "import astropy.units as u\n",
    "\n",
    "#in case there are WiFi issues, these may help\n",
    "from urllib.error import HTTPError\n",
    "import requests\n",
    "\n",
    "#stuff for detecting periodic transit events\n",
    "from transitleastsquares import catalog_info\n",
    "\n",
    "import time as clock\n",
    "import pandas as pd\n",
    "\n",
    "import logging\n",
    "logger = logging.getLogger(\"theano.gof.compilelock\")\n",
    "logger.setLevel(logging.ERROR)\n",
    "logger.propagate = False"
   ]
  },
  {
   "cell_type": "code",
   "execution_count": 2,
   "metadata": {
    "scrolled": true
   },
   "outputs": [],
   "source": [
    "#import custom functions\n",
    "# from MCMC_funcs import phasefold, build_model, build_model_sigma_clip,MCMC_planet_model\n",
    "from MCMC_funcs2 import phasefold, build_model, build_model_sigma_clip,MCMC_planet_model\n",
    "from MCMC_funcs2b import phasefold, build_model, build_model_sigma_clip,MCMC_planet_model\n",
    "# from MCMC_funcs2c import phasefold, build_model, build_model_sigma_clip,MCMC_planet_model #doesn't work, flat fits"
   ]
  },
  {
   "cell_type": "code",
   "execution_count": 3,
   "metadata": {
    "scrolled": false
   },
   "outputs": [],
   "source": [
    "# #read in LC\n",
    "\n",
    "# Sector=1\n",
    "# saveLCpath='/Users/felizd/Desktop/TESS/TLS_Reports/Sector_'+str(Sector)+'/PLD_LCs/'\n",
    "# ID=425998706\n",
    "\n",
    "# qld, M_star, M_star_min, M_star_max, R_star, R_star_min, R_star_max = catalog_info(TIC_ID=ID)\n",
    "# qld_a=qld[0]\n",
    "# qld_b=qld[1]\n",
    "# R_star_err=np.mean([R_star_min, R_star_max])\n",
    "\n",
    "\n",
    "\n",
    "\n",
    "# LC_df = pd.read_csv(saveLCpath+'TIC_'+str(ID)+'_Sector_'+str(Sector)+'_PLD_LC.txt')\n",
    "# T=np.array(LC_df['time'].to_list())\n",
    "# F=np.array(LC_df['PLD detrended Flux'].to_list())#-1.0\n",
    "# F_sap =np.array(LC_df['SAP Flux'].to_list())\n",
    "# E=np.array(LC_df['flux error'].to_list())\n",
    "\n",
    "\n",
    "# plt.plot(T,F,'k.')\n",
    "# plt.ylim(0.98,1.02)\n",
    "# plt.ylabel('Normalized Flux')\n",
    "# plt.xlabel('TIME [TJD]')\n",
    "# plt.show()\n",
    "\n",
    "\n",
    "\n",
    "\n",
    "\n",
    "# #reading from candidates sheet\n",
    "# T0s=[1327.189][0]\n",
    "# Periods=[2.127][0] #days\n",
    "# Depths=[1.458*1e-3][0] #*1e-3 #ppt to dex(?) conversion\n",
    "# Duration=[0.519][0] #hours\n",
    "# texp=np.mean(np.diff(T))\n",
    "\n",
    "# ndays=np.round(T[-1]-T[0])\n",
    "\n",
    "# Rad_sun = 6.955*10.0**10.0 #cm\n",
    "# Rad_earth = 6.378*10.0**8.0 #cm\n",
    "# Mass_Sun = 1.989*10.0**33.0 #grams\n",
    "\n",
    "# logg=np.float64(4.8)\n",
    "# logg_err=np.float64(0.003)\n",
    "# R_star=np.float64(R_star*Rad_sun)\n",
    "# R_star_err=np.float64(0.01)\n",
    "# import random\n",
    "\n",
    "# # TLS_P=np.float64(8.3910)\n",
    "# TLS_P=np.random.uniform(texp,ndays/3.0) #from 30 min to length of LC/3\n",
    "# # TLS_TC=t[46]\n",
    "# TLS_TC=random.choice(T)\n",
    "# time_start =TLS_TC\n",
    "# R_P=np.random.uniform(1,4) #mars to Super Earth sized\n",
    "\n",
    "\n",
    "# print('Period: ',TLS_P)\n",
    "# print('time start: ',TLS_TC)\n",
    "# print('planet radius (RE): ',R_P)\n",
    "# print('Stellar radius (RS): ',R_star/Rad_sun)\n",
    "\n",
    "# # Use batman to create transits\n",
    "# ma = batman.TransitParams()\n",
    "# ma.t0 = time_start  # time of inferior conjunction; first transit is X days after start\n",
    "# ma.per = TLS_P  # orbital period\n",
    "# ma.rp = R_P*Rad_earth/(R_star)  # planet radius (in units of stellar radii) \n",
    "# ma.a = 10  # semi-major axis (in units of stellar radii)\n",
    "# ma.inc = 90  # orbital inclination (in degrees)\n",
    "# ma.ecc = 0  # eccentricity\n",
    "# ma.w = 90  # longitude of periastron (in degrees)\n",
    "# # qld_a=0.4; qld_b=0.4\n",
    "# ma.u = [qld_a, qld_b]  # limb darkening coefficients\n",
    "# ma.limb_dark = \"quadratic\"  # limb darkening model\n",
    "# m = batman.TransitModel(ma, T,exp_time=texp)  # initializes model\n",
    "# synthetic_signal = m.light_curve(ma)  # calculates light curve\n",
    "\n",
    "# injectedflux = synthetic_signal- F+1\n",
    "\n",
    "# plt.figure(figsize=(14,6)) #width, height\n",
    "# plt.gca().get_xaxis().get_major_formatter().set_useOffset(False) #turns off scientific notation\n",
    "# plt.gca().get_yaxis().get_major_formatter().set_useOffset(False)\n",
    "# plt.plot(T,injectedflux,marker='.',color='black',linestyle='none')\n",
    "# plt.plot(T,synthetic_signal,marker='.',color='red',linestyle='none')\n",
    "# plt.xlabel(\"Time (JD)\")\n",
    "# plt.ylabel(\"Flux\")\n",
    "# plt.title(\"Transit Injected Fake Light Curve\")\n",
    "# plt.ylim(0.98,1.02)\n",
    "# plt.show()\n",
    "\n",
    "\n",
    "\n",
    "# T0s=[TLS_TC][0]\n",
    "# Periods=[TLS_P][0]\n",
    "# Depths=np.array([(R_P*Rad_earth/R_star)**2])[0] #*1e-3 #ppt to ppm conversion\n",
    "\n",
    "\n",
    "# T = np.ascontiguousarray(T, dtype=np.float64)\n",
    "# F = np.ascontiguousarray((injectedflux - 1.0) * 1e3, dtype=np.float64)\n",
    "# E = np.ascontiguousarray(E * 1e3, dtype=np.float64)\n",
    "\n",
    "# # F = np.ascontiguousarray(injectedflux-1.0, dtype=np.float64)\n",
    "# # E = np.ascontiguousarray(E , dtype=np.float64)\n",
    "\n",
    "# Depths=np.array([(R_P*Rad_earth/R_star)**2])[0]*1e3\n",
    "# pf,ff = phasefold(T0s,T,Periods,F)\n",
    "# plt.plot(pf,ff,'k.')\n",
    "# # plt.axhline(y=1-Depths,color='green')\n",
    "# plt.xlabel('phase')\n",
    "# plt.ylabel('flux[ppt]')\n",
    "# # plt.ylim(0.98-1,1.02-1)\n",
    "# plt.title('Simulated planet')\n",
    "# plt.show()\n",
    "\n",
    "# plt.plot(pf,ff,'k.')\n",
    "# # plt.axhline(y=1-Depths,color='green')\n",
    "# plt.xlabel('phase')\n",
    "# plt.ylabel('flux[ppt]')\n",
    "# plt.xlim(-0.3,0.3)\n",
    "# plt.title('Simulated planet')\n",
    "# plt.show()\n",
    "\n",
    "# df=pd.DataFrame({'time':T,'flux':F,\"error\":E})\n",
    "# df.to_csv('SimulatedPlanet_LC.txt')"
   ]
  },
  {
   "cell_type": "code",
   "execution_count": 4,
   "metadata": {},
   "outputs": [],
   "source": [
    "\n",
    "#read in LC\n",
    "\n",
    "Sector=1\n",
    "saveLCpath='/Users/felizd/Desktop/TESS/TLS_Reports/Sector_'+str(Sector)+'/PLD_LCs/'\n",
    "ID=425998706\n",
    "\n",
    "# qld, M_star, M_star_min, M_star_max, R_star, R_star_min, R_star_max = catalog_info(TIC_ID=ID)\n",
    "# qld_a=qld[0]\n",
    "# qld_b=qld[1]\n",
    "# R_star_err=np.mean([R_star_min, R_star_max])\n",
    "\n",
    "# logg=np.float64(4.8)\n",
    "# logg_err=np.float64(0.003)\n",
    "# R_star=np.float64(R_star*Rad_sun)\n",
    "# R_star_err=np.float64(0.01)\n",
    "\n",
    "# print(R_star)\n",
    "# # print(R_P*Rad_earth/R_star)\n",
    "# # print(ma.rp)\n",
    "# # print(ma.a)\n",
    "# # print(ma.t0)\n",
    "# print(ma.per)"
   ]
  },
  {
   "cell_type": "code",
   "execution_count": 5,
   "metadata": {},
   "outputs": [
    {
     "name": "stdout",
     "output_type": "stream",
     "text": [
      "1087\n",
      "1087\n",
      "1087\n"
     ]
    }
   ],
   "source": [
    "#Read in results from above\n",
    "\n",
    "LC=pd.read_csv('SimulatedPlanet_LC.txt')\n",
    "\n",
    "T=np.array(LC['time'].to_list())\n",
    "F=np.array(LC['flux'].to_list())\n",
    "E=np.array(LC['error'].to_list())\n",
    "print(len(F))\n",
    "#nancheck\n",
    "nanmask = np.where(np.isnan(F)==False)[0]\n",
    "print(len(nanmask))\n",
    "T=T[nanmask]\n",
    "F=F[nanmask]\n",
    "E=E[nanmask]\n",
    "print(len(F))"
   ]
  },
  {
   "cell_type": "code",
   "execution_count": 6,
   "metadata": {
    "scrolled": true
   },
   "outputs": [
    {
     "name": "stderr",
     "output_type": "stream",
     "text": [
      "WARNING: AstropyDeprecationWarning: Importing BoxLeastSquares from astropy.stats has been deprecated and will no longer be supported in future. Please import this class from the astropy.timeseries module instead [astropy.stats.bls]\n"
     ]
    },
    {
     "data": {
      "image/png": "[encoded data removed]",
      "text/plain": [
       "<Figure size 750x750 with 2 Axes>"
      ]
     },
     "metadata": {},
     "output_type": "display_data"
    }
   ],
   "source": [
    "#get \"prior\" from BLS (quicker than TLS)\n",
    "\n",
    "period_grid = np.exp(np.linspace(np.log(1), np.log(15), 50000))\n",
    "\n",
    "bls = BoxLeastSquares(T, F)\n",
    "bls_power = bls.power(period_grid, 0.1, oversample=20)\n",
    "\n",
    "# Save the highest peak as the planet candidate\n",
    "index = np.argmax(bls_power.power)\n",
    "bls_period = bls_power.period[index]\n",
    "bls_t0 = bls_power.transit_time[index]\n",
    "bls_depth = bls_power.depth[index]\n",
    "bls_dur  = bls_power.duration[index]\n",
    "transit_mask = bls.transit_mask(T, bls_period, 0.2, bls_t0)\n",
    "\n",
    "fig, axes = plt.subplots(2, 1, figsize=(10, 10))\n",
    "\n",
    "# Plot the periodogram\n",
    "ax = axes[0]\n",
    "ax.axvline(np.log10(bls_period), color=\"C1\", lw=5, alpha=0.8)\n",
    "ax.plot(np.log10(bls_power.period), (bls_power.power-np.median(bls_power.power))/np.std(bls_power.power), \"k\")\n",
    "ax.annotate(\n",
    "    \"period = {0:.4f} d\".format(bls_period),\n",
    "    (0, 1),\n",
    "    xycoords=\"axes fraction\",\n",
    "    xytext=(5, -5),\n",
    "    textcoords=\"offset points\",\n",
    "    va=\"top\",\n",
    "    ha=\"left\",\n",
    "    fontsize=12,\n",
    ")\n",
    "ax.set_ylabel(\"bls SDE\")\n",
    "# ax.set_yticks([])\n",
    "ax.set_xlim(np.log10(period_grid.min()), np.log10(period_grid.max()))\n",
    "ax.set_xlabel(\"log10(period)\")\n",
    "\n",
    "# Plot the folded transit\n",
    "ax = axes[1]\n",
    "pfbls,ffbls=phasefold(bls_t0,T,bls_period,F)\n",
    "ax.plot(pfbls,ffbls, \".k\")\n",
    "ax.axhline(y=-bls_depth)\n",
    "ax.set_ylabel(\"de-trended flux [ppt]\")\n",
    "ax.set_xlabel(\"time since transit\")\n",
    "ax.set_xlim(-3*bls_dur,3*bls_dur)\n",
    "plt.show()"
   ]
  },
  {
   "cell_type": "code",
   "execution_count": 7,
   "metadata": {
    "scrolled": false
   },
   "outputs": [
    {
     "data": {
      "text/html": [
       "<div>\n",
       "<style scoped>\n",
       "    .dataframe tbody tr th:only-of-type {\n",
       "        vertical-align: middle;\n",
       "    }\n",
       "\n",
       "    .dataframe tbody tr th {\n",
       "        vertical-align: top;\n",
       "    }\n",
       "\n",
       "    .dataframe thead th {\n",
       "        text-align: right;\n",
       "    }\n",
       "</style>\n",
       "<table border=\"1\" class=\"dataframe\">\n",
       "  <thead>\n",
       "    <tr style=\"text-align: right;\">\n",
       "      <th></th>\n",
       "      <th>Period</th>\n",
       "      <th>T0</th>\n",
       "      <th>Depth</th>\n",
       "      <th>Duration</th>\n",
       "      <th>R_star</th>\n",
       "      <th>R_star_err</th>\n",
       "      <th>M_star</th>\n",
       "      <th>M_star_err</th>\n",
       "      <th>logg</th>\n",
       "      <th>logg_err</th>\n",
       "      <th>qld_a</th>\n",
       "      <th>qld_b</th>\n",
       "    </tr>\n",
       "  </thead>\n",
       "  <tbody>\n",
       "    <tr>\n",
       "      <th>0</th>\n",
       "      <td>4.464331</td>\n",
       "      <td>1327.757573</td>\n",
       "      <td>9.295047</td>\n",
       "      <td>0.1</td>\n",
       "      <td>0.386736</td>\n",
       "      <td>0.020355</td>\n",
       "      <td>0.395805</td>\n",
       "      <td>0.011917</td>\n",
       "      <td>4.83052</td>\n",
       "      <td>0.003281</td>\n",
       "      <td>0.1604</td>\n",
       "      <td>0.4325</td>\n",
       "    </tr>\n",
       "  </tbody>\n",
       "</table>\n",
       "</div>"
      ],
      "text/plain": [
       "     Period           T0     Depth  Duration    R_star  R_star_err    M_star  \\\n",
       "0  4.464331  1327.757573  9.295047       0.1  0.386736    0.020355  0.395805   \n",
       "\n",
       "   M_star_err     logg  logg_err   qld_a   qld_b  \n",
       "0    0.011917  4.83052  0.003281  0.1604  0.4325  "
      ]
     },
     "execution_count": 7,
     "metadata": {},
     "output_type": "execute_result"
    }
   ],
   "source": [
    "#reading from candidates sheet\n",
    "T0s=bls_t0\n",
    "Periods=bls_period\n",
    "Depths=bls_depth\n",
    "Durations=bls_dur\n",
    "texp=np.nanmedian(np.diff(T))\n",
    "\n",
    "df=pd.DataFrame({'time':T,'flux':F,\"error\":E})\n",
    "df.to_csv('SimulatedPlanet_LC.txt')\n",
    "\n",
    "params=pd.DataFrame({'T0':float(T0s),'Period':float(Periods),'Depth':float(Depths)}, index=[0])\n",
    "\n",
    "from transitleastsquares import catalog_info\n",
    "ID = int(425998706)\n",
    "qld, R_star, R_star_min, R_star_max, M_star, M_star_min, M_star_max = catalog_info(TIC_ID=ID)\n",
    "qld_a = qld[0]\n",
    "qld_b = qld[1]\n",
    "R_star_err = R_star_max\n",
    "M_star_err = M_star_max\n",
    "# texp = np.median(np.diff(T))\n",
    "# print(texp)\n",
    "logg =  4.83052\n",
    "logg_err = 0.00328087\n",
    "\n",
    "\n",
    "params=pd.DataFrame({'Period':Periods,'T0':T0s,'Depth':Depths,'Duration':Durations,\\\n",
    "                     \"R_star\":R_star,\"R_star_err\":R_star_err,\"M_star\":M_star,\"M_star_err\":M_star_err,\\\n",
    "                     \"logg\":logg,'logg_err':logg_err,\\\n",
    "                    'qld_a':qld[0], 'qld_b':qld[1]},index=[0])\n",
    "params.to_csv('SimulatedPlanet_params.txt')\n",
    "params"
   ]
  },
  {
   "cell_type": "code",
   "execution_count": 8,
   "metadata": {
    "scrolled": false
   },
   "outputs": [
    {
     "data": {
      "image/png": "[encoded data removed]",
      "text/plain": [
       "<Figure size 480x360 with 1 Axes>"
      ]
     },
     "metadata": {},
     "output_type": "display_data"
    }
   ],
   "source": [
    "#Read in results from above\n",
    "\n",
    "LC=pd.read_csv('SimulatedPlanet_LC.txt')\n",
    "\n",
    "T=np.array(LC['time'].to_list())\n",
    "F=np.array(LC['flux'].to_list())\n",
    "E=np.array(LC['error'].to_list())\n",
    "\n",
    "params=pd.read_csv('SimulatedPlanet_params.txt')\n",
    "Periods=params['Period'].item()\n",
    "T0s=params['T0'].item()\n",
    "Depths=params['Depth'].item()\n",
    "R_star=params[\"R_star\"].item()\n",
    "R_star_err=params[\"R_star_err\"].item()\n",
    "logg=params[\"logg\"].item()\n",
    "logg_err=params['logg_err'].item()\n",
    "qld_a=params['qld_a'].item()\n",
    "qld_b=params['qld_b'].item()\n",
    "\n",
    "\n",
    "phase_fold,phase_fold_flux = phasefold(T0s,T,Periods,F)\n",
    "plt.title('Simulated Planet')\n",
    "plt.plot(24*phase_fold,phase_fold_flux,'k.')\n",
    "plt.xlabel(\"time since transit [hours]\")\n",
    "plt.ylabel(\"relative flux[ppt]\");\n",
    "plt.xlim(-3*24*Durations,3*24*Durations)\n",
    "plt.show()\n"
   ]
  },
  {
   "cell_type": "code",
   "execution_count": 9,
   "metadata": {
    "scrolled": true
   },
   "outputs": [],
   "source": [
    "#define some constants\n",
    "RE = 6.378 * 10**8  #cm\n",
    "RS = 6.955 * 10**10 #cm"
   ]
  },
  {
   "cell_type": "code",
   "execution_count": 10,
   "metadata": {},
   "outputs": [
    {
     "name": "stdout",
     "output_type": "stream",
     "text": [
      "0.395805 0.0119175 0.386736 0.020355500000000002\n"
     ]
    }
   ],
   "source": [
    "print(M_star, M_star_err, R_star, R_star_err)"
   ]
  },
  {
   "cell_type": "code",
   "execution_count": 11,
   "metadata": {
    "scrolled": false
   },
   "outputs": [
    {
     "name": "stdout",
     "output_type": "stream",
     "text": [
      "*** Sigma clipping round 1 ***\n"
     ]
    },
    {
     "name": "stderr",
     "output_type": "stream",
     "text": [
      "optimizing logp for variables: [mean, logw0, logSw4, logs2]\n",
      "46it [00:03, 13.24it/s, logp=nan] \n",
      "message: Desired error not necessarily achieved due to precision loss.\n",
      "logp: nan -> nan\n",
      "final logp not finite, returning initial point\n",
      "this suggests that something is wrong with the model\n",
      "optimizing logp for variables: [logr]\n",
      "2it [00:01,  1.51it/s, logp=nan]\n",
      "message: NaN result encountered.\n",
      "logp: nan -> nan\n",
      "final logp not finite, returning initial point\n",
      "this suggests that something is wrong with the model\n",
      "optimizing logp for variables: [rb]\n",
      "12it [00:01, 10.18it/s, logp=nan] \n",
      "message: Desired error not necessarily achieved due to precision loss.\n",
      "logp: nan -> nan\n",
      "final logp not finite, returning initial point\n",
      "this suggests that something is wrong with the model\n",
      "optimizing logp for variables: [t0, logP]\n",
      "113it [00:02, 41.94it/s, logp=nan] \n",
      "message: Desired error not necessarily achieved due to precision loss.\n",
      "logp: nan -> nan\n",
      "final logp not finite, returning initial point\n",
      "this suggests that something is wrong with the model\n",
      "optimizing logp for variables: [logr]\n",
      "2it [00:01,  1.16it/s, logp=nan]\n",
      "message: NaN result encountered.\n",
      "logp: nan -> nan\n",
      "final logp not finite, returning initial point\n",
      "this suggests that something is wrong with the model\n",
      "optimizing logp for variables: [rb]\n",
      "12it [00:01,  6.82it/s, logp=nan] \n",
      "message: Desired error not necessarily achieved due to precision loss.\n",
      "logp: nan -> nan\n",
      "final logp not finite, returning initial point\n",
      "this suggests that something is wrong with the model\n",
      "optimizing logp for variables: [omega, ecc]\n",
      "2it [00:01,  1.31it/s, logp=nan]\n",
      "message: NaN result encountered.\n",
      "logp: nan -> nan\n",
      "final logp not finite, returning initial point\n",
      "this suggests that something is wrong with the model\n",
      "optimizing logp for variables: [logSw4, logw0, logs2, omega, ecc, rb, logr, t0, logP, r_star, m_star, u_star, mean]\n",
      "2it [00:01,  1.01it/s, logp=nan]\n",
      "message: NaN result encountered.\n",
      "logp: nan -> nan\n",
      "final logp not finite, returning initial point\n",
      "this suggests that something is wrong with the model\n"
     ]
    },
    {
     "name": "stdout",
     "output_type": "stream",
     "text": [
      "*** Sigma clipping round 2 ***\n"
     ]
    },
    {
     "name": "stderr",
     "output_type": "stream",
     "text": [
      "optimizing logp for variables: [mean, logw0, logSw4, logs2]\n",
      "46it [00:01, 32.17it/s, logp=nan] \n",
      "message: Desired error not necessarily achieved due to precision loss.\n",
      "logp: nan -> nan\n",
      "final logp not finite, returning initial point\n",
      "this suggests that something is wrong with the model\n",
      "optimizing logp for variables: [logr]\n",
      "2it [00:01,  1.11it/s, logp=nan]\n",
      "message: NaN result encountered.\n",
      "logp: nan -> nan\n",
      "final logp not finite, returning initial point\n",
      "this suggests that something is wrong with the model\n",
      "optimizing logp for variables: [rb]\n",
      "12it [00:01, 10.02it/s, logp=nan] \n",
      "message: Desired error not necessarily achieved due to precision loss.\n",
      "logp: nan -> nan\n",
      "final logp not finite, returning initial point\n",
      "this suggests that something is wrong with the model\n",
      "optimizing logp for variables: [t0, logP]\n",
      "113it [00:01, 62.02it/s, logp=nan] \n",
      "message: Desired error not necessarily achieved due to precision loss.\n",
      "logp: nan -> nan\n",
      "final logp not finite, returning initial point\n",
      "this suggests that something is wrong with the model\n",
      "optimizing logp for variables: [logr]\n",
      "2it [00:01,  1.65it/s, logp=nan]\n",
      "message: NaN result encountered.\n",
      "logp: nan -> nan\n",
      "final logp not finite, returning initial point\n",
      "this suggests that something is wrong with the model\n",
      "optimizing logp for variables: [rb]\n",
      "12it [00:01, 10.07it/s, logp=nan] \n",
      "message: Desired error not necessarily achieved due to precision loss.\n",
      "logp: nan -> nan\n",
      "final logp not finite, returning initial point\n",
      "this suggests that something is wrong with the model\n",
      "optimizing logp for variables: [omega, ecc]\n",
      "2it [00:01,  1.23it/s, logp=nan]\n",
      "message: NaN result encountered.\n",
      "logp: nan -> nan\n",
      "final logp not finite, returning initial point\n",
      "this suggests that something is wrong with the model\n",
      "optimizing logp for variables: [logSw4, logw0, logs2, omega, ecc, rb, logr, t0, logP, r_star, m_star, u_star, mean]\n",
      "2it [00:01,  1.65it/s, logp=nan]\n",
      "message: NaN result encountered.\n",
      "logp: nan -> nan\n",
      "final logp not finite, returning initial point\n",
      "this suggests that something is wrong with the model\n"
     ]
    },
    {
     "name": "stdout",
     "output_type": "stream",
     "text": [
      "plotting initial guesses\n",
      " \n"
     ]
    },
    {
     "data": {
      "image/png": "[encoded data removed]",
      "text/plain": [
       "<Figure size 480x360 with 1 Axes>"
      ]
     },
     "metadata": {},
     "output_type": "display_data"
    },
    {
     "data": {
      "image/png": "[encoded data removed]",
      "text/plain": [
       "<Figure size 480x360 with 1 Axes>"
      ]
     },
     "metadata": {},
     "output_type": "display_data"
    }
   ],
   "source": [
    "#doing this manually\n",
    "MCMCfigpath=os.getcwd()+'/MCMC_figures/'\n",
    "if os.path.exists(MCMCfigpath)==True:\n",
    "#         print('folder exists, moving on...') #feel free to uncomment these out\n",
    "    pass\n",
    "else:\n",
    "#         print('making directory') \n",
    "    os.makedirs(MCMCfigpath)\n",
    "    \n",
    "model = build_model_sigma_clip(ID, Sector, T,F,E, logg, logg_err, M_star, M_star_err,\\\n",
    "                               R_star, R_star_err, qld_a, qld_b,Periods, T0s, Depths, \\\n",
    "                               sigma=5.0, maxiter=10)\n",
    "\n",
    "print('plotting initial guesses')\n",
    "print(' ')\n",
    "#if multiple planets input\n",
    "letters = \"bcdefghijklmnopqrstuvwxyz\"[:len([Periods])]\n",
    "with model:\n",
    "    mean = model.map_soln[\"mean\"]\n",
    "    light_curves = xo.utils.eval_in_model(model.light_curves, model.map_soln)\n",
    "\n",
    "plt.plot(model.x, model.y - mean, \"k.\", label=\"data\")\n",
    "for n, l in enumerate(letters):\n",
    "\n",
    "#     print(np.shape(light_curves[:,n]),np.shape(model.x))\n",
    "\n",
    "    plt.plot(model.x, light_curves, \"r.-\",label=\"planet {0}\".format(l), zorder=100-n)\n",
    "    #plt.plot(model.x, synthetic_signal-1, 'r.',label=\"injected model\", zorder=99-n)\n",
    "\n",
    "plt.xlabel(\"time [days] TJD\")\n",
    "plt.ylabel(\"norm. flux\")\n",
    "plt.title(\"initial fit\")\n",
    "# plt.xlim(model.x.min(), model.x.max())\n",
    "plt.legend(fontsize=10,ncol=3);\n",
    "plt.savefig(MCMCfigpath+\"TIC_\"+str(ID)+\"_Sector_\"+str(Sector)+'_LC_intialguess.png')\n",
    "plt.show()\n",
    "plt.close()\n",
    "\n",
    "\n",
    "t0_init=model.map_soln[\"t0\"]\n",
    "per_init=model.map_soln[\"period\"]\n",
    "\n",
    "x_fold_init,x_fold_init_f = phasefold(t0_init,model.x,per_init,model.y-mean)\n",
    "modelpf,modelff=phasefold(t0_init,model.x,per_init,light_curves)\n",
    "\n",
    "plt.plot(x_fold_init,x_fold_init_f,\"k.\", label=\"data\")\n",
    "plt.plot(modelpf,modelff, \"r-\",label=\"planet {0}\".format(l), zorder=100-n)\n",
    "#plt.plot(x_fold, synthetic_signal-1, 'r.',label=\"injected model\", zorder=99-n)\n",
    "plt.xlim(-3*Durations,3*Durations)\n",
    "plt.xlabel('phase [days]')\n",
    "plt.ylabel('norm. flux')\n",
    "plt.savefig(MCMCfigpath+\"TIC_\"+str(ID)+\"_Sector_\"+str(Sector)+'_PFLC_intialguess.png')\n",
    "plt.show()\n",
    "# plt.close()"
   ]
  },
  {
   "cell_type": "markdown",
   "metadata": {},
   "source": [
    "# PROBLEM: Log-likelihood function is NaN, specifically relating to the eccentricity and this mysterious ecc_logodd___ free variable. Learn more about this and see what you can change for improvement."
   ]
  },
  {
   "cell_type": "code",
   "execution_count": 12,
   "metadata": {},
   "outputs": [
    {
     "name": "stdout",
     "output_type": "stream",
     "text": [
      "mean                       -3.22\n",
      "u_star_quadlimbdark__      -2.77\n",
      "m_star_interval__       -4289.09\n",
      "r_star_interval__       -1492.87\n",
      "logP                        1.38\n",
      "t0                         -0.92\n",
      "logr                       -0.92\n",
      "rb_radiusimpact__          -3.95\n",
      "ecc_logodds__                NaN\n",
      "omega_angle__              -0.50\n",
      "logs2                      -3.22\n",
      "logw0                      -3.22\n",
      "logSw4                     -3.22\n",
      "obs                     -8173.88\n",
      "Name: Log-probability of test_point, dtype: float64\n",
      " \n"
     ]
    }
   ],
   "source": [
    "print(model.check_test_point())\n",
    "print(' ')\n",
    "\n"
   ]
  },
  {
   "cell_type": "code",
   "execution_count": 13,
   "metadata": {},
   "outputs": [
    {
     "data": {
      "image/png": "[encoded data removed]",
      "text/plain": [
       "<Figure size 480x360 with 1 Axes>"
      ]
     },
     "metadata": {},
     "output_type": "display_data"
    }
   ],
   "source": [
    "\n",
    "t0_init=model.map_soln[\"t0\"]\n",
    "per_init=model.map_soln[\"period\"]\n",
    "\n",
    "x_fold_init,x_fold_init_f = phasefold(t0_init,model.x,per_init,model.y-mean)\n",
    "modelpf,modelff=phasefold(t0_init,model.x,per_init,light_curves)\n",
    "\n",
    "plt.plot(x_fold_init,x_fold_init_f,\"k.\", label=\"data\")\n",
    "plt.plot(modelpf,modelff, \"r-\",label=\"planet {0}\".format(l), zorder=100-n)\n",
    "#plt.plot(x_fold, synthetic_signal-1, 'r.',label=\"injected model\", zorder=99-n)\n",
    "plt.xlim(-3*Durations,3*Durations)\n",
    "plt.xlabel('phase [days]')\n",
    "plt.ylabel('norm. flux')\n",
    "plt.savefig(MCMCfigpath+\"TIC_\"+str(ID)+\"_Sector_\"+str(Sector)+'_PFLC_intialguess.png')\n",
    "plt.show()\n",
    "# plt.close()"
   ]
  },
  {
   "cell_type": "code",
   "execution_count": 14,
   "metadata": {},
   "outputs": [
    {
     "name": "stdout",
     "output_type": "stream",
     "text": [
      "[4.46433085] 4.4643308455877655\n"
     ]
    }
   ],
   "source": [
    "print(per_init, Periods)"
   ]
  },
  {
   "cell_type": "code",
   "execution_count": 15,
   "metadata": {
    "scrolled": false
   },
   "outputs": [
    {
     "data": {
      "image/png": "[encoded data removed]",
      "text/plain": [
       "<Figure size 480x360 with 1 Axes>"
      ]
     },
     "metadata": {},
     "output_type": "display_data"
    }
   ],
   "source": [
    "\n",
    "\n",
    "t0_init=model.map_soln[\"t0\"]\n",
    "per_init=model.map_soln[\"period\"]\n",
    "x_fold = (T - T0s + 0.5*Periods) % Periods - 0.5*Periods\n",
    "x_fold_init = (model.x - t0_init + 0.5*per_init) % per_init - 0.5*per_init\n",
    "\n",
    "x_fold_init,x_fold_init_f = phasefold(t0_init,model.x,per_init,model.y)\n",
    "modelpf,modelff=phasefold(t0_init,model.x,per_init,light_curves)\n",
    "plt.plot(x_fold_init,x_fold_init_f-mean,\"k.\", label=\"data\")\n",
    "plt.plot(modelpf,modelff, \"r.-\",label=\"planet {0}\".format(l), zorder=100-n)\n",
    "# plt.plot(x_fold, 1e3*(synthetic_signal-1), 'g.-',label=\"injected model\", zorder=99-n)\n",
    "plt.xlim(-3*Durations,3*Durations)\n",
    "plt.xlabel('phase [days]')\n",
    "plt.ylabel('norm. flux')\n",
    "plt.show()\n",
    "# plt.close()"
   ]
  },
  {
   "cell_type": "code",
   "execution_count": null,
   "metadata": {},
   "outputs": [],
   "source": []
  },
  {
   "cell_type": "code",
   "execution_count": null,
   "metadata": {},
   "outputs": [],
   "source": []
  },
  {
   "cell_type": "code",
   "execution_count": null,
   "metadata": {
    "scrolled": false
   },
   "outputs": [],
   "source": []
  },
  {
   "cell_type": "code",
   "execution_count": 20,
   "metadata": {
    "scrolled": false
   },
   "outputs": [
    {
     "name": "stdout",
     "output_type": "stream",
     "text": [
      "starting\n",
      "*** Sigma clipping round 1 ***\n"
     ]
    },
    {
     "name": "stderr",
     "output_type": "stream",
     "text": [
      "optimizing logp for variables: [mean, logw0, logSw4, logs2]\n",
      "46it [00:02, 19.75it/s, logp=nan] \n",
      "message: Desired error not necessarily achieved due to precision loss.\n",
      "logp: nan -> nan\n",
      "final logp not finite, returning initial point\n",
      "this suggests that something is wrong with the model\n",
      "optimizing logp for variables: [logr]\n",
      "2it [00:01,  1.49it/s, logp=nan]\n",
      "message: NaN result encountered.\n",
      "logp: nan -> nan\n",
      "final logp not finite, returning initial point\n",
      "this suggests that something is wrong with the model\n",
      "optimizing logp for variables: [rb]\n",
      "12it [00:01,  9.42it/s, logp=nan] \n",
      "message: Desired error not necessarily achieved due to precision loss.\n",
      "logp: nan -> nan\n",
      "final logp not finite, returning initial point\n",
      "this suggests that something is wrong with the model\n",
      "optimizing logp for variables: [t0, logP]\n",
      "113it [00:02, 39.65it/s, logp=nan] \n",
      "message: Desired error not necessarily achieved due to precision loss.\n",
      "logp: nan -> nan\n",
      "final logp not finite, returning initial point\n",
      "this suggests that something is wrong with the model\n",
      "optimizing logp for variables: [logr]\n",
      "2it [00:01,  1.80it/s, logp=nan]\n",
      "message: NaN result encountered.\n",
      "logp: nan -> nan\n",
      "final logp not finite, returning initial point\n",
      "this suggests that something is wrong with the model\n",
      "optimizing logp for variables: [rb]\n",
      "12it [00:01,  7.62it/s, logp=nan]\n",
      "message: Desired error not necessarily achieved due to precision loss.\n",
      "logp: nan -> nan\n",
      "final logp not finite, returning initial point\n",
      "this suggests that something is wrong with the model\n",
      "optimizing logp for variables: [omega, ecc]\n",
      "2it [00:01,  1.67it/s, logp=nan]\n",
      "message: NaN result encountered.\n",
      "logp: nan -> nan\n",
      "final logp not finite, returning initial point\n",
      "this suggests that something is wrong with the model\n",
      "optimizing logp for variables: [logSw4, logw0, logs2, omega, ecc, rb, logr, t0, logP, r_star, m_star, u_star, mean]\n",
      "2it [00:01,  1.55it/s, logp=nan]\n",
      "message: NaN result encountered.\n",
      "logp: nan -> nan\n",
      "final logp not finite, returning initial point\n",
      "this suggests that something is wrong with the model\n"
     ]
    },
    {
     "name": "stdout",
     "output_type": "stream",
     "text": [
      "*** Sigma clipping round 2 ***\n"
     ]
    },
    {
     "name": "stderr",
     "output_type": "stream",
     "text": [
      "optimizing logp for variables: [mean, logw0, logSw4, logs2]\n",
      "46it [00:01, 25.67it/s, logp=nan]\n",
      "message: Desired error not necessarily achieved due to precision loss.\n",
      "logp: nan -> nan\n",
      "final logp not finite, returning initial point\n",
      "this suggests that something is wrong with the model\n",
      "optimizing logp for variables: [logr]\n",
      "2it [00:02,  1.03s/it, logp=nan]\n",
      "message: NaN result encountered.\n",
      "logp: nan -> nan\n",
      "final logp not finite, returning initial point\n",
      "this suggests that something is wrong with the model\n",
      "optimizing logp for variables: [rb]\n",
      "12it [00:01,  9.48it/s, logp=nan]\n",
      "message: Desired error not necessarily achieved due to precision loss.\n",
      "logp: nan -> nan\n",
      "final logp not finite, returning initial point\n",
      "this suggests that something is wrong with the model\n",
      "optimizing logp for variables: [t0, logP]\n",
      "113it [00:02, 44.96it/s, logp=nan]\n",
      "message: Desired error not necessarily achieved due to precision loss.\n",
      "logp: nan -> nan\n",
      "final logp not finite, returning initial point\n",
      "this suggests that something is wrong with the model\n",
      "optimizing logp for variables: [logr]\n",
      "2it [00:01,  1.57it/s, logp=nan]\n",
      "message: NaN result encountered.\n",
      "logp: nan -> nan\n",
      "final logp not finite, returning initial point\n",
      "this suggests that something is wrong with the model\n",
      "optimizing logp for variables: [rb]\n",
      "12it [00:01,  8.49it/s, logp=nan]\n",
      "message: Desired error not necessarily achieved due to precision loss.\n",
      "logp: nan -> nan\n",
      "final logp not finite, returning initial point\n",
      "this suggests that something is wrong with the model\n",
      "optimizing logp for variables: [omega, ecc]\n",
      "2it [00:01,  1.69it/s, logp=nan]\n",
      "message: NaN result encountered.\n",
      "logp: nan -> nan\n",
      "final logp not finite, returning initial point\n",
      "this suggests that something is wrong with the model\n",
      "optimizing logp for variables: [logSw4, logw0, logs2, omega, ecc, rb, logr, t0, logP, r_star, m_star, u_star, mean]\n",
      "2it [00:01,  1.71it/s, logp=nan]\n",
      "message: NaN result encountered.\n",
      "logp: nan -> nan\n",
      "final logp not finite, returning initial point\n",
      "this suggests that something is wrong with the model\n"
     ]
    },
    {
     "name": "stdout",
     "output_type": "stream",
     "text": [
      "plotting initial guesses\n",
      " \n",
      "starting sampling chains\n",
      "\n"
     ]
    },
    {
     "name": "stderr",
     "output_type": "stream",
     "text": [
      "Sampling 2 chains:   0%|          | 0/104 [00:00<?, ?draws/s]/Users/felizd/anaconda2/envs/py3.6/lib/python3.7/site-packages/numpy/core/fromnumeric.py:3335: RuntimeWarning: Mean of empty slice.\n",
      "  out=out, **kwargs)\n",
      "/Users/felizd/anaconda2/envs/py3.6/lib/python3.7/site-packages/numpy/core/fromnumeric.py:3335: RuntimeWarning: Mean of empty slice.\n",
      "  out=out, **kwargs)\n",
      "Sampling 2 chains:   0%|          | 0/104 [00:02<?, ?draws/s]\n",
      "Bad initial energy, check any log probabilities that are inf or -inf, nan or very small:\n",
      "ecc_logodds__   NaN\n"
     ]
    },
    {
     "ename": "ParallelSamplingError",
     "evalue": "Bad initial energy",
     "output_type": "error",
     "traceback": [
      "\u001b[0;31m---------------------------------------------------------------------------\u001b[0m",
      "\u001b[0;31mRemoteTraceback\u001b[0m                           Traceback (most recent call last)",
      "\u001b[0;31mRemoteTraceback\u001b[0m: \n\"\"\"\nTraceback (most recent call last):\n  File \"/Users/felizd/anaconda2/envs/py3.6/lib/python3.7/site-packages/pymc3/parallel_sampling.py\", line 160, in _start_loop\n    point, stats = self._compute_point()\n  File \"/Users/felizd/anaconda2/envs/py3.6/lib/python3.7/site-packages/pymc3/parallel_sampling.py\", line 191, in _compute_point\n    point, stats = self._step_method.step(self._point)\n  File \"/Users/felizd/anaconda2/envs/py3.6/lib/python3.7/site-packages/pymc3/step_methods/arraystep.py\", line 247, in step\n    apoint, stats = self.astep(array)\n  File \"/Users/felizd/anaconda2/envs/py3.6/lib/python3.7/site-packages/pymc3/step_methods/hmc/base_hmc.py\", line 144, in astep\n    raise SamplingError(\"Bad initial energy\")\npymc3.exceptions.SamplingError: Bad initial energy\n\"\"\"",
      "\nThe above exception was the direct cause of the following exception:\n",
      "\u001b[0;31mSamplingError\u001b[0m                             Traceback (most recent call last)",
      "\u001b[0;32m~/anaconda2/envs/py3.6/lib/python3.7/site-packages/pymc3/parallel_sampling.py\u001b[0m in \u001b[0;36m_start_loop\u001b[0;34m()\u001b[0m\n\u001b[1;32m    159\u001b[0m                 \u001b[0;32mtry\u001b[0m\u001b[0;34m:\u001b[0m\u001b[0;34m\u001b[0m\u001b[0;34m\u001b[0m\u001b[0m\n\u001b[0;32m--> 160\u001b[0;31m                     \u001b[0mpoint\u001b[0m\u001b[0;34m,\u001b[0m \u001b[0mstats\u001b[0m \u001b[0;34m=\u001b[0m \u001b[0mself\u001b[0m\u001b[0;34m.\u001b[0m\u001b[0m_compute_point\u001b[0m\u001b[0;34m(\u001b[0m\u001b[0;34m)\u001b[0m\u001b[0;34m\u001b[0m\u001b[0;34m\u001b[0m\u001b[0m\n\u001b[0m\u001b[1;32m    161\u001b[0m                 \u001b[0;32mexcept\u001b[0m \u001b[0mSamplingError\u001b[0m \u001b[0;32mas\u001b[0m \u001b[0me\u001b[0m\u001b[0;34m:\u001b[0m\u001b[0;34m\u001b[0m\u001b[0;34m\u001b[0m\u001b[0m\n",
      "\u001b[0;32m~/anaconda2/envs/py3.6/lib/python3.7/site-packages/pymc3/parallel_sampling.py\u001b[0m in \u001b[0;36m_compute_point\u001b[0;34m()\u001b[0m\n\u001b[1;32m    190\u001b[0m         \u001b[0;32mif\u001b[0m \u001b[0mself\u001b[0m\u001b[0;34m.\u001b[0m\u001b[0m_step_method\u001b[0m\u001b[0;34m.\u001b[0m\u001b[0mgenerates_stats\u001b[0m\u001b[0;34m:\u001b[0m\u001b[0;34m\u001b[0m\u001b[0;34m\u001b[0m\u001b[0m\n\u001b[0;32m--> 191\u001b[0;31m             \u001b[0mpoint\u001b[0m\u001b[0;34m,\u001b[0m \u001b[0mstats\u001b[0m \u001b[0;34m=\u001b[0m \u001b[0mself\u001b[0m\u001b[0;34m.\u001b[0m\u001b[0m_step_method\u001b[0m\u001b[0;34m.\u001b[0m\u001b[0mstep\u001b[0m\u001b[0;34m(\u001b[0m\u001b[0mself\u001b[0m\u001b[0;34m.\u001b[0m\u001b[0m_point\u001b[0m\u001b[0;34m)\u001b[0m\u001b[0;34m\u001b[0m\u001b[0;34m\u001b[0m\u001b[0m\n\u001b[0m\u001b[1;32m    192\u001b[0m         \u001b[0;32melse\u001b[0m\u001b[0;34m:\u001b[0m\u001b[0;34m\u001b[0m\u001b[0;34m\u001b[0m\u001b[0m\n",
      "\u001b[0;32m~/anaconda2/envs/py3.6/lib/python3.7/site-packages/pymc3/step_methods/arraystep.py\u001b[0m in \u001b[0;36mstep\u001b[0;34m()\u001b[0m\n\u001b[1;32m    246\u001b[0m         \u001b[0;32mif\u001b[0m \u001b[0mself\u001b[0m\u001b[0;34m.\u001b[0m\u001b[0mgenerates_stats\u001b[0m\u001b[0;34m:\u001b[0m\u001b[0;34m\u001b[0m\u001b[0;34m\u001b[0m\u001b[0m\n\u001b[0;32m--> 247\u001b[0;31m             \u001b[0mapoint\u001b[0m\u001b[0;34m,\u001b[0m \u001b[0mstats\u001b[0m \u001b[0;34m=\u001b[0m \u001b[0mself\u001b[0m\u001b[0;34m.\u001b[0m\u001b[0mastep\u001b[0m\u001b[0;34m(\u001b[0m\u001b[0marray\u001b[0m\u001b[0;34m)\u001b[0m\u001b[0;34m\u001b[0m\u001b[0;34m\u001b[0m\u001b[0m\n\u001b[0m\u001b[1;32m    248\u001b[0m             \u001b[0mpoint\u001b[0m \u001b[0;34m=\u001b[0m \u001b[0mself\u001b[0m\u001b[0;34m.\u001b[0m\u001b[0m_logp_dlogp_func\u001b[0m\u001b[0;34m.\u001b[0m\u001b[0marray_to_full_dict\u001b[0m\u001b[0;34m(\u001b[0m\u001b[0mapoint\u001b[0m\u001b[0;34m)\u001b[0m\u001b[0;34m\u001b[0m\u001b[0;34m\u001b[0m\u001b[0m\n",
      "\u001b[0;32m~/anaconda2/envs/py3.6/lib/python3.7/site-packages/pymc3/step_methods/hmc/base_hmc.py\u001b[0m in \u001b[0;36mastep\u001b[0;34m()\u001b[0m\n\u001b[1;32m    143\u001b[0m             \u001b[0mself\u001b[0m\u001b[0;34m.\u001b[0m\u001b[0m_warnings\u001b[0m\u001b[0;34m.\u001b[0m\u001b[0mappend\u001b[0m\u001b[0;34m(\u001b[0m\u001b[0mwarning\u001b[0m\u001b[0;34m)\u001b[0m\u001b[0;34m\u001b[0m\u001b[0;34m\u001b[0m\u001b[0m\n\u001b[0;32m--> 144\u001b[0;31m             \u001b[0;32mraise\u001b[0m \u001b[0mSamplingError\u001b[0m\u001b[0;34m(\u001b[0m\u001b[0;34m\"Bad initial energy\"\u001b[0m\u001b[0;34m)\u001b[0m\u001b[0;34m\u001b[0m\u001b[0;34m\u001b[0m\u001b[0m\n\u001b[0m\u001b[1;32m    145\u001b[0m \u001b[0;34m\u001b[0m\u001b[0m\n",
      "\u001b[0;31mSamplingError\u001b[0m: Bad initial energy",
      "\nThe above exception was the direct cause of the following exception:\n",
      "\u001b[0;31mParallelSamplingError\u001b[0m                     Traceback (most recent call last)",
      "\u001b[0;32m<ipython-input-20-24fbb61dbf2c>\u001b[0m in \u001b[0;36m<module>\u001b[0;34m\u001b[0m\n\u001b[1;32m      9\u001b[0m \u001b[0mID\u001b[0m\u001b[0;34m=\u001b[0m\u001b[0;36m123456789\u001b[0m\u001b[0;34m\u001b[0m\u001b[0;34m\u001b[0m\u001b[0m\n\u001b[1;32m     10\u001b[0m \u001b[0mSector\u001b[0m\u001b[0;34m=\u001b[0m\u001b[0;36m1\u001b[0m\u001b[0;34m\u001b[0m\u001b[0;34m\u001b[0m\u001b[0m\n\u001b[0;32m---> 11\u001b[0;31m \u001b[0mmodel\u001b[0m\u001b[0;34m,\u001b[0m\u001b[0mtrace\u001b[0m \u001b[0;34m=\u001b[0m \u001b[0mMCMC_planet_model\u001b[0m\u001b[0;34m(\u001b[0m\u001b[0mID\u001b[0m\u001b[0;34m,\u001b[0m \u001b[0mSector\u001b[0m\u001b[0;34m,\u001b[0m \u001b[0mT\u001b[0m\u001b[0;34m,\u001b[0m\u001b[0mF\u001b[0m\u001b[0;34m,\u001b[0m\u001b[0mE\u001b[0m\u001b[0;34m,\u001b[0m \u001b[0mqld_a\u001b[0m\u001b[0;34m,\u001b[0m \u001b[0mqld_b\u001b[0m\u001b[0;34m,\u001b[0m \u001b[0mlogg\u001b[0m\u001b[0;34m,\u001b[0m \u001b[0mlogg_err\u001b[0m\u001b[0;34m,\u001b[0m \u001b[0mM_star\u001b[0m\u001b[0;34m,\u001b[0m \u001b[0mM_star_err\u001b[0m\u001b[0;34m,\u001b[0m\u001b[0mR_star\u001b[0m\u001b[0;34m,\u001b[0m \u001b[0mR_star_err\u001b[0m\u001b[0;34m,\u001b[0m \u001b[0mPeriods\u001b[0m\u001b[0;34m,\u001b[0m \u001b[0mT0s\u001b[0m\u001b[0;34m,\u001b[0m \u001b[0mDepths\u001b[0m\u001b[0;34m,\u001b[0m \u001b[0mMCMCfigpath\u001b[0m\u001b[0;34m)\u001b[0m\u001b[0;34m\u001b[0m\u001b[0;34m\u001b[0m\u001b[0m\n\u001b[0m\u001b[1;32m     12\u001b[0m \u001b[0;34m\u001b[0m\u001b[0m\n\u001b[1;32m     13\u001b[0m \u001b[0mend\u001b[0m \u001b[0;34m=\u001b[0m \u001b[0mclock\u001b[0m\u001b[0;34m.\u001b[0m\u001b[0mtime\u001b[0m\u001b[0;34m(\u001b[0m\u001b[0;34m)\u001b[0m\u001b[0;34m\u001b[0m\u001b[0;34m\u001b[0m\u001b[0m\n",
      "\u001b[0;32m~/Desktop/TESS/10_FollowUpAnalysis/MCMCs/MCMC_practice/MCMC_funcs2b.py\u001b[0m in \u001b[0;36mMCMC_planet_model\u001b[0;34m(ID, Sector, T, F, E, qld_a, qld_b, logg, logg_err, M_star, M_star_err, R_star, R_star_err, Periods, T0s, Depths, MCMCfigpath)\u001b[0m\n\u001b[1;32m    271\u001b[0m         burnin = sampler.tune(tune=3000, start=model.map_soln,\n\u001b[1;32m    272\u001b[0m                               \u001b[0mstep_kwargs\u001b[0m\u001b[0;34m=\u001b[0m\u001b[0mdict\u001b[0m\u001b[0;34m(\u001b[0m\u001b[0mtarget_accept\u001b[0m\u001b[0;34m=\u001b[0m\u001b[0;36m0.9\u001b[0m\u001b[0;34m)\u001b[0m\u001b[0;34m,\u001b[0m\u001b[0;34m\u001b[0m\u001b[0;34m\u001b[0m\u001b[0m\n\u001b[0;32m--> 273\u001b[0;31m                               chains=2, cores=2)\n\u001b[0m\u001b[1;32m    274\u001b[0m         \u001b[0mtrace\u001b[0m \u001b[0;34m=\u001b[0m \u001b[0msampler\u001b[0m\u001b[0;34m.\u001b[0m\u001b[0msample\u001b[0m\u001b[0;34m(\u001b[0m\u001b[0mdraws\u001b[0m\u001b[0;34m=\u001b[0m\u001b[0;36m1000\u001b[0m\u001b[0;34m,\u001b[0m \u001b[0mchains\u001b[0m\u001b[0;34m=\u001b[0m\u001b[0;36m2\u001b[0m\u001b[0;34m,\u001b[0m \u001b[0mcores\u001b[0m\u001b[0;34m=\u001b[0m\u001b[0;36m2\u001b[0m\u001b[0;34m)\u001b[0m\u001b[0;34m\u001b[0m\u001b[0;34m\u001b[0m\u001b[0m\n\u001b[1;32m    275\u001b[0m \u001b[0;34m\u001b[0m\u001b[0m\n",
      "\u001b[0;32m~/anaconda2/envs/py3.6/lib/python3.7/site-packages/exoplanet/sampling.py\u001b[0m in \u001b[0;36mtune\u001b[0;34m(self, tune, start, step_kwargs, **kwargs)\u001b[0m\n\u001b[1;32m    205\u001b[0m \u001b[0;34m\u001b[0m\u001b[0m\n\u001b[1;32m    206\u001b[0m         \u001b[0mself\u001b[0m\u001b[0;34m.\u001b[0m\u001b[0mcount\u001b[0m \u001b[0;34m=\u001b[0m \u001b[0;36m0\u001b[0m\u001b[0;34m\u001b[0m\u001b[0;34m\u001b[0m\u001b[0m\n\u001b[0;32m--> 207\u001b[0;31m         \u001b[0mself\u001b[0m\u001b[0;34m.\u001b[0m\u001b[0mwarmup\u001b[0m\u001b[0;34m(\u001b[0m\u001b[0mstart\u001b[0m\u001b[0;34m=\u001b[0m\u001b[0mstart\u001b[0m\u001b[0;34m,\u001b[0m \u001b[0mstep_kwargs\u001b[0m\u001b[0;34m=\u001b[0m\u001b[0mstep_kwargs\u001b[0m\u001b[0;34m,\u001b[0m \u001b[0;34m**\u001b[0m\u001b[0mkwargs\u001b[0m\u001b[0;34m)\u001b[0m\u001b[0;34m\u001b[0m\u001b[0;34m\u001b[0m\u001b[0m\n\u001b[0m\u001b[1;32m    208\u001b[0m         \u001b[0msteps\u001b[0m \u001b[0;34m=\u001b[0m \u001b[0mself\u001b[0m\u001b[0;34m.\u001b[0m\u001b[0mwindow\u001b[0m\u001b[0;34m\u001b[0m\u001b[0;34m\u001b[0m\u001b[0m\n\u001b[1;32m    209\u001b[0m         \u001b[0mtrace\u001b[0m \u001b[0;34m=\u001b[0m \u001b[0;32mNone\u001b[0m\u001b[0;34m\u001b[0m\u001b[0;34m\u001b[0m\u001b[0m\n",
      "\u001b[0;32m~/anaconda2/envs/py3.6/lib/python3.7/site-packages/exoplanet/sampling.py\u001b[0m in \u001b[0;36mwarmup\u001b[0;34m(self, start, step_kwargs, **kwargs)\u001b[0m\n\u001b[1;32m    138\u001b[0m             \u001b[0mstep_kwargs\u001b[0m \u001b[0;34m=\u001b[0m \u001b[0;34m{\u001b[0m\u001b[0;34m}\u001b[0m\u001b[0;34m\u001b[0m\u001b[0;34m\u001b[0m\u001b[0m\n\u001b[1;32m    139\u001b[0m         \u001b[0mstep\u001b[0m \u001b[0;34m=\u001b[0m \u001b[0mself\u001b[0m\u001b[0;34m.\u001b[0m\u001b[0mget_step_for_trace\u001b[0m\u001b[0;34m(\u001b[0m\u001b[0;34m**\u001b[0m\u001b[0mstep_kwargs\u001b[0m\u001b[0;34m)\u001b[0m\u001b[0;34m\u001b[0m\u001b[0;34m\u001b[0m\u001b[0m\n\u001b[0;32m--> 140\u001b[0;31m         \u001b[0mself\u001b[0m\u001b[0;34m.\u001b[0m\u001b[0m_extend\u001b[0m\u001b[0;34m(\u001b[0m\u001b[0mself\u001b[0m\u001b[0;34m.\u001b[0m\u001b[0mstart\u001b[0m\u001b[0;34m,\u001b[0m \u001b[0mstart\u001b[0m\u001b[0;34m=\u001b[0m\u001b[0mstart\u001b[0m\u001b[0;34m,\u001b[0m \u001b[0mstep\u001b[0m\u001b[0;34m=\u001b[0m\u001b[0mstep\u001b[0m\u001b[0;34m,\u001b[0m \u001b[0;34m**\u001b[0m\u001b[0mkwargs\u001b[0m\u001b[0;34m)\u001b[0m\u001b[0;34m\u001b[0m\u001b[0;34m\u001b[0m\u001b[0m\n\u001b[0m\u001b[1;32m    141\u001b[0m         \u001b[0;32mreturn\u001b[0m \u001b[0mself\u001b[0m\u001b[0;34m.\u001b[0m\u001b[0m_current_trace\u001b[0m\u001b[0;34m\u001b[0m\u001b[0;34m\u001b[0m\u001b[0m\n\u001b[1;32m    142\u001b[0m \u001b[0;34m\u001b[0m\u001b[0m\n",
      "\u001b[0;32m~/anaconda2/envs/py3.6/lib/python3.7/site-packages/exoplanet/sampling.py\u001b[0m in \u001b[0;36m_extend\u001b[0;34m(self, steps, start, step, **kwargs)\u001b[0m\n\u001b[1;32m    126\u001b[0m \u001b[0;34m\u001b[0m\u001b[0m\n\u001b[1;32m    127\u001b[0m         self._current_trace = pm.sample(\n\u001b[0;32m--> 128\u001b[0;31m             \u001b[0mstart\u001b[0m\u001b[0;34m=\u001b[0m\u001b[0mstart\u001b[0m\u001b[0;34m,\u001b[0m \u001b[0mtune\u001b[0m\u001b[0;34m=\u001b[0m\u001b[0msteps\u001b[0m\u001b[0;34m,\u001b[0m \u001b[0mstep\u001b[0m\u001b[0;34m=\u001b[0m\u001b[0mstep\u001b[0m\u001b[0;34m,\u001b[0m \u001b[0;34m**\u001b[0m\u001b[0mkwargs\u001b[0m\u001b[0;34m\u001b[0m\u001b[0;34m\u001b[0m\u001b[0m\n\u001b[0m\u001b[1;32m    129\u001b[0m         )\n\u001b[1;32m    130\u001b[0m         \u001b[0mself\u001b[0m\u001b[0;34m.\u001b[0m\u001b[0mcount\u001b[0m \u001b[0;34m+=\u001b[0m \u001b[0msteps\u001b[0m\u001b[0;34m\u001b[0m\u001b[0;34m\u001b[0m\u001b[0m\n",
      "\u001b[0;32m~/anaconda2/envs/py3.6/lib/python3.7/site-packages/pymc3/sampling.py\u001b[0m in \u001b[0;36msample\u001b[0;34m(draws, step, init, n_init, start, trace, chain_idx, chains, cores, tune, progressbar, model, random_seed, discard_tuned_samples, compute_convergence_checks, **kwargs)\u001b[0m\n\u001b[1;32m    435\u001b[0m             \u001b[0m_print_step_hierarchy\u001b[0m\u001b[0;34m(\u001b[0m\u001b[0mstep\u001b[0m\u001b[0;34m)\u001b[0m\u001b[0;34m\u001b[0m\u001b[0;34m\u001b[0m\u001b[0m\n\u001b[1;32m    436\u001b[0m             \u001b[0;32mtry\u001b[0m\u001b[0;34m:\u001b[0m\u001b[0;34m\u001b[0m\u001b[0;34m\u001b[0m\u001b[0m\n\u001b[0;32m--> 437\u001b[0;31m                 \u001b[0mtrace\u001b[0m \u001b[0;34m=\u001b[0m \u001b[0m_mp_sample\u001b[0m\u001b[0;34m(\u001b[0m\u001b[0;34m**\u001b[0m\u001b[0msample_args\u001b[0m\u001b[0;34m)\u001b[0m\u001b[0;34m\u001b[0m\u001b[0;34m\u001b[0m\u001b[0m\n\u001b[0m\u001b[1;32m    438\u001b[0m             \u001b[0;32mexcept\u001b[0m \u001b[0mpickle\u001b[0m\u001b[0;34m.\u001b[0m\u001b[0mPickleError\u001b[0m\u001b[0;34m:\u001b[0m\u001b[0;34m\u001b[0m\u001b[0;34m\u001b[0m\u001b[0m\n\u001b[1;32m    439\u001b[0m                 \u001b[0m_log\u001b[0m\u001b[0;34m.\u001b[0m\u001b[0mwarning\u001b[0m\u001b[0;34m(\u001b[0m\u001b[0;34m\"Could not pickle model, sampling singlethreaded.\"\u001b[0m\u001b[0;34m)\u001b[0m\u001b[0;34m\u001b[0m\u001b[0;34m\u001b[0m\u001b[0m\n",
      "\u001b[0;32m~/anaconda2/envs/py3.6/lib/python3.7/site-packages/pymc3/sampling.py\u001b[0m in \u001b[0;36m_mp_sample\u001b[0;34m(draws, tune, step, chains, cores, chain, random_seed, start, progressbar, trace, model, **kwargs)\u001b[0m\n\u001b[1;32m    967\u001b[0m         \u001b[0;32mtry\u001b[0m\u001b[0;34m:\u001b[0m\u001b[0;34m\u001b[0m\u001b[0;34m\u001b[0m\u001b[0m\n\u001b[1;32m    968\u001b[0m             \u001b[0;32mwith\u001b[0m \u001b[0msampler\u001b[0m\u001b[0;34m:\u001b[0m\u001b[0;34m\u001b[0m\u001b[0;34m\u001b[0m\u001b[0m\n\u001b[0;32m--> 969\u001b[0;31m                 \u001b[0;32mfor\u001b[0m \u001b[0mdraw\u001b[0m \u001b[0;32min\u001b[0m \u001b[0msampler\u001b[0m\u001b[0;34m:\u001b[0m\u001b[0;34m\u001b[0m\u001b[0;34m\u001b[0m\u001b[0m\n\u001b[0m\u001b[1;32m    970\u001b[0m                     \u001b[0mtrace\u001b[0m \u001b[0;34m=\u001b[0m \u001b[0mtraces\u001b[0m\u001b[0;34m[\u001b[0m\u001b[0mdraw\u001b[0m\u001b[0;34m.\u001b[0m\u001b[0mchain\u001b[0m \u001b[0;34m-\u001b[0m \u001b[0mchain\u001b[0m\u001b[0;34m]\u001b[0m\u001b[0;34m\u001b[0m\u001b[0;34m\u001b[0m\u001b[0m\n\u001b[1;32m    971\u001b[0m                     if (trace.supports_sampler_stats\n",
      "\u001b[0;32m~/anaconda2/envs/py3.6/lib/python3.7/site-packages/pymc3/parallel_sampling.py\u001b[0m in \u001b[0;36m__iter__\u001b[0;34m(self)\u001b[0m\n\u001b[1;32m    391\u001b[0m \u001b[0;34m\u001b[0m\u001b[0m\n\u001b[1;32m    392\u001b[0m         \u001b[0;32mwhile\u001b[0m \u001b[0mself\u001b[0m\u001b[0;34m.\u001b[0m\u001b[0m_active\u001b[0m\u001b[0;34m:\u001b[0m\u001b[0;34m\u001b[0m\u001b[0;34m\u001b[0m\u001b[0m\n\u001b[0;32m--> 393\u001b[0;31m             \u001b[0mdraw\u001b[0m \u001b[0;34m=\u001b[0m \u001b[0mProcessAdapter\u001b[0m\u001b[0;34m.\u001b[0m\u001b[0mrecv_draw\u001b[0m\u001b[0;34m(\u001b[0m\u001b[0mself\u001b[0m\u001b[0;34m.\u001b[0m\u001b[0m_active\u001b[0m\u001b[0;34m)\u001b[0m\u001b[0;34m\u001b[0m\u001b[0;34m\u001b[0m\u001b[0m\n\u001b[0m\u001b[1;32m    394\u001b[0m             \u001b[0mproc\u001b[0m\u001b[0;34m,\u001b[0m \u001b[0mis_last\u001b[0m\u001b[0;34m,\u001b[0m \u001b[0mdraw\u001b[0m\u001b[0;34m,\u001b[0m \u001b[0mtuning\u001b[0m\u001b[0;34m,\u001b[0m \u001b[0mstats\u001b[0m\u001b[0;34m,\u001b[0m \u001b[0mwarns\u001b[0m \u001b[0;34m=\u001b[0m \u001b[0mdraw\u001b[0m\u001b[0;34m\u001b[0m\u001b[0;34m\u001b[0m\u001b[0m\n\u001b[1;32m    395\u001b[0m             \u001b[0;32mif\u001b[0m \u001b[0mself\u001b[0m\u001b[0;34m.\u001b[0m\u001b[0m_progress\u001b[0m \u001b[0;32mis\u001b[0m \u001b[0;32mnot\u001b[0m \u001b[0;32mNone\u001b[0m\u001b[0;34m:\u001b[0m\u001b[0;34m\u001b[0m\u001b[0;34m\u001b[0m\u001b[0m\n",
      "\u001b[0;32m~/anaconda2/envs/py3.6/lib/python3.7/site-packages/pymc3/parallel_sampling.py\u001b[0m in \u001b[0;36mrecv_draw\u001b[0;34m(processes, timeout)\u001b[0m\n\u001b[1;32m    295\u001b[0m             \u001b[0;32melse\u001b[0m\u001b[0;34m:\u001b[0m\u001b[0;34m\u001b[0m\u001b[0;34m\u001b[0m\u001b[0m\n\u001b[1;32m    296\u001b[0m                 \u001b[0merror\u001b[0m \u001b[0;34m=\u001b[0m \u001b[0mRuntimeError\u001b[0m\u001b[0;34m(\u001b[0m\u001b[0;34m\"Chain %s failed.\"\u001b[0m \u001b[0;34m%\u001b[0m \u001b[0mproc\u001b[0m\u001b[0;34m.\u001b[0m\u001b[0mchain\u001b[0m\u001b[0;34m)\u001b[0m\u001b[0;34m\u001b[0m\u001b[0;34m\u001b[0m\u001b[0m\n\u001b[0;32m--> 297\u001b[0;31m             \u001b[0;32mraise\u001b[0m \u001b[0merror\u001b[0m \u001b[0;32mfrom\u001b[0m \u001b[0mold_error\u001b[0m\u001b[0;34m\u001b[0m\u001b[0;34m\u001b[0m\u001b[0m\n\u001b[0m\u001b[1;32m    298\u001b[0m         \u001b[0;32melif\u001b[0m \u001b[0mmsg\u001b[0m\u001b[0;34m[\u001b[0m\u001b[0;36m0\u001b[0m\u001b[0;34m]\u001b[0m \u001b[0;34m==\u001b[0m \u001b[0;34m\"writing_done\"\u001b[0m\u001b[0;34m:\u001b[0m\u001b[0;34m\u001b[0m\u001b[0;34m\u001b[0m\u001b[0m\n\u001b[1;32m    299\u001b[0m             \u001b[0mproc\u001b[0m\u001b[0;34m.\u001b[0m\u001b[0m_readable\u001b[0m \u001b[0;34m=\u001b[0m \u001b[0;32mTrue\u001b[0m\u001b[0;34m\u001b[0m\u001b[0;34m\u001b[0m\u001b[0m\n",
      "\u001b[0;31mParallelSamplingError\u001b[0m: Bad initial energy"
     ]
    }
   ],
   "source": [
    "#Try it out\n",
    "print('starting')\n",
    "import time as clock\n",
    "start = clock.time()\n",
    "\n",
    "MCMCfigpath=os.getcwd()+'/MCMC_figures/'\n",
    "\n",
    "\n",
    "ID=123456789\n",
    "Sector=1\n",
    "model,trace = MCMC_planet_model(ID, Sector, T,F,E, qld_a, qld_b, logg, logg_err, M_star, M_star_err,R_star, R_star_err, Periods, T0s, Depths, MCMCfigpath)\n",
    "\n",
    "end = clock.time()\n",
    "print('runtime: '+str ( (end-start)/60.0 )+' minutes')"
   ]
  },
  {
   "cell_type": "markdown",
   "metadata": {},
   "source": [
    "# NOTE: If log-likelihood is NaN or inf, you will get a \"Bad initial energy\" error stating that your model is bad in some way"
   ]
  },
  {
   "cell_type": "code",
   "execution_count": null,
   "metadata": {},
   "outputs": [],
   "source": [
    "with model:\n",
    "    #     light_curves = np.empty((500, len(model.x), len(Periods)))\n",
    "    #     light_curves = np.empty((500, len(model.x), 2))\n",
    "        light_curves = np.empty((500, len(model.x)))#, 1))\n",
    "\n",
    "        func = xo.utils.get_theano_function_for_var(model.light_curves)\n",
    "        for i, sample in enumerate(xo.utils.get_samples_from_trace(\n",
    "                trace, size=len(light_curves))):\n",
    "            light_curves[i] = func(*xo.utils.get_args_for_theano_function(sample))"
   ]
  },
  {
   "cell_type": "code",
   "execution_count": null,
   "metadata": {},
   "outputs": [],
   "source": [
    "# b=model.light_curves.shape\n",
    "# print(b)\n",
    "\n",
    "b=(np.shape(model.light_curves.tag.test_value.flatten()))\n",
    "c=(len(model.light_curves.tag.test_value.flatten()))\n",
    "print(b,c)\n",
    "\n"
   ]
  },
  {
   "cell_type": "code",
   "execution_count": null,
   "metadata": {},
   "outputs": [],
   "source": []
  },
  {
   "cell_type": "code",
   "execution_count": null,
   "metadata": {
    "scrolled": true
   },
   "outputs": [],
   "source": [
    "with model:\n",
    "#     light_curves = np.empty((500, len(model.x), len(Periods)))\n",
    "#     light_curves = np.empty((500, len(model.x), 2))\n",
    "    light_curves = np.empty((500, len(model.x)))#, 1))\n",
    "    \n",
    "    func = xo.utils.get_theano_function_for_var(model.light_curves)\n",
    "    for i, sample in enumerate(xo.utils.get_samples_from_trace(\n",
    "            trace, size=len(light_curves))):\n",
    "        light_curves[i] = func(*xo.utils.get_args_for_theano_function(sample))\n",
    "\n",
    "for n, letter in enumerate(letters):\n",
    "    plt.figure()\n",
    "\n",
    "    # Compute the GP prediction\n",
    "    mean_mod = 0#np.median(trace[\"mean\"])#[:, None])\n",
    "\n",
    "    # Get the posterior median orbital parameters\n",
    "    p = np.median(trace[\"period\"])##[:, n]) #<-too many indices\n",
    "    t0 = np.median(trace[\"t0\"])##[:, n])\n",
    "\n",
    "    # Compute the median of posterior estimate of the contribution from\n",
    "    # the other planet. Then we can remove this from the data to plot\n",
    "    # just the planet we care about.\n",
    "\n",
    "    inds = np.arange(0) != n\n",
    "#     inds = np.arange(2) != n\n",
    "#     inds = np.arange(1) != n\n",
    "    others = np.median(np.sum(light_curves[:, inds], axis=-1), axis=0)\n",
    "#         others = np.median(np.sum(light_curves, axis=-1), axis=0)\n",
    "\n",
    "    # Plot the folded data\n",
    "    x_fold = (model.x - t0 + 0.5*p) % p - 0.5*p\n",
    "    plt.plot(x_fold, model.y - mean_mod - others, \".k\", label=\"data\", zorder=-1000)\n",
    "\n",
    "    # Plot the folded model\n",
    "    inds = np.argsort(x_fold)\n",
    "    inds = inds[np.abs(x_fold)[inds] < 0.3]\n",
    "#     pred = light_curves[:, inds, n]\n",
    "    pred = light_curves[:, inds]#, 0]\n",
    "    pred = np.percentile(pred, [16, 50, 84], axis=0)\n",
    "    plt.plot(x_fold[inds], pred[1], color=\"C1\", label=\"model\")\n",
    "    art = plt.fill_between(x_fold[inds], pred[0], pred[2], color=\"C1\", alpha=0.5,\n",
    "                           zorder=1000)\n",
    "    art.set_edgecolor(\"none\")\n",
    "\n",
    "    # Annotate the plot with the planet's period\n",
    "    txt = \"period = {0:.4f} +/- {1:.4f} d ; TC = {2:.4f}\".format(\n",
    "        np.mean(trace[\"period\"]), np.std(trace[\"period\"]), np.mean(trace[\"t0\"])-2457000)\n",
    "    plt.annotate(txt, (0, 0), xycoords=\"axes fraction\",\n",
    "                 xytext=(5, 5), textcoords=\"offset points\",\n",
    "                 ha=\"left\", va=\"bottom\", fontsize=12)\n",
    "\n",
    "    plt.legend(fontsize=10, loc='upper center',ncol=2)\n",
    "\n",
    "    plt.xlabel(\"time since transit [Hrs]\")\n",
    "    plt.ylabel(\"relative flux\")\n",
    "    plt.title(\"TIC {0}-{1} ; Sector {2}\".format(ID, letter, Sector));\n",
    "    plt.xlim(-3*Durations,3*Durations)\n",
    "    plt.savefig(MCMCfigpath+\"TIC_\"+str(ID)+\"_Sector_\"+str(Sector)+'_PFLC_finalguess.png',\\\n",
    "                bbox_inches='tight')\n",
    "    plt.close()\n",
    "\n",
    "RE = 6.378 * 10**8  #cm\n",
    "RS = 6.955 * 10**10 #cm\n",
    "print('True Period: ',Periods)\n",
    "print('True time start: ',T0s)\n",
    "print('True planet radius (RE): ', np.sqrt(1-(1-(Depths/1000)))*R_star*RS/RE) #converting ppt to ppo\n",
    "print('True Stellar radius (RS): ',R_star)    \n",
    "\n",
    "plt.plot(x_fold[inds], pred[1], \"C1\")\n",
    "art = plt.fill_between(x_fold[inds], pred[0], pred[2], color=\"C1\", alpha=0.5,\n",
    "                       zorder=1000)\n",
    "art.set_edgecolor(\"none\")\n",
    "\n",
    "plt.plot(x_fold, model.y - mean_mod - others, \".k\", label=\"data\", zorder=-1000)\n",
    "#x_fold_synthetic=(T - TLS_TC + 0.5*TLS_P) % TLS_P - 0.5*TLS_P\n",
    "#plt.plot(x_fold_synthetic,synthetic_signal-1,'r.')    \n",
    "plt.xlim(-3*Durations,3*Durations)\n",
    "#     plt.ylim(-0.005,0.005)\n",
    "plt.xlabel('time since transit [Hrs]')\n",
    "plt.ylabel('relative flux')\n",
    "plt.savefig(MCMCfigpath+\"TIC_\"+str(ID)+\"_Sector_\"+str(Sector)+'_PFLC_finalguess_comparison.png'\\\n",
    "            ,bbox_inches='tight')\n",
    "#     plt.show()\n",
    "plt.close()\n",
    "\n",
    "print('making posterior plots')\n",
    "print('')\n",
    "\n",
    "# Convert to Earth radii\n",
    "r_pl = trace[\"r\"]*R_star/RE  #rp/sun\n",
    "samples = np.concatenate((r_pl, trace[\"b\"]), axis=-1)\n",
    "\n",
    "# labels = [\"$R_{{\\mathrm{{Pl}},{0}}}$ [$R_\\oplus$]\".format(i) for i in letters]\n",
    "# labels += [\"impact param {0}\".format(i) for i in letters]\n",
    "\n",
    "# corner.corner(samples, labels=labels, show_titles=True, title_kwargs=dict(fontsize=10));\n",
    "# plt.show()\n",
    "\n",
    "labels = [\"$P_{{{0}}}$ [days]\".format(i) for i in letters]\n",
    "labels += [\"$t0_{{{0}}} $ [TBJD]\".format(i) for i in letters]\n",
    "# labels += [\"$R_{{\\mathrm{{Pl}},{0}}}$ \".format(i) for i in letters]\n",
    "labels += [\"$R_{P}/R_{S}$ \"]#.format(i) for i in letters]\n",
    "labels += [\"impact param {0}\".format(i) for i in letters]\n",
    "\n",
    "n=len(letters)\n",
    "samples = pm.trace_to_dataframe(trace, varnames=[\"period\", \"t0\",\"r\",\"b\"])\n",
    "truth = np.concatenate(xo.eval_in_model([tt.as_tensor_variable([Periods]), tt.as_tensor_variable([T0s-2457000])], model.test_point, model=model))\n",
    "\n",
    "\n",
    "ndim=4\n",
    "value1= model.map_soln[\"mean\"]\n",
    "value2=np.mean(samples, axis=0)\n",
    "# Make the base corner plot\n",
    "figure = corner.corner(samples,labels=labels, quantiles=[0.16, 0.5, 0.84],show_titles=True, title_kwargs=dict(fontsize=10));\n",
    "\n",
    "# Extract the axes\n",
    "axes = np.array(figure.axes).reshape((ndim, ndim))\n",
    "\n",
    "# Loop over the diagonal\n",
    "for i in range(ndim):\n",
    "    ax = axes[i, i]\n",
    "    ax.axvline(value1, color=\"g\")\n",
    "    ax.axvline(value2[i], color=\"r\")\n",
    "# Loop over the histograms\n",
    "for yi in range(ndim):\n",
    "    for xi in range(yi):\n",
    "        ax = axes[yi, xi]\n",
    "        ax.axvline(value2[xi], color=\"r\")\n",
    "        ax.axhline(value2[yi], color=\"r\")\n",
    "        ax.plot(value2[xi], value2[yi], \"sr\")\n",
    "\n",
    "figure.tight_layout()               \n",
    "figure.savefig(MCMCfigpath+\"TIC_\"+str(ID)+\"_Sector_\"+str(Sector)+'_MCMC_posteriors.png',\\\n",
    "               bbox_inches='tight')\n",
    "#     figure.show()\n",
    "plt.close()"
   ]
  },
  {
   "cell_type": "code",
   "execution_count": null,
   "metadata": {
    "scrolled": true
   },
   "outputs": [],
   "source": [
    "print(R_star,logg)"
   ]
  },
  {
   "cell_type": "code",
   "execution_count": null,
   "metadata": {
    "scrolled": true
   },
   "outputs": [],
   "source": [
    "print('ok')"
   ]
  },
  {
   "cell_type": "code",
   "execution_count": null,
   "metadata": {
    "scrolled": true
   },
   "outputs": [],
   "source": [
    "\n",
    "#testing\n",
    "periods = np.atleast_1d(Periods)[0]\n",
    "t0s = np.atleast_1d(T0s)[0]\n",
    "depths = np.atleast_1d(Depths)[0]\n",
    "r_guess = np.sqrt(Depths) # R_Planet / R_Star\n",
    "\n",
    "with pm.Model() as model:\n",
    "    BoundedNormal = pm.Bound(pm.Normal, lower=0, upper=3)\n",
    "    r_star = BoundedNormal(\"r_star\", mu=R_star, sd=R_star_err)\n",
    "    mean = pm.Normal(\"mean\", mu=0.0, sd=1.0)\n",
    "        \n",
    "    logg_star = pm.Normal(\"logg_star\", mu=logg, sd=logg_err)\n",
    "#     r_star = pm.Bound(pm.Normal, lower=0.0)(\"r_star\", mu=R_star, sd=R_star_err)\n",
    "    rho_star = pm.Deterministic(\"rho_star\", 10**logg / r_star)\n",
    "\n",
    "\n",
    "\n",
    "    # The time of a reference transit for each planet\n",
    "    t0 = pm.Normal(\"t0\", mu=t0s, sd=1.0)#, shape=2)\n",
    "\n",
    "    # The log period; also tracking the period itself\n",
    "    #Problem?\n",
    "    logP = pm.Normal(\"logP\", mu=np.log(periods), sd=0.1)#, shape=2)\n",
    "    period = pm.Deterministic(\"period\", pm.math.exp(logP))\n",
    "\n",
    "    # The Kipping (2013) parameterization for quadratic limb darkening paramters\n",
    "    u = xo.distributions.QuadLimbDark(\"u\", testval=np.array([qld_a,qld_b]))\n",
    "\n",
    "    # The Espinoza (2018) parameterization for the joint radius ratio and\n",
    "    # impact parameter distribution\n",
    "    r, b = xo.distributions.get_joint_radius_impact(\n",
    "        min_radius=r_guess-0.01, max_radius=r_guess+0.01, \n",
    "        testval_r=r_guess, testval_b=np.random.uniform(0,1))\n",
    "\n",
    "    r_planet = pm.Deterministic(\"r_pl\", r * R_star)\n",
    "\n",
    "\n",
    "    # This shouldn't make a huge difference, but I like to put a uniform\n",
    "    # prior on the *log* of the radius ratio instead of the value. This\n",
    "    # can be implemented by adding a custom \"potential\" (log probability).\n",
    "    pm.Potential(\"r_prior\", -pm.math.log(r))\n",
    "\n",
    "    # Set up a Keplerian orbit for the planets\n",
    "    orbit = xo.orbits.KeplerianOrbit(period=period, t0=t0, b=b,\\\n",
    "                                    r_star=r_star, rho_star=rho_star)\n",
    "    \n",
    "    trace = pm.sample(100)"
   ]
  },
  {
   "cell_type": "code",
   "execution_count": null,
   "metadata": {
    "scrolled": false
   },
   "outputs": [],
   "source": [
    "print(pm.trace)"
   ]
  },
  {
   "cell_type": "code",
   "execution_count": null,
   "metadata": {
    "scrolled": false
   },
   "outputs": [],
   "source": [
    "pm.traceplot(trace)"
   ]
  },
  {
   "cell_type": "code",
   "execution_count": null,
   "metadata": {
    "scrolled": false
   },
   "outputs": [],
   "source": [
    "_, ax = plt.subplots(figsize=(12, 6))\n",
    "ax.hist([n.mean() for n in ppc['R_star']], bins=19, alpha=0.5)\n",
    "ax.axvline(data.mean())\n",
    "ax.set(title='Posterior predictive of the mean', xlabel='mean(x)', ylabel='Frequency');"
   ]
  },
  {
   "cell_type": "code",
   "execution_count": null,
   "metadata": {
    "scrolled": false
   },
   "outputs": [],
   "source": [
    "print(type(model))"
   ]
  },
  {
   "cell_type": "code",
   "execution_count": null,
   "metadata": {
    "scrolled": false
   },
   "outputs": [],
   "source": [
    "samples = pm.trace_to_dataframe(model, varnames=[\"period\", \"t0\",\"r\",\"b\"])"
   ]
  },
  {
   "cell_type": "code",
   "execution_count": null,
   "metadata": {
    "scrolled": false
   },
   "outputs": [],
   "source": []
  }
 ],
 "metadata": {
  "kernelspec": {
   "display_name": "py3.6",
   "language": "python",
   "name": "py3.6"
  },
  "language_info": {
   "codemirror_mode": {
    "name": "ipython",
    "version": 3
   },
   "file_extension": ".py",
   "mimetype": "text/x-python",
   "name": "python",
   "nbconvert_exporter": "python",
   "pygments_lexer": "ipython3",
   "version": "3.7.7"
  }
 },
 "nbformat": 4,
 "nbformat_minor": 2
}
