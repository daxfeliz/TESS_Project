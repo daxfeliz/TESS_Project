{
 "cells": [
  {
   "cell_type": "code",
   "execution_count": 1,
   "metadata": {},
   "outputs": [],
   "source": [
    "# from https://www.w3schools.com/python/python_mysql_create_db.asp\n",
    "h='localhost'\n",
    "u='root'\n",
    "pw='Daxthejew'\n",
    "\n",
    "import mysql.connector\n",
    "\n",
    "mydb = mysql.connector.connect(host=h,user=u, password=pw)"
   ]
  },
  {
   "cell_type": "code",
   "execution_count": 2,
   "metadata": {},
   "outputs": [
    {
     "name": "stdout",
     "output_type": "stream",
     "text": [
      "('information_schema',)\n",
      "('mysql',)\n",
      "('performance_schema',)\n",
      "('sys',)\n",
      "('TESS_South',)\n",
      "('test',)\n"
     ]
    }
   ],
   "source": [
    "# make test database\n",
    "\n",
    "mycursor = mydb.cursor()\n",
    "#check if database exits (if it does run 'drop database test' instead)\n",
    "\n",
    "mycursor.execute(\"SHOW DATABASES\")\n",
    "\n",
    "for x in mycursor:\n",
    "    print(x)\n"
   ]
  },
  {
   "cell_type": "markdown",
   "metadata": {},
   "source": [
    "# Let's try making a database for ecliptic longitudes and latitudes to filter"
   ]
  },
  {
   "cell_type": "code",
   "execution_count": 3,
   "metadata": {},
   "outputs": [
    {
     "data": {
      "image/png": "[encoded data removed]",
      "text/plain": [
       "<Figure size 432x288 with 1 Axes>"
      ]
     },
     "metadata": {
      "needs_background": "light"
     },
     "output_type": "display_data"
    }
   ],
   "source": [
    "import numpy as np\n",
    "from matplotlib import pyplot as plt\n",
    "import pandas as pd\n",
    "def SouthernHemisphere():\n",
    "    #1st create southern hemisphere\n",
    "    ECLONGS=[]\n",
    "    ECLATS =[]\n",
    "    for x in range(360+1):\n",
    "        eclong = np.linspace(x,x+1,100)\n",
    "        eclat = np.linspace(-90,0,100)\n",
    "        ECLONGS=np.append(ECLONGS,eclong)\n",
    "        ECLATS=np.append(ECLATS,eclat)    \n",
    "        \n",
    "        data=pd.DataFrame({'eclong':ECLONGS,'eclat':ECLATS})\n",
    "    return data\n",
    "\n",
    "data = SouthernHemisphere()\n",
    "\n",
    "plt.plot(data['eclong'],data['eclat'])\n",
    "plt.xlim(-10,370)\n",
    "plt.xticks(np.arange(0,360+45,45))\n",
    "plt.yticks(np.arange(-90,0+15,15))\n",
    "plt.savefig('SouthernHemisphere.png')\n",
    "plt.show()\n",
    "\n",
    "#save data as csv file\n",
    "\n",
    "data.to_csv('SouthernHemisphere.csv')"
   ]
  },
  {
   "cell_type": "code",
   "execution_count": 4,
   "metadata": {},
   "outputs": [
    {
     "name": "stdout",
     "output_type": "stream",
     "text": [
      "('information_schema',)\n",
      "('mysql',)\n",
      "('performance_schema',)\n",
      "('sys',)\n",
      "('TESS_South',)\n",
      "('test',)\n"
     ]
    }
   ],
   "source": [
    "mydb = mysql.connector.connect(host=h, user=u, password=pw)\n",
    "mycursor = mydb.cursor()\n",
    "\n",
    "# mycursor.execute(\"drop DATABASE TESSSouth\")\n",
    "# mycursor.execute(\"create DATABASE TESSSouth\")\n",
    "mycursor.execute(\"SHOW DATABASES\")\n",
    "\n",
    "for x in mycursor:\n",
    "    print(x)"
   ]
  },
  {
   "cell_type": "code",
   "execution_count": 14,
   "metadata": {},
   "outputs": [],
   "source": [
    "# mydb = mysql.connector.connect(host=h, user=u, password=pw,database=\"TESSSouth\", allow_local_infile=True)\n",
    "# mycursor = mydb.cursor()\n",
    "# #make table with id, eclong, eclat in coordinates table\n",
    "# sql=\"CREATE TABLE coordinates (id INT NOT NULL AUTO_INCREMENT, eclong VARCHAR(255) NOT NULL, eclat VARCHAR(255) NOT NULL, PRIMARY KEY (id));\"\n",
    "\n",
    "# mycursor.execute(sql)"
   ]
  },
  {
   "cell_type": "code",
   "execution_count": 5,
   "metadata": {},
   "outputs": [
    {
     "name": "stdout",
     "output_type": "stream",
     "text": [
      "('coords',)\n"
     ]
    }
   ],
   "source": [
    "from mysql.connector.constants import ClientFlag\n",
    "mydb = mysql.connector.connect(host=h, user=u, password=pw, database=\"TESS_South\", allow_local_infile=True, client_flags=[ClientFlag.LOCAL_FILES])\n",
    "mycursor = mydb.cursor()\n",
    "mycursor.execute(\"show tables\")\n",
    "for x in mycursor:\n",
    "    print(x)"
   ]
  },
  {
   "cell_type": "code",
   "execution_count": 6,
   "metadata": {},
   "outputs": [
    {
     "data": {
      "text/html": [
       "<div>\n",
       "<style scoped>\n",
       "    .dataframe tbody tr th:only-of-type {\n",
       "        vertical-align: middle;\n",
       "    }\n",
       "\n",
       "    .dataframe tbody tr th {\n",
       "        vertical-align: top;\n",
       "    }\n",
       "\n",
       "    .dataframe thead th {\n",
       "        text-align: right;\n",
       "    }\n",
       "</style>\n",
       "<table border=\"1\" class=\"dataframe\">\n",
       "  <thead>\n",
       "    <tr style=\"text-align: right;\">\n",
       "      <th></th>\n",
       "      <th>eclong</th>\n",
       "      <th>eclat</th>\n",
       "    </tr>\n",
       "  </thead>\n",
       "  <tbody>\n",
       "    <tr>\n",
       "      <th>0</th>\n",
       "      <td>0.000000</td>\n",
       "      <td>-90.000000</td>\n",
       "    </tr>\n",
       "    <tr>\n",
       "      <th>1</th>\n",
       "      <td>0.010101</td>\n",
       "      <td>-89.090909</td>\n",
       "    </tr>\n",
       "    <tr>\n",
       "      <th>2</th>\n",
       "      <td>0.020202</td>\n",
       "      <td>-88.181818</td>\n",
       "    </tr>\n",
       "    <tr>\n",
       "      <th>3</th>\n",
       "      <td>0.030303</td>\n",
       "      <td>-87.272727</td>\n",
       "    </tr>\n",
       "    <tr>\n",
       "      <th>4</th>\n",
       "      <td>0.040404</td>\n",
       "      <td>-86.363636</td>\n",
       "    </tr>\n",
       "    <tr>\n",
       "      <th>...</th>\n",
       "      <td>...</td>\n",
       "      <td>...</td>\n",
       "    </tr>\n",
       "    <tr>\n",
       "      <th>36095</th>\n",
       "      <td>360.959596</td>\n",
       "      <td>-3.636364</td>\n",
       "    </tr>\n",
       "    <tr>\n",
       "      <th>36096</th>\n",
       "      <td>360.969697</td>\n",
       "      <td>-2.727273</td>\n",
       "    </tr>\n",
       "    <tr>\n",
       "      <th>36097</th>\n",
       "      <td>360.979798</td>\n",
       "      <td>-1.818182</td>\n",
       "    </tr>\n",
       "    <tr>\n",
       "      <th>36098</th>\n",
       "      <td>360.989899</td>\n",
       "      <td>-0.909091</td>\n",
       "    </tr>\n",
       "    <tr>\n",
       "      <th>36099</th>\n",
       "      <td>361.000000</td>\n",
       "      <td>0.000000</td>\n",
       "    </tr>\n",
       "  </tbody>\n",
       "</table>\n",
       "<p>36100 rows × 2 columns</p>\n",
       "</div>"
      ],
      "text/plain": [
       "           eclong      eclat\n",
       "0        0.000000 -90.000000\n",
       "1        0.010101 -89.090909\n",
       "2        0.020202 -88.181818\n",
       "3        0.030303 -87.272727\n",
       "4        0.040404 -86.363636\n",
       "...           ...        ...\n",
       "36095  360.959596  -3.636364\n",
       "36096  360.969697  -2.727273\n",
       "36097  360.979798  -1.818182\n",
       "36098  360.989899  -0.909091\n",
       "36099  361.000000   0.000000\n",
       "\n",
       "[36100 rows x 2 columns]"
      ]
     },
     "execution_count": 6,
     "metadata": {},
     "output_type": "execute_result"
    }
   ],
   "source": [
    "data"
   ]
  },
  {
   "cell_type": "code",
   "execution_count": 7,
   "metadata": {},
   "outputs": [],
   "source": [
    "# mydb = mysql.connector.connect(host=h, user=u, password=pw, database=\"TESS_South\", allow_local_infile=True)#, client_flags=[ClientFlag.LOCAL_FILES])\n",
    "# cursor = mydb.cursor()\n",
    "\n",
    "# import os\n",
    "# filepath=os.getcwd()+'/SouthernHemisphere.csv'\n",
    "\n",
    "\n",
    "# # Now load csv into sql table\n",
    "# LoadSQL = \"\"\"LOAD DATA LOCAL INFILE '%s'\n",
    "#     INTO TABLE %s\n",
    "#     FIELDS TERMINATED BY ',' ENCLOSED BY '\"'\n",
    "#     LINES TERMINATED BY '\\r\\n'\n",
    "#     IGNORE 1 LINES;\n",
    "#     (id, eclong, eclat)\"\"\" % (filepath, 'coordinates')\n",
    "\n",
    "# cursor.execute(LoadSQL)\n",
    "# mydb.commit()\n",
    "# cursor.close()\n",
    "# mydb.close()"
   ]
  },
  {
   "cell_type": "code",
   "execution_count": null,
   "metadata": {},
   "outputs": [],
   "source": [
    "# config = {\n",
    "#     'user': u,\n",
    "#     'password': pw,\n",
    "#     'host': h,\n",
    "#     'buffered': True,\n",
    "#     'allow_local_infile':True,\n",
    "#     'client_flags': [ClientFlag.SSL]\n",
    "# }\n",
    "\n",
    "\n",
    "\n",
    "# mydb = mysql.connector.connect(**config)\n",
    "# mycursor = mydb.cursor()\n",
    "# mycursor.execute(\"drop DATABASE TESSSouth\")\n",
    "# mycursor.execute(\"create DATABASE TESS_South\")\n",
    "# mycursor.execute(\"use TESS_South\")\n",
    "# mycursor.execute(\"create table coords (id char(13), eclong decimal(12,8), eclat decimal(12,8));\")\n"
   ]
  },
  {
   "cell_type": "code",
   "execution_count": 8,
   "metadata": {},
   "outputs": [],
   "source": [
    "# import mysql.connector\n",
    "# from mysql.connector.constants import ClientFlag\n",
    "\n",
    "# config = {\n",
    "#     'user': u,\n",
    "#     'password': pw,\n",
    "#     'host': h,\n",
    "#     'database': 'TESS_South',\n",
    "#     'buffered': True,\n",
    "#     'allow_local_infile':True,\n",
    "#     'client_flags': [ClientFlag.SSL]\n",
    "# }\n",
    "\n",
    "\n",
    "\n",
    "# mydb = mysql.connector.connect(**config)\n",
    "# cursor = mydb.cursor()\n",
    "# cursor.execute('set global local_infile=1')\n",
    "\n",
    "# import os\n",
    "# filepath=os.getcwd()+'/SouthernHemisphere.csv'\n",
    "\n",
    "# # Now load csv into sql table\n",
    "# LoadSQL = \"load data local infile '\"+str(filepath)+\"' into table coords fields terminated by ',' (id,eclong,eclat);\"\n",
    "\n",
    "# cursor.execute(LoadSQL)\n",
    "# mydb.commit()\n",
    "# cursor.close()\n",
    "# mydb.close()"
   ]
  },
  {
   "cell_type": "markdown",
   "metadata": {},
   "source": [
    "# Now that we uploaded our simulated darta to mysql, let's see if we can properly filter by sector"
   ]
  },
  {
   "cell_type": "code",
   "execution_count": 43,
   "metadata": {},
   "outputs": [
    {
     "data": {
      "image/png": "[encoded data removed]",
      "text/plain": [
       "<Figure size 720x360 with 1 Axes>"
      ]
     },
     "metadata": {
      "needs_background": "light"
     },
     "output_type": "display_data"
    },
    {
     "data": {
      "image/png": "[encoded data removed]",
      "text/plain": [
       "<Figure size 720x360 with 4 Axes>"
      ]
     },
     "metadata": {
      "needs_background": "light"
     },
     "output_type": "display_data"
    }
   ],
   "source": [
    "#This is what the filtered sectors should look like:\n",
    "\n",
    "def SectorBounds_shift(Sector):\n",
    "    #1st create southern hemisphere\n",
    "    ECLONGS=[]\n",
    "    ECLATS =[]\n",
    "    for x in range(360+1):\n",
    "        eclong = np.linspace(x,x+1,100)\n",
    "        eclat = np.linspace(-90,0,100)\n",
    "        ECLONGS=np.append(ECLONGS,eclong)\n",
    "        ECLATS=np.append(ECLATS,eclat)    \n",
    "    #then store in dataframe\n",
    "    simDF=pd.DataFrame({\"eclong\":ECLONGS,\"eclat\":ECLATS})    \n",
    "    \n",
    "    #then make sky cut depending on Sector\n",
    "    #these are central ecliptic longitude pointings for S1 - S13\n",
    "    ctr_eclongs = [315.8,343,10.94,38.48,65.85,92.85,119.738980,146.15,172.28,198.72,225.93,253.56,281.12]\n",
    "    \n",
    "    Sector_ind=Sector-1 #zero indexing\n",
    "    \n",
    "    x = np.array(np.remainder(simDF['eclong']+360-ctr_eclongs[Sector_ind],360)) # shift lon values\n",
    "    ind = x>180\n",
    "    x[ind] -=360    # scale conversion to [-180, 180]\n",
    "    x=-x    # reverse the scale: East to the left\n",
    "    \n",
    "#     cut = (x < 12/np.cos(simDF['eclat']*np.pi/180)) & (-12/np.cos(simDF['eclat']*np.pi/180) < x)\n",
    "    cut = np.abs(x) < 12/np.cos(simDF['eclat']*np.pi/180)\n",
    "    cutDF = simDF.loc[(simDF['eclat'] < -6) & (cut) ]\n",
    "    \n",
    "    return cutDF\n",
    "\n",
    "\n",
    "S1 = SectorBounds_shift(1)\n",
    "S2 = SectorBounds_shift(2)\n",
    "S3 = SectorBounds_shift(3)\n",
    "S4 = SectorBounds_shift(4)\n",
    "\n",
    "fig=plt.figure(figsize=(10,5))\n",
    "ax1=fig.add_subplot(111)\n",
    "# ax2=fig.add_subplot(412)\n",
    "# ax3=fig.add_subplot(413)\n",
    "# ax4=fig.add_subplot(414)\n",
    "\n",
    "ax1.plot(S1['eclong'],S1['eclat'])\n",
    "# ax2.plot(S2['eclong'],S2['eclat'])\n",
    "# ax3.plot(S3['eclong'],S3['eclat'])\n",
    "# ax4.plot(S4['eclong'],S4['eclat'])\n",
    "\n",
    "fig.text(0.45,-0.01,'Ecliptic Longitude',fontsize=12)\n",
    "fig.text(-0.01,0.45,'Ecliptic Latitude',rotation=90,fontsize=12)\n",
    "fig.tight_layout(pad=1)\n",
    "fig.savefig('Sector1_bounds.png',bbox_inches='tight')\n",
    "plt.show()\n",
    "\n",
    "\n",
    "\n",
    "def shift_lon_get_x(lon, origin):\n",
    "    x = np.array(np.remainder(lon+360-origin,360)) # shift lon values\n",
    "    ind = x>180\n",
    "    x[ind] -=360    # scale conversion to [-180, 180]\n",
    "    x=-x    # reverse the scale: East to the left\n",
    "    return x\n",
    "\n",
    "fig=plt.figure(figsize=(10,5))\n",
    "ax1=fig.add_subplot(411)\n",
    "ax2=fig.add_subplot(412)\n",
    "ax3=fig.add_subplot(413)\n",
    "ax4=fig.add_subplot(414)\n",
    "\n",
    "ax1.plot(shift_lon_get_x(S1['eclong'], 315),S1['eclat'])\n",
    "ax2.plot(shift_lon_get_x(S2['eclong'], 343),S2['eclat'])\n",
    "ax3.plot(shift_lon_get_x(S3['eclong'], 10.94),S3['eclat'])\n",
    "ax4.plot(shift_lon_get_x(S4['eclong'], 38),S4['eclat'])\n",
    "\n",
    "fig.text(0.45,-0.01,'Shifted to 0: Ecliptic Longitude',fontsize=12)\n",
    "fig.text(-0.01,0.45,'Ecliptic Latitude',rotation=90,fontsize=12)\n",
    "fig.tight_layout()\n",
    "plt.show()"
   ]
  },
  {
   "cell_type": "code",
   "execution_count": 162,
   "metadata": {},
   "outputs": [
    {
     "data": {
      "image/png": "[encoded data removed]",
      "text/plain": [
       "<Figure size 432x288 with 1 Axes>"
      ]
     },
     "metadata": {
      "needs_background": "light"
     },
     "output_type": "display_data"
    },
    {
     "data": {
      "image/png": "[encoded data removed]",
      "text/plain": [
       "<Figure size 432x288 with 1 Axes>"
      ]
     },
     "metadata": {
      "needs_background": "light"
     },
     "output_type": "display_data"
    }
   ],
   "source": [
    "import mysql.connector\n",
    "from mysql.connector.constants import ClientFlag\n",
    "import pandas as pd\n",
    "\n",
    "config = {\n",
    "    'user': u,\n",
    "    'password': pw,\n",
    "    'host': h,\n",
    "    'database': 'TESS_South',\n",
    "    'buffered': True,\n",
    "    'allow_local_infile':True,\n",
    "    'client_flags': [ClientFlag.SSL]\n",
    "}\n",
    "\n",
    "\n",
    "\n",
    "mydb = mysql.connector.connect(**config)\n",
    "cursor = mydb.cursor()\n",
    "\n",
    "#Sector 1\n",
    "# query = \"select * from coords where eclat < -6 and mod(abs(eclong+360-315.8),360) < 180 and mod(abs(eclong+360-315.8),360) < 12/cos(radians(eclat));\"\n",
    "# query = \"select * from coords where eclat < -6 and mod(abs(eclong-315.8+360),360)-360 < 180 and mod(abs(eclong-315.8),360) < 12/cos(radians(eclat));\"\n",
    "\n",
    "query = \"\"\"select * from coords\n",
    "    where eclat < -6\n",
    "    and mod(abs(eclong-315.8+360),360)-360 < 180\n",
    "    and mod(abs(eclong-315.8),360) < 12/cos(radians(eclat))\n",
    "    \"\"\"\n",
    "\n",
    "# lon+360-origin%360\n",
    "\n",
    "# query = \"\"\"select * from coords\n",
    "#     where eclat < -6\n",
    "#     and abs(eclong-315.8) < 12/cos(radians(eclat))\n",
    "#     \"\"\"\n",
    "\n",
    "\n",
    "cursor.execute(query)\n",
    "import csv\n",
    "rows = cursor.fetchall()\n",
    "headers = [col[0] for col in cursor.description] # get headers\n",
    "fp = open('filter1.csv', 'w')\n",
    "myFile = csv.writer(fp)\n",
    "myFile.writerow(headers)\n",
    "myFile.writerows(rows)\n",
    "fp.close()\n",
    "\n",
    "filter1=pd.read_csv('filter1.csv')\n",
    "plt.plot(shift_lon_get_x(S1['eclong'],315.8),S1['eclat'],'r.',label='Python')\n",
    "plt.plot(shift_lon_get_x(filter1['eclong'],315.8),filter1['eclat'],'b.',label='SQL')\n",
    "# plt.xlim(-10,370)\n",
    "# plt.ylim(-100,10)\n",
    "plt.xticks(np.arange(0-360,360+45,45))\n",
    "plt.yticks(np.arange(-90,0+15,15))\n",
    "plt.xlabel('Ecliptic Longitude')\n",
    "plt.ylabel('Ecliptic Latitude')\n",
    "plt.legend(loc='upper left',ncol=2)\n",
    "plt.tight_layout(pad=1)\n",
    "plt.savefig('SQL_vs_Python_query_S1.png',bbox_inches='tight')\n",
    "plt.show()\n",
    "\n",
    "\n",
    "\n",
    "\n",
    "query = \"\"\"select * from coords\n",
    "    where eclat < -6\n",
    "    and mod(abs((eclong-315.8)),360) < 12/cos(radians(eclat))\n",
    "    \"\"\"\n",
    "\n",
    "\n",
    "cursor.execute(query)\n",
    "import csv\n",
    "rows = cursor.fetchall()\n",
    "headers = [col[0] for col in cursor.description] # get headers\n",
    "fp = open('filter1.csv', 'w')\n",
    "myFile = csv.writer(fp)\n",
    "myFile.writerow(headers)\n",
    "myFile.writerows(rows)\n",
    "fp.close()\n",
    "\n",
    "filter1=pd.read_csv('filter1.csv')\n",
    "plt.plot(shift_lon_get_x(S1['eclong'],315.8),S1['eclat'],'r.',label='Python')\n",
    "plt.plot(shift_lon_get_x(filter1['eclong'],315.8),filter1['eclat'],'b.',label='SQL')\n",
    "# plt.xlim(-10,370)\n",
    "# plt.ylim(-100,10)\n",
    "plt.xticks(np.arange(0-360,360+45,45))\n",
    "plt.yticks(np.arange(-90,0+15,15))\n",
    "plt.xlabel('Ecliptic Longitude')\n",
    "plt.ylabel('Ecliptic Latitude')\n",
    "plt.legend(loc='upper left',ncol=2)\n",
    "plt.tight_layout(pad=1)\n",
    "plt.savefig('SQL_vs_Python_query_S1.png',bbox_inches='tight')\n",
    "plt.show()"
   ]
  },
  {
   "cell_type": "code",
   "execution_count": 158,
   "metadata": {},
   "outputs": [
    {
     "name": "stdout",
     "output_type": "stream",
     "text": [
      "1\n"
     ]
    }
   ],
   "source": [
    "print(721%180)"
   ]
  },
  {
   "cell_type": "code",
   "execution_count": 128,
   "metadata": {},
   "outputs": [
    {
     "data": {
      "text/html": [
       "<div>\n",
       "<style scoped>\n",
       "    .dataframe tbody tr th:only-of-type {\n",
       "        vertical-align: middle;\n",
       "    }\n",
       "\n",
       "    .dataframe tbody tr th {\n",
       "        vertical-align: top;\n",
       "    }\n",
       "\n",
       "    .dataframe thead th {\n",
       "        text-align: right;\n",
       "    }\n",
       "</style>\n",
       "<table border=\"1\" class=\"dataframe\">\n",
       "  <thead>\n",
       "    <tr style=\"text-align: right;\">\n",
       "      <th></th>\n",
       "      <th>id</th>\n",
       "      <th>eclong</th>\n",
       "      <th>eclat</th>\n",
       "    </tr>\n",
       "  </thead>\n",
       "  <tbody>\n",
       "    <tr>\n",
       "      <th>0</th>\n",
       "      <td>0</td>\n",
       "      <td>0.000000</td>\n",
       "      <td>-90.000000</td>\n",
       "    </tr>\n",
       "    <tr>\n",
       "      <th>1</th>\n",
       "      <td>1</td>\n",
       "      <td>0.010101</td>\n",
       "      <td>-89.090909</td>\n",
       "    </tr>\n",
       "    <tr>\n",
       "      <th>2</th>\n",
       "      <td>2</td>\n",
       "      <td>0.020202</td>\n",
       "      <td>-88.181818</td>\n",
       "    </tr>\n",
       "    <tr>\n",
       "      <th>3</th>\n",
       "      <td>3</td>\n",
       "      <td>0.030303</td>\n",
       "      <td>-87.272727</td>\n",
       "    </tr>\n",
       "    <tr>\n",
       "      <th>4</th>\n",
       "      <td>4</td>\n",
       "      <td>0.040404</td>\n",
       "      <td>-86.363636</td>\n",
       "    </tr>\n",
       "    <tr>\n",
       "      <th>...</th>\n",
       "      <td>...</td>\n",
       "      <td>...</td>\n",
       "      <td>...</td>\n",
       "    </tr>\n",
       "    <tr>\n",
       "      <th>33568</th>\n",
       "      <td>36088</td>\n",
       "      <td>360.888889</td>\n",
       "      <td>-10.000000</td>\n",
       "    </tr>\n",
       "    <tr>\n",
       "      <th>33569</th>\n",
       "      <td>36089</td>\n",
       "      <td>360.898990</td>\n",
       "      <td>-9.090909</td>\n",
       "    </tr>\n",
       "    <tr>\n",
       "      <th>33570</th>\n",
       "      <td>36090</td>\n",
       "      <td>360.909091</td>\n",
       "      <td>-8.181818</td>\n",
       "    </tr>\n",
       "    <tr>\n",
       "      <th>33571</th>\n",
       "      <td>36091</td>\n",
       "      <td>360.919192</td>\n",
       "      <td>-7.272727</td>\n",
       "    </tr>\n",
       "    <tr>\n",
       "      <th>33572</th>\n",
       "      <td>36092</td>\n",
       "      <td>360.929293</td>\n",
       "      <td>-6.363636</td>\n",
       "    </tr>\n",
       "  </tbody>\n",
       "</table>\n",
       "<p>33573 rows × 3 columns</p>\n",
       "</div>"
      ],
      "text/plain": [
       "          id      eclong      eclat\n",
       "0          0    0.000000 -90.000000\n",
       "1          1    0.010101 -89.090909\n",
       "2          2    0.020202 -88.181818\n",
       "3          3    0.030303 -87.272727\n",
       "4          4    0.040404 -86.363636\n",
       "...      ...         ...        ...\n",
       "33568  36088  360.888889 -10.000000\n",
       "33569  36089  360.898990  -9.090909\n",
       "33570  36090  360.909091  -8.181818\n",
       "33571  36091  360.919192  -7.272727\n",
       "33572  36092  360.929293  -6.363636\n",
       "\n",
       "[33573 rows x 3 columns]"
      ]
     },
     "execution_count": 128,
     "metadata": {},
     "output_type": "execute_result"
    }
   ],
   "source": [
    "filter1"
   ]
  },
  {
   "cell_type": "code",
   "execution_count": null,
   "metadata": {},
   "outputs": [],
   "source": []
  },
  {
   "cell_type": "code",
   "execution_count": null,
   "metadata": {},
   "outputs": [],
   "source": [
    "# x = np.array(np.remainder(simDF['eclong']+360-ctr_eclongs[Sector_ind],360)) # shift lon values\n",
    "# ind = x>180\n",
    "# x[ind] -=360    # scale conversion to [-180, 180]\n",
    "# x=-x    # reverse the scale: East to the left"
   ]
  },
  {
   "cell_type": "code",
   "execution_count": null,
   "metadata": {},
   "outputs": [],
   "source": []
  },
  {
   "cell_type": "code",
   "execution_count": null,
   "metadata": {},
   "outputs": [],
   "source": [
    "import mysql.connector\n",
    "from mysql.connector.constants import ClientFlag\n",
    "\n",
    "config = {\n",
    "    'user': u,\n",
    "    'password': pw,\n",
    "    'host': h,\n",
    "    'database': 'TESS_South',\n",
    "    'buffered': True,\n",
    "    'allow_local_infile':True,\n",
    "    'client_flags': [ClientFlag.SSL]\n",
    "}\n",
    "\n",
    "\n",
    "\n",
    "mydb = mysql.connector.connect(**config)\n",
    "cursor = mydb.cursor()\n",
    "\n",
    "#Sector 1\n",
    "query = \"\"\"select * from coords\n",
    "    where eclat < -6\n",
    "    and mod(abs(eclong-315.8+360),360)-360 < 180\n",
    "    and mod(abs(eclong-315.8),360) < 12/cos(radians(eclat))\n",
    "    \"\"\"\n",
    "#try a case statement\n",
    "query = \"\"\"select * from coords,\n",
    "    case \n",
    "    when eclat < -6 then eclong-360\n",
    "    else eclong\n",
    "    end as good_eclong\n",
    "    from 'eclong'\"\"\"\n",
    "\n",
    "\n",
    "cursor.execute(query)\n",
    "import csv\n",
    "rows = cursor.fetchall()\n",
    "headers = [col[0] for col in cursor.description] # get headers\n",
    "fp = open('filter2.csv', 'w')\n",
    "myFile = csv.writer(fp)\n",
    "myFile.writerow(headers)\n",
    "myFile.writerows(rows)\n",
    "fp.close()\n",
    "\n",
    "filter1=pd.read_csv('filter2.csv')\n",
    "plt.plot(shift_lon_get_x(S1['eclong'], 315),S1['eclat'],'r.')\n",
    "plt.plot(shift_lon_get_x(filter1['eclong'], 315),filter1['eclat'],'b.')\n",
    "# plt.xlim(-10,370)\n",
    "plt.xlim(-190,190)\n",
    "plt.ylim(-100,10)\n",
    "plt.xticks(np.arange(-180,180+45,45))\n",
    "plt.yticks(np.arange(-90,0+15,15))\n",
    "plt.show()"
   ]
  },
  {
   "cell_type": "code",
   "execution_count": null,
   "metadata": {},
   "outputs": [],
   "source": [
    "(eclat < -6 and mod(abs(eclong-315.8+360),360)-360 < 180 and mod(abs(eclong-315.8),360) < 12/cos(radians(eclat)))"
   ]
  },
  {
   "cell_type": "code",
   "execution_count": null,
   "metadata": {},
   "outputs": [],
   "source": []
  }
 ],
 "metadata": {
  "kernelspec": {
   "display_name": "py3.6",
   "language": "python",
   "name": "py3.6"
  },
  "language_info": {
   "codemirror_mode": {
    "name": "ipython",
    "version": 3
   },
   "file_extension": ".py",
   "mimetype": "text/x-python",
   "name": "python",
   "nbconvert_exporter": "python",
   "pygments_lexer": "ipython3",
   "version": "3.7.7"
  }
 },
 "nbformat": 4,
 "nbformat_minor": 2
}
