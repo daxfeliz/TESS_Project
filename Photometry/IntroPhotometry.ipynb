{
 "cells": [
  {
   "cell_type": "markdown",
   "metadata": {},
   "source": [
    "# Introduction to Photometry \n",
    "In this example, I will go over how to extract a photometric time series from the Full Frame Images from TESS.\n",
    "\n",
    "## First, what is the  TESS mission and how does it work?\n",
    "\n",
    "Open the image below in a new tab for Video Introduction:\n",
    "[![Youtube Video: ](https://img.youtube.com/vi/Q4KjvPIbgMI/0.jpg)](https://www.youtube.com/watch?v=Q4KjvPIbgMI)"
   ]
  },
  {
   "cell_type": "code",
   "execution_count": 1,
   "metadata": {},
   "outputs": [],
   "source": [
    "#or run this from your machine\n",
    "# from IPython.display import Audio,Image, YouTubeVideo\n",
    "# youtubeid='Q4KjvPIbgMI'\n",
    "# YouTubeVideo(id=youtubeid,width=800,height=400)"
   ]
  },
  {
   "cell_type": "markdown",
   "metadata": {},
   "source": [
    "As of today (May 29th, 2019), TESS is observing Sector 12 out of the 13 southern hemisphere sectors. For sectors 14-26, TESS will be begin observing the Northern hemisphere. There are tens of thousands of stars in each sector so there is plenty of work to do!"
   ]
  },
  {
   "cell_type": "markdown",
   "metadata": {},
   "source": [
    "Below are some very useful sites to bookmark for the future:\n",
    "\n",
    "## TESS Data Alerts (may need to register to use):\n",
    "[https://archive.stsci.edu/prepds/tess-data-alerts/](https://archive.stsci.edu/prepds/tess-data-alerts/)\n",
    "From MIT's Quick Look Pipeline (QLP, publication in preparation), special target stars in TESS are flagged for having interesting transit-like events or confirm previous discoveries or detections of known exoplanets. For most interesting flagged targets, there are two PDF reports: Data Validation Summary (dvs) and Data Validation Report (dvr). The dvs files are one page summary reports that show the light curves and detected transit-like events.\n",
    "\n",
    "Here is an example of an Ultra Short Period (USP) Super Earth-sized planet orbiting an M dwarf star:\n",
    "[https://archive.stsci.edu/hlsps/tess-data-alerts/hlsp_tess-data-alerts_tess_phot_00316937670-s01s02-01_tess_v1_dvs.pdf](https://archive.stsci.edu/hlsps/tess-data-alerts/hlsp_tess-data-alerts_tess_phot_00316937670-s01s02-01_tess_v1_dvs.pdf)\n",
    "\n",
    "## MAST\n",
    "[https://mast.stsci.edu/portal/Mashup/Clients/Mast/Portal.html](https://mast.stsci.edu/portal/Mashup/Clients/Mast/Portal.html)\n",
    "A very useful resource for searching stars that may be available in other astronomy surveys (like GAIA, 2MASS, Hipparcos, Tycho, etc).\n",
    "\n",
    "## SIMBAD\n",
    "[http://simbad.u-strasbg.fr/simbad/](http://simbad.u-strasbg.fr/simbad/)\n",
    "Much like MAST, SIMBAD is another search engine that is very useful in astronomy. You can also get a list of publications for a target from here to see previous work by others.\n",
    "\n",
    "## Web TESS viewing Tool\n",
    "[https://heasarc.gsfc.nasa.gov/cgi-bin/tess/webtess/wtv.py](https://heasarc.gsfc.nasa.gov/cgi-bin/tess/webtess/wtv.py)\n",
    "This is useful for checking when a target will or will not be observed by TESS\n",
    "\n",
    "## High precision TESS Light Curves Filtergraph\n",
    "[https://filtergraph.com/tess_ffi/](https://filtergraph.com/tess_ffi/)\n",
    "Ryan Oelkers and Keivan Stassun have provided incredibly useful already processed light curves available for download. I will show you how to extract light curves with \"Simple Aperture Photometry\" but these light curves have a much better methodology and we will be using this data extensively. [Read more about their work here.](https://arxiv.org/pdf/1803.02316.pdf)\n",
    "\n",
    "In the next section, I will show you how to use the Filtergraph website."
   ]
  },
  {
   "cell_type": "markdown",
   "metadata": {},
   "source": [
    "## How to get data from TESS?\n",
    "\n",
    "TESS uploads its data to the MAST catalogs. When you installed Astropy, a python module called Astroquery was also installed. So let's begin by importing the following."
   ]
  },
  {
   "cell_type": "code",
   "execution_count": 3,
   "metadata": {},
   "outputs": [],
   "source": [
    "import numpy as np\n",
    "import matplotlib.pyplot as plt\n",
    "from matplotlib import pylab\n",
    "from pylab import *\n",
    "import matplotlib.gridspec as gridspec\n",
    "\n",
    "import astropy\n",
    "from astroquery.mast import Catalogs\n",
    "from astroquery.mast import Tesscut\n",
    "from astropy.coordinates import SkyCoord\n",
    "from astropy.wcs import WCS\n",
    "from astropy.io import fits"
   ]
  },
  {
   "cell_type": "markdown",
   "metadata": {},
   "source": [
    "There are two main data products we are interested in. \n",
    "\n",
    "1) The Full Frame Images (FFI): These are images taken every 30 minutes of a sector. \n",
    "    \n",
    "2) Target Pixel Files (TPF): These are images taken every 2 minutes of a sector. \n",
    "    \n",
    "You can read more about these two and other data products here:\n",
    "[https://heasarc.gsfc.nasa.gov/docs/tess/data-access.html](https://heasarc.gsfc.nasa.gov/docs/tess/data-access.html)\n",
    "\n",
    "In case TPFs are available, let's also import this package from the Lightkurve module. \n",
    "\n",
    "Also, let's import the catalog_info package from the transitleastsquares module to quickly and easily query the MAST server for information on our target stars."
   ]
  },
  {
   "cell_type": "code",
   "execution_count": 1,
   "metadata": {},
   "outputs": [],
   "source": [
    "from lightkurve import search_targetpixelfile\n",
    "from transitleastsquares import catalog_info"
   ]
  },
  {
   "cell_type": "markdown",
   "metadata": {},
   "source": [
    "Let's start with the USP Super Earth orbiting the M dwarf star which has the Tess Input Catalog (TIC) ID:  316937670 "
   ]
  },
  {
   "cell_type": "code",
   "execution_count": 2,
   "metadata": {},
   "outputs": [
    {
     "name": "stdout",
     "output_type": "stream",
     "text": [
      "TIC ID:  121202851\n"
     ]
    },
    {
     "ename": "KeyboardInterrupt",
     "evalue": "",
     "output_type": "error",
     "traceback": [
      "\u001b[0;31m---------------------------------------------------------------------------\u001b[0m",
      "\u001b[0;31mTypeError\u001b[0m                                 Traceback (most recent call last)",
      "\u001b[0;32m~/anaconda/envs/py3.6/lib/python3.6/site-packages/urllib3/connectionpool.py\u001b[0m in \u001b[0;36m_make_request\u001b[0;34m(self, conn, method, url, timeout, chunked, **httplib_request_kw)\u001b[0m\n\u001b[1;32m    376\u001b[0m             \u001b[0;32mtry\u001b[0m\u001b[0;34m:\u001b[0m  \u001b[0;31m# Python 2.7, use buffering of HTTP responses\u001b[0m\u001b[0;34m\u001b[0m\u001b[0;34m\u001b[0m\u001b[0m\n\u001b[0;32m--> 377\u001b[0;31m                 \u001b[0mhttplib_response\u001b[0m \u001b[0;34m=\u001b[0m \u001b[0mconn\u001b[0m\u001b[0;34m.\u001b[0m\u001b[0mgetresponse\u001b[0m\u001b[0;34m(\u001b[0m\u001b[0mbuffering\u001b[0m\u001b[0;34m=\u001b[0m\u001b[0;32mTrue\u001b[0m\u001b[0;34m)\u001b[0m\u001b[0;34m\u001b[0m\u001b[0;34m\u001b[0m\u001b[0m\n\u001b[0m\u001b[1;32m    378\u001b[0m             \u001b[0;32mexcept\u001b[0m \u001b[0mTypeError\u001b[0m\u001b[0;34m:\u001b[0m  \u001b[0;31m# Python 3\u001b[0m\u001b[0;34m\u001b[0m\u001b[0;34m\u001b[0m\u001b[0m\n",
      "\u001b[0;31mTypeError\u001b[0m: getresponse() got an unexpected keyword argument 'buffering'",
      "\nDuring handling of the above exception, another exception occurred:\n",
      "\u001b[0;31mKeyboardInterrupt\u001b[0m                         Traceback (most recent call last)",
      "\u001b[0;32m<ipython-input-2-936d2f14d1e6>\u001b[0m in \u001b[0;36m<module>\u001b[0;34m\u001b[0m\n\u001b[1;32m      2\u001b[0m \u001b[0;34m\u001b[0m\u001b[0m\n\u001b[1;32m      3\u001b[0m \u001b[0mprint\u001b[0m\u001b[0;34m(\u001b[0m\u001b[0;34m\"TIC ID: \"\u001b[0m\u001b[0;34m,\u001b[0m\u001b[0mID\u001b[0m\u001b[0;34m)\u001b[0m\u001b[0;34m\u001b[0m\u001b[0;34m\u001b[0m\u001b[0m\n\u001b[0;32m----> 4\u001b[0;31m \u001b[0mqld\u001b[0m\u001b[0;34m,\u001b[0m \u001b[0mR_star\u001b[0m\u001b[0;34m,\u001b[0m \u001b[0mR_star_min\u001b[0m\u001b[0;34m,\u001b[0m \u001b[0mR_star_max\u001b[0m\u001b[0;34m,\u001b[0m \u001b[0mM_star\u001b[0m\u001b[0;34m,\u001b[0m \u001b[0mM_star_min\u001b[0m\u001b[0;34m,\u001b[0m \u001b[0mM_star_max\u001b[0m \u001b[0;34m=\u001b[0m \u001b[0mcatalog_info\u001b[0m\u001b[0;34m(\u001b[0m\u001b[0mTIC_ID\u001b[0m\u001b[0;34m=\u001b[0m\u001b[0mID\u001b[0m\u001b[0;34m)\u001b[0m\u001b[0;34m\u001b[0m\u001b[0;34m\u001b[0m\u001b[0m\n\u001b[0m\u001b[1;32m      5\u001b[0m \u001b[0;31m# qld, R_star, R_star_min, R_star_max, M_star, M_star_min, M_star_max = catalog_info(EPIC_ID=211611158)\u001b[0m\u001b[0;34m\u001b[0m\u001b[0;34m\u001b[0m\u001b[0;34m\u001b[0m\u001b[0m\n\u001b[1;32m      6\u001b[0m \u001b[0mprint\u001b[0m\u001b[0;34m(\u001b[0m\u001b[0;34m'Quadratic limb darkening q1, q2: '\u001b[0m\u001b[0;34m,\u001b[0m \u001b[0mqld\u001b[0m\u001b[0;34m[\u001b[0m\u001b[0;36m0\u001b[0m\u001b[0;34m]\u001b[0m\u001b[0;34m,\u001b[0m \u001b[0mqld\u001b[0m\u001b[0;34m[\u001b[0m\u001b[0;36m1\u001b[0m\u001b[0;34m]\u001b[0m\u001b[0;34m)\u001b[0m\u001b[0;34m\u001b[0m\u001b[0;34m\u001b[0m\u001b[0m\n",
      "\u001b[0;32m~/anaconda/envs/py3.6/lib/python3.6/site-packages/transitleastsquares/catalog.py\u001b[0m in \u001b[0;36mcatalog_info\u001b[0;34m(EPIC_ID, TIC_ID, KIC_ID)\u001b[0m\n\u001b[1;32m    115\u001b[0m     \u001b[0;32mif\u001b[0m \u001b[0mTIC_ID\u001b[0m \u001b[0;32mis\u001b[0m \u001b[0;32mnot\u001b[0m \u001b[0;32mNone\u001b[0m\u001b[0;34m:\u001b[0m\u001b[0;34m\u001b[0m\u001b[0;34m\u001b[0m\u001b[0m\n\u001b[1;32m    116\u001b[0m         Teff, logg, radius, radius_min, radius_max, mass, mass_min, mass_max = catalog_info_TIC(\n\u001b[0;32m--> 117\u001b[0;31m             \u001b[0mTIC_ID\u001b[0m\u001b[0;34m\u001b[0m\u001b[0;34m\u001b[0m\u001b[0m\n\u001b[0m\u001b[1;32m    118\u001b[0m         )\n\u001b[1;32m    119\u001b[0m         ld = numpy.genfromtxt(\n",
      "\u001b[0;32m~/anaconda/envs/py3.6/lib/python3.6/site-packages/transitleastsquares/catalog.py\u001b[0m in \u001b[0;36mcatalog_info_TIC\u001b[0;34m(TIC_ID)\u001b[0m\n\u001b[1;32m     71\u001b[0m         \u001b[0;32mraise\u001b[0m \u001b[0mImportError\u001b[0m\u001b[0;34m(\u001b[0m\u001b[0;34m\"Package astroquery required but failed to import\"\u001b[0m\u001b[0;34m)\u001b[0m\u001b[0;34m\u001b[0m\u001b[0;34m\u001b[0m\u001b[0m\n\u001b[1;32m     72\u001b[0m \u001b[0;34m\u001b[0m\u001b[0m\n\u001b[0;32m---> 73\u001b[0;31m     \u001b[0mresult\u001b[0m \u001b[0;34m=\u001b[0m \u001b[0mCatalogs\u001b[0m\u001b[0;34m.\u001b[0m\u001b[0mquery_criteria\u001b[0m\u001b[0;34m(\u001b[0m\u001b[0mcatalog\u001b[0m\u001b[0;34m=\u001b[0m\u001b[0;34m\"Tic\"\u001b[0m\u001b[0;34m,\u001b[0m \u001b[0mID\u001b[0m\u001b[0;34m=\u001b[0m\u001b[0mTIC_ID\u001b[0m\u001b[0;34m)\u001b[0m\u001b[0;34m.\u001b[0m\u001b[0mas_array\u001b[0m\u001b[0;34m(\u001b[0m\u001b[0;34m)\u001b[0m\u001b[0;34m\u001b[0m\u001b[0;34m\u001b[0m\u001b[0m\n\u001b[0m\u001b[1;32m     74\u001b[0m     \u001b[0mTeff\u001b[0m \u001b[0;34m=\u001b[0m \u001b[0mresult\u001b[0m\u001b[0;34m[\u001b[0m\u001b[0;36m0\u001b[0m\u001b[0;34m]\u001b[0m\u001b[0;34m[\u001b[0m\u001b[0;36m64\u001b[0m\u001b[0;34m]\u001b[0m\u001b[0;34m\u001b[0m\u001b[0;34m\u001b[0m\u001b[0m\n\u001b[1;32m     75\u001b[0m     \u001b[0mlogg\u001b[0m \u001b[0;34m=\u001b[0m \u001b[0mresult\u001b[0m\u001b[0;34m[\u001b[0m\u001b[0;36m0\u001b[0m\u001b[0;34m]\u001b[0m\u001b[0;34m[\u001b[0m\u001b[0;36m66\u001b[0m\u001b[0;34m]\u001b[0m\u001b[0;34m\u001b[0m\u001b[0;34m\u001b[0m\u001b[0m\n",
      "\u001b[0;32m~/anaconda/envs/py3.6/lib/python3.6/site-packages/astroquery/utils/class_or_instance.py\u001b[0m in \u001b[0;36mf\u001b[0;34m(*args, **kwds)\u001b[0m\n\u001b[1;32m     23\u001b[0m         \u001b[0;32mdef\u001b[0m \u001b[0mf\u001b[0m\u001b[0;34m(\u001b[0m\u001b[0;34m*\u001b[0m\u001b[0margs\u001b[0m\u001b[0;34m,\u001b[0m \u001b[0;34m**\u001b[0m\u001b[0mkwds\u001b[0m\u001b[0;34m)\u001b[0m\u001b[0;34m:\u001b[0m\u001b[0;34m\u001b[0m\u001b[0;34m\u001b[0m\u001b[0m\n\u001b[1;32m     24\u001b[0m             \u001b[0;32mif\u001b[0m \u001b[0mobj\u001b[0m \u001b[0;32mis\u001b[0m \u001b[0;32mnot\u001b[0m \u001b[0;32mNone\u001b[0m\u001b[0;34m:\u001b[0m\u001b[0;34m\u001b[0m\u001b[0;34m\u001b[0m\u001b[0m\n\u001b[0;32m---> 25\u001b[0;31m                 \u001b[0;32mreturn\u001b[0m \u001b[0mself\u001b[0m\u001b[0;34m.\u001b[0m\u001b[0mfn\u001b[0m\u001b[0;34m(\u001b[0m\u001b[0mobj\u001b[0m\u001b[0;34m,\u001b[0m \u001b[0;34m*\u001b[0m\u001b[0margs\u001b[0m\u001b[0;34m,\u001b[0m \u001b[0;34m**\u001b[0m\u001b[0mkwds\u001b[0m\u001b[0;34m)\u001b[0m\u001b[0;34m\u001b[0m\u001b[0;34m\u001b[0m\u001b[0m\n\u001b[0m\u001b[1;32m     26\u001b[0m             \u001b[0;32melse\u001b[0m\u001b[0;34m:\u001b[0m\u001b[0;34m\u001b[0m\u001b[0;34m\u001b[0m\u001b[0m\n\u001b[1;32m     27\u001b[0m                 \u001b[0;32mreturn\u001b[0m \u001b[0mself\u001b[0m\u001b[0;34m.\u001b[0m\u001b[0mfn\u001b[0m\u001b[0;34m(\u001b[0m\u001b[0mcls\u001b[0m\u001b[0;34m,\u001b[0m \u001b[0;34m*\u001b[0m\u001b[0margs\u001b[0m\u001b[0;34m,\u001b[0m \u001b[0;34m**\u001b[0m\u001b[0mkwds\u001b[0m\u001b[0;34m)\u001b[0m\u001b[0;34m\u001b[0m\u001b[0;34m\u001b[0m\u001b[0m\n",
      "\u001b[0;32m~/anaconda/envs/py3.6/lib/python3.6/site-packages/astroquery/utils/process_asyncs.py\u001b[0m in \u001b[0;36mnewmethod\u001b[0;34m(self, *args, **kwargs)\u001b[0m\n\u001b[1;32m     24\u001b[0m             \u001b[0mverbose\u001b[0m \u001b[0;34m=\u001b[0m \u001b[0mkwargs\u001b[0m\u001b[0;34m.\u001b[0m\u001b[0mpop\u001b[0m\u001b[0;34m(\u001b[0m\u001b[0;34m'verbose'\u001b[0m\u001b[0;34m,\u001b[0m \u001b[0;32mFalse\u001b[0m\u001b[0;34m)\u001b[0m\u001b[0;34m\u001b[0m\u001b[0;34m\u001b[0m\u001b[0m\n\u001b[1;32m     25\u001b[0m \u001b[0;34m\u001b[0m\u001b[0m\n\u001b[0;32m---> 26\u001b[0;31m             \u001b[0mresponse\u001b[0m \u001b[0;34m=\u001b[0m \u001b[0mgetattr\u001b[0m\u001b[0;34m(\u001b[0m\u001b[0mself\u001b[0m\u001b[0;34m,\u001b[0m \u001b[0masync_method_name\u001b[0m\u001b[0;34m)\u001b[0m\u001b[0;34m(\u001b[0m\u001b[0;34m*\u001b[0m\u001b[0margs\u001b[0m\u001b[0;34m,\u001b[0m \u001b[0;34m**\u001b[0m\u001b[0mkwargs\u001b[0m\u001b[0;34m)\u001b[0m\u001b[0;34m\u001b[0m\u001b[0;34m\u001b[0m\u001b[0m\n\u001b[0m\u001b[1;32m     27\u001b[0m             \u001b[0;32mif\u001b[0m \u001b[0mkwargs\u001b[0m\u001b[0;34m.\u001b[0m\u001b[0mget\u001b[0m\u001b[0;34m(\u001b[0m\u001b[0;34m'get_query_payload'\u001b[0m\u001b[0;34m)\u001b[0m \u001b[0;32mor\u001b[0m \u001b[0mkwargs\u001b[0m\u001b[0;34m.\u001b[0m\u001b[0mget\u001b[0m\u001b[0;34m(\u001b[0m\u001b[0;34m'field_help'\u001b[0m\u001b[0;34m)\u001b[0m\u001b[0;34m:\u001b[0m\u001b[0;34m\u001b[0m\u001b[0;34m\u001b[0m\u001b[0m\n\u001b[1;32m     28\u001b[0m                 \u001b[0;32mreturn\u001b[0m \u001b[0mresponse\u001b[0m\u001b[0;34m\u001b[0m\u001b[0;34m\u001b[0m\u001b[0m\n",
      "\u001b[0;32m~/anaconda/envs/py3.6/lib/python3.6/site-packages/astroquery/utils/class_or_instance.py\u001b[0m in \u001b[0;36mf\u001b[0;34m(*args, **kwds)\u001b[0m\n\u001b[1;32m     23\u001b[0m         \u001b[0;32mdef\u001b[0m \u001b[0mf\u001b[0m\u001b[0;34m(\u001b[0m\u001b[0;34m*\u001b[0m\u001b[0margs\u001b[0m\u001b[0;34m,\u001b[0m \u001b[0;34m**\u001b[0m\u001b[0mkwds\u001b[0m\u001b[0;34m)\u001b[0m\u001b[0;34m:\u001b[0m\u001b[0;34m\u001b[0m\u001b[0;34m\u001b[0m\u001b[0m\n\u001b[1;32m     24\u001b[0m             \u001b[0;32mif\u001b[0m \u001b[0mobj\u001b[0m \u001b[0;32mis\u001b[0m \u001b[0;32mnot\u001b[0m \u001b[0;32mNone\u001b[0m\u001b[0;34m:\u001b[0m\u001b[0;34m\u001b[0m\u001b[0;34m\u001b[0m\u001b[0m\n\u001b[0;32m---> 25\u001b[0;31m                 \u001b[0;32mreturn\u001b[0m \u001b[0mself\u001b[0m\u001b[0;34m.\u001b[0m\u001b[0mfn\u001b[0m\u001b[0;34m(\u001b[0m\u001b[0mobj\u001b[0m\u001b[0;34m,\u001b[0m \u001b[0;34m*\u001b[0m\u001b[0margs\u001b[0m\u001b[0;34m,\u001b[0m \u001b[0;34m**\u001b[0m\u001b[0mkwds\u001b[0m\u001b[0;34m)\u001b[0m\u001b[0;34m\u001b[0m\u001b[0;34m\u001b[0m\u001b[0m\n\u001b[0m\u001b[1;32m     26\u001b[0m             \u001b[0;32melse\u001b[0m\u001b[0;34m:\u001b[0m\u001b[0;34m\u001b[0m\u001b[0;34m\u001b[0m\u001b[0m\n\u001b[1;32m     27\u001b[0m                 \u001b[0;32mreturn\u001b[0m \u001b[0mself\u001b[0m\u001b[0;34m.\u001b[0m\u001b[0mfn\u001b[0m\u001b[0;34m(\u001b[0m\u001b[0mcls\u001b[0m\u001b[0;34m,\u001b[0m \u001b[0;34m*\u001b[0m\u001b[0margs\u001b[0m\u001b[0;34m,\u001b[0m \u001b[0;34m**\u001b[0m\u001b[0mkwds\u001b[0m\u001b[0;34m)\u001b[0m\u001b[0;34m\u001b[0m\u001b[0;34m\u001b[0m\u001b[0m\n",
      "\u001b[0;32m~/anaconda/envs/py3.6/lib/python3.6/site-packages/astroquery/mast/core.py\u001b[0m in \u001b[0;36mquery_criteria_async\u001b[0;34m(self, catalog, pagesize, page, **criteria)\u001b[0m\n\u001b[1;32m   2007\u001b[0m             \u001b[0mparams\u001b[0m\u001b[0;34m[\u001b[0m\u001b[0;34m\"columns\"\u001b[0m\u001b[0;34m]\u001b[0m \u001b[0;34m=\u001b[0m \u001b[0;34m\"*\"\u001b[0m\u001b[0;34m\u001b[0m\u001b[0;34m\u001b[0m\u001b[0m\n\u001b[1;32m   2008\u001b[0m \u001b[0;34m\u001b[0m\u001b[0m\n\u001b[0;32m-> 2009\u001b[0;31m         \u001b[0;32mreturn\u001b[0m \u001b[0mself\u001b[0m\u001b[0;34m.\u001b[0m\u001b[0mservice_request_async\u001b[0m\u001b[0;34m(\u001b[0m\u001b[0mservice\u001b[0m\u001b[0;34m,\u001b[0m \u001b[0mparams\u001b[0m\u001b[0;34m,\u001b[0m \u001b[0mpagesize\u001b[0m\u001b[0;34m=\u001b[0m\u001b[0mpagesize\u001b[0m\u001b[0;34m,\u001b[0m \u001b[0mpage\u001b[0m\u001b[0;34m=\u001b[0m\u001b[0mpage\u001b[0m\u001b[0;34m)\u001b[0m\u001b[0;34m\u001b[0m\u001b[0;34m\u001b[0m\u001b[0m\n\u001b[0m\u001b[1;32m   2010\u001b[0m \u001b[0;34m\u001b[0m\u001b[0m\n\u001b[1;32m   2011\u001b[0m     \u001b[0;34m@\u001b[0m\u001b[0mclass_or_instance\u001b[0m\u001b[0;34m\u001b[0m\u001b[0;34m\u001b[0m\u001b[0m\n",
      "\u001b[0;32m~/anaconda/envs/py3.6/lib/python3.6/site-packages/astroquery/utils/class_or_instance.py\u001b[0m in \u001b[0;36mf\u001b[0;34m(*args, **kwds)\u001b[0m\n\u001b[1;32m     23\u001b[0m         \u001b[0;32mdef\u001b[0m \u001b[0mf\u001b[0m\u001b[0;34m(\u001b[0m\u001b[0;34m*\u001b[0m\u001b[0margs\u001b[0m\u001b[0;34m,\u001b[0m \u001b[0;34m**\u001b[0m\u001b[0mkwds\u001b[0m\u001b[0;34m)\u001b[0m\u001b[0;34m:\u001b[0m\u001b[0;34m\u001b[0m\u001b[0;34m\u001b[0m\u001b[0m\n\u001b[1;32m     24\u001b[0m             \u001b[0;32mif\u001b[0m \u001b[0mobj\u001b[0m \u001b[0;32mis\u001b[0m \u001b[0;32mnot\u001b[0m \u001b[0;32mNone\u001b[0m\u001b[0;34m:\u001b[0m\u001b[0;34m\u001b[0m\u001b[0;34m\u001b[0m\u001b[0m\n\u001b[0;32m---> 25\u001b[0;31m                 \u001b[0;32mreturn\u001b[0m \u001b[0mself\u001b[0m\u001b[0;34m.\u001b[0m\u001b[0mfn\u001b[0m\u001b[0;34m(\u001b[0m\u001b[0mobj\u001b[0m\u001b[0;34m,\u001b[0m \u001b[0;34m*\u001b[0m\u001b[0margs\u001b[0m\u001b[0;34m,\u001b[0m \u001b[0;34m**\u001b[0m\u001b[0mkwds\u001b[0m\u001b[0;34m)\u001b[0m\u001b[0;34m\u001b[0m\u001b[0;34m\u001b[0m\u001b[0m\n\u001b[0m\u001b[1;32m     26\u001b[0m             \u001b[0;32melse\u001b[0m\u001b[0;34m:\u001b[0m\u001b[0;34m\u001b[0m\u001b[0;34m\u001b[0m\u001b[0m\n\u001b[1;32m     27\u001b[0m                 \u001b[0;32mreturn\u001b[0m \u001b[0mself\u001b[0m\u001b[0;34m.\u001b[0m\u001b[0mfn\u001b[0m\u001b[0;34m(\u001b[0m\u001b[0mcls\u001b[0m\u001b[0;34m,\u001b[0m \u001b[0;34m*\u001b[0m\u001b[0margs\u001b[0m\u001b[0;34m,\u001b[0m \u001b[0;34m**\u001b[0m\u001b[0mkwds\u001b[0m\u001b[0;34m)\u001b[0m\u001b[0;34m\u001b[0m\u001b[0;34m\u001b[0m\u001b[0m\n",
      "\u001b[0;32m~/anaconda/envs/py3.6/lib/python3.6/site-packages/astroquery/mast/core.py\u001b[0m in \u001b[0;36mservice_request_async\u001b[0;34m(self, service, params, pagesize, page, **kwargs)\u001b[0m\n\u001b[1;32m    841\u001b[0m         \u001b[0mreqString\u001b[0m \u001b[0;34m=\u001b[0m \u001b[0m_prepare_service_request_string\u001b[0m\u001b[0;34m(\u001b[0m\u001b[0mmashupRequest\u001b[0m\u001b[0;34m)\u001b[0m\u001b[0;34m\u001b[0m\u001b[0;34m\u001b[0m\u001b[0m\n\u001b[1;32m    842\u001b[0m         response = self._request(\"POST\", self._MAST_REQUEST_URL, data=reqString, headers=headers,\n\u001b[0;32m--> 843\u001b[0;31m                                  retrieve_all=retrieveAll)\n\u001b[0m\u001b[1;32m    844\u001b[0m \u001b[0;34m\u001b[0m\u001b[0m\n\u001b[1;32m    845\u001b[0m         \u001b[0;32mreturn\u001b[0m \u001b[0mresponse\u001b[0m\u001b[0;34m\u001b[0m\u001b[0;34m\u001b[0m\u001b[0m\n",
      "\u001b[0;32m~/anaconda/envs/py3.6/lib/python3.6/site-packages/astroquery/mast/core.py\u001b[0m in \u001b[0;36m_request\u001b[0;34m(self, method, url, params, data, headers, files, stream, auth, retrieve_all)\u001b[0m\n\u001b[1;32m    441\u001b[0m                 response = super(MastClass, self)._request(method, url, params=params, data=data,\n\u001b[1;32m    442\u001b[0m                                                            \u001b[0mheaders\u001b[0m\u001b[0;34m=\u001b[0m\u001b[0mheaders\u001b[0m\u001b[0;34m,\u001b[0m \u001b[0mfiles\u001b[0m\u001b[0;34m=\u001b[0m\u001b[0mfiles\u001b[0m\u001b[0;34m,\u001b[0m \u001b[0mcache\u001b[0m\u001b[0;34m=\u001b[0m\u001b[0;32mFalse\u001b[0m\u001b[0;34m,\u001b[0m\u001b[0;34m\u001b[0m\u001b[0;34m\u001b[0m\u001b[0m\n\u001b[0;32m--> 443\u001b[0;31m                                                            stream=stream, auth=auth)\n\u001b[0m\u001b[1;32m    444\u001b[0m \u001b[0;34m\u001b[0m\u001b[0m\n\u001b[1;32m    445\u001b[0m                 \u001b[0;32mif\u001b[0m \u001b[0;34m(\u001b[0m\u001b[0mtime\u001b[0m\u001b[0;34m.\u001b[0m\u001b[0mtime\u001b[0m\u001b[0;34m(\u001b[0m\u001b[0;34m)\u001b[0m \u001b[0;34m-\u001b[0m \u001b[0mstartTime\u001b[0m\u001b[0;34m)\u001b[0m \u001b[0;34m>=\u001b[0m \u001b[0mself\u001b[0m\u001b[0;34m.\u001b[0m\u001b[0mTIMEOUT\u001b[0m\u001b[0;34m:\u001b[0m\u001b[0;34m\u001b[0m\u001b[0;34m\u001b[0m\u001b[0m\n",
      "\u001b[0;32m~/anaconda/envs/py3.6/lib/python3.6/site-packages/astroquery/query.py\u001b[0m in \u001b[0;36m_request\u001b[0;34m(self, method, url, params, data, headers, files, save, savedir, timeout, cache, stream, auth, continuation, verify)\u001b[0m\n\u001b[1;32m    230\u001b[0m                 \u001b[0;32mwith\u001b[0m \u001b[0msuspend_cache\u001b[0m\u001b[0;34m(\u001b[0m\u001b[0mself\u001b[0m\u001b[0;34m)\u001b[0m\u001b[0;34m:\u001b[0m\u001b[0;34m\u001b[0m\u001b[0;34m\u001b[0m\u001b[0m\n\u001b[1;32m    231\u001b[0m                     response = query.request(self._session, stream=stream,\n\u001b[0;32m--> 232\u001b[0;31m                                              auth=auth, verify=verify)\n\u001b[0m\u001b[1;32m    233\u001b[0m             \u001b[0;32melse\u001b[0m\u001b[0;34m:\u001b[0m\u001b[0;34m\u001b[0m\u001b[0;34m\u001b[0m\u001b[0m\n\u001b[1;32m    234\u001b[0m                 \u001b[0mresponse\u001b[0m \u001b[0;34m=\u001b[0m \u001b[0mquery\u001b[0m\u001b[0;34m.\u001b[0m\u001b[0mfrom_cache\u001b[0m\u001b[0;34m(\u001b[0m\u001b[0mself\u001b[0m\u001b[0;34m.\u001b[0m\u001b[0mcache_location\u001b[0m\u001b[0;34m)\u001b[0m\u001b[0;34m\u001b[0m\u001b[0;34m\u001b[0m\u001b[0m\n",
      "\u001b[0;32m~/anaconda/envs/py3.6/lib/python3.6/site-packages/astroquery/query.py\u001b[0m in \u001b[0;36mrequest\u001b[0;34m(self, session, cache_location, stream, auth, verify)\u001b[0m\n\u001b[1;32m     64\u001b[0m                                \u001b[0mdata\u001b[0m\u001b[0;34m=\u001b[0m\u001b[0mself\u001b[0m\u001b[0;34m.\u001b[0m\u001b[0mdata\u001b[0m\u001b[0;34m,\u001b[0m \u001b[0mheaders\u001b[0m\u001b[0;34m=\u001b[0m\u001b[0mself\u001b[0m\u001b[0;34m.\u001b[0m\u001b[0mheaders\u001b[0m\u001b[0;34m,\u001b[0m\u001b[0;34m\u001b[0m\u001b[0;34m\u001b[0m\u001b[0m\n\u001b[1;32m     65\u001b[0m                                \u001b[0mfiles\u001b[0m\u001b[0;34m=\u001b[0m\u001b[0mself\u001b[0m\u001b[0;34m.\u001b[0m\u001b[0mfiles\u001b[0m\u001b[0;34m,\u001b[0m \u001b[0mtimeout\u001b[0m\u001b[0;34m=\u001b[0m\u001b[0mself\u001b[0m\u001b[0;34m.\u001b[0m\u001b[0mtimeout\u001b[0m\u001b[0;34m,\u001b[0m\u001b[0;34m\u001b[0m\u001b[0;34m\u001b[0m\u001b[0m\n\u001b[0;32m---> 66\u001b[0;31m                                stream=stream, auth=auth, verify=verify)\n\u001b[0m\u001b[1;32m     67\u001b[0m \u001b[0;34m\u001b[0m\u001b[0m\n\u001b[1;32m     68\u001b[0m     \u001b[0;32mdef\u001b[0m \u001b[0mhash\u001b[0m\u001b[0;34m(\u001b[0m\u001b[0mself\u001b[0m\u001b[0;34m)\u001b[0m\u001b[0;34m:\u001b[0m\u001b[0;34m\u001b[0m\u001b[0;34m\u001b[0m\u001b[0m\n",
      "\u001b[0;32m~/anaconda/envs/py3.6/lib/python3.6/site-packages/requests/sessions.py\u001b[0m in \u001b[0;36mrequest\u001b[0;34m(self, method, url, params, data, headers, cookies, files, auth, timeout, allow_redirects, proxies, hooks, stream, verify, cert, json)\u001b[0m\n\u001b[1;32m    531\u001b[0m         }\n\u001b[1;32m    532\u001b[0m         \u001b[0msend_kwargs\u001b[0m\u001b[0;34m.\u001b[0m\u001b[0mupdate\u001b[0m\u001b[0;34m(\u001b[0m\u001b[0msettings\u001b[0m\u001b[0;34m)\u001b[0m\u001b[0;34m\u001b[0m\u001b[0;34m\u001b[0m\u001b[0m\n\u001b[0;32m--> 533\u001b[0;31m         \u001b[0mresp\u001b[0m \u001b[0;34m=\u001b[0m \u001b[0mself\u001b[0m\u001b[0;34m.\u001b[0m\u001b[0msend\u001b[0m\u001b[0;34m(\u001b[0m\u001b[0mprep\u001b[0m\u001b[0;34m,\u001b[0m \u001b[0;34m**\u001b[0m\u001b[0msend_kwargs\u001b[0m\u001b[0;34m)\u001b[0m\u001b[0;34m\u001b[0m\u001b[0;34m\u001b[0m\u001b[0m\n\u001b[0m\u001b[1;32m    534\u001b[0m \u001b[0;34m\u001b[0m\u001b[0m\n\u001b[1;32m    535\u001b[0m         \u001b[0;32mreturn\u001b[0m \u001b[0mresp\u001b[0m\u001b[0;34m\u001b[0m\u001b[0;34m\u001b[0m\u001b[0m\n",
      "\u001b[0;32m~/anaconda/envs/py3.6/lib/python3.6/site-packages/requests/sessions.py\u001b[0m in \u001b[0;36msend\u001b[0;34m(self, request, **kwargs)\u001b[0m\n\u001b[1;32m    644\u001b[0m \u001b[0;34m\u001b[0m\u001b[0m\n\u001b[1;32m    645\u001b[0m         \u001b[0;31m# Send the request\u001b[0m\u001b[0;34m\u001b[0m\u001b[0;34m\u001b[0m\u001b[0;34m\u001b[0m\u001b[0m\n\u001b[0;32m--> 646\u001b[0;31m         \u001b[0mr\u001b[0m \u001b[0;34m=\u001b[0m \u001b[0madapter\u001b[0m\u001b[0;34m.\u001b[0m\u001b[0msend\u001b[0m\u001b[0;34m(\u001b[0m\u001b[0mrequest\u001b[0m\u001b[0;34m,\u001b[0m \u001b[0;34m**\u001b[0m\u001b[0mkwargs\u001b[0m\u001b[0;34m)\u001b[0m\u001b[0;34m\u001b[0m\u001b[0;34m\u001b[0m\u001b[0m\n\u001b[0m\u001b[1;32m    647\u001b[0m \u001b[0;34m\u001b[0m\u001b[0m\n\u001b[1;32m    648\u001b[0m         \u001b[0;31m# Total elapsed time of the request (approximately)\u001b[0m\u001b[0;34m\u001b[0m\u001b[0;34m\u001b[0m\u001b[0;34m\u001b[0m\u001b[0m\n",
      "\u001b[0;32m~/anaconda/envs/py3.6/lib/python3.6/site-packages/requests/adapters.py\u001b[0m in \u001b[0;36msend\u001b[0;34m(self, request, stream, timeout, verify, cert, proxies)\u001b[0m\n\u001b[1;32m    447\u001b[0m                     \u001b[0mdecode_content\u001b[0m\u001b[0;34m=\u001b[0m\u001b[0;32mFalse\u001b[0m\u001b[0;34m,\u001b[0m\u001b[0;34m\u001b[0m\u001b[0;34m\u001b[0m\u001b[0m\n\u001b[1;32m    448\u001b[0m                     \u001b[0mretries\u001b[0m\u001b[0;34m=\u001b[0m\u001b[0mself\u001b[0m\u001b[0;34m.\u001b[0m\u001b[0mmax_retries\u001b[0m\u001b[0;34m,\u001b[0m\u001b[0;34m\u001b[0m\u001b[0;34m\u001b[0m\u001b[0m\n\u001b[0;32m--> 449\u001b[0;31m                     \u001b[0mtimeout\u001b[0m\u001b[0;34m=\u001b[0m\u001b[0mtimeout\u001b[0m\u001b[0;34m\u001b[0m\u001b[0;34m\u001b[0m\u001b[0m\n\u001b[0m\u001b[1;32m    450\u001b[0m                 )\n\u001b[1;32m    451\u001b[0m \u001b[0;34m\u001b[0m\u001b[0m\n",
      "\u001b[0;32m~/anaconda/envs/py3.6/lib/python3.6/site-packages/urllib3/connectionpool.py\u001b[0m in \u001b[0;36murlopen\u001b[0;34m(self, method, url, body, headers, retries, redirect, assert_same_host, timeout, pool_timeout, release_conn, chunked, body_pos, **response_kw)\u001b[0m\n\u001b[1;32m    598\u001b[0m                                                   \u001b[0mtimeout\u001b[0m\u001b[0;34m=\u001b[0m\u001b[0mtimeout_obj\u001b[0m\u001b[0;34m,\u001b[0m\u001b[0;34m\u001b[0m\u001b[0;34m\u001b[0m\u001b[0m\n\u001b[1;32m    599\u001b[0m                                                   \u001b[0mbody\u001b[0m\u001b[0;34m=\u001b[0m\u001b[0mbody\u001b[0m\u001b[0;34m,\u001b[0m \u001b[0mheaders\u001b[0m\u001b[0;34m=\u001b[0m\u001b[0mheaders\u001b[0m\u001b[0;34m,\u001b[0m\u001b[0;34m\u001b[0m\u001b[0;34m\u001b[0m\u001b[0m\n\u001b[0;32m--> 600\u001b[0;31m                                                   chunked=chunked)\n\u001b[0m\u001b[1;32m    601\u001b[0m \u001b[0;34m\u001b[0m\u001b[0m\n\u001b[1;32m    602\u001b[0m             \u001b[0;31m# If we're going to release the connection in ``finally:``, then\u001b[0m\u001b[0;34m\u001b[0m\u001b[0;34m\u001b[0m\u001b[0;34m\u001b[0m\u001b[0m\n",
      "\u001b[0;32m~/anaconda/envs/py3.6/lib/python3.6/site-packages/urllib3/connectionpool.py\u001b[0m in \u001b[0;36m_make_request\u001b[0;34m(self, conn, method, url, timeout, chunked, **httplib_request_kw)\u001b[0m\n\u001b[1;32m    378\u001b[0m             \u001b[0;32mexcept\u001b[0m \u001b[0mTypeError\u001b[0m\u001b[0;34m:\u001b[0m  \u001b[0;31m# Python 3\u001b[0m\u001b[0;34m\u001b[0m\u001b[0;34m\u001b[0m\u001b[0m\n\u001b[1;32m    379\u001b[0m                 \u001b[0;32mtry\u001b[0m\u001b[0;34m:\u001b[0m\u001b[0;34m\u001b[0m\u001b[0;34m\u001b[0m\u001b[0m\n\u001b[0;32m--> 380\u001b[0;31m                     \u001b[0mhttplib_response\u001b[0m \u001b[0;34m=\u001b[0m \u001b[0mconn\u001b[0m\u001b[0;34m.\u001b[0m\u001b[0mgetresponse\u001b[0m\u001b[0;34m(\u001b[0m\u001b[0;34m)\u001b[0m\u001b[0;34m\u001b[0m\u001b[0;34m\u001b[0m\u001b[0m\n\u001b[0m\u001b[1;32m    381\u001b[0m                 \u001b[0;32mexcept\u001b[0m \u001b[0mException\u001b[0m \u001b[0;32mas\u001b[0m \u001b[0me\u001b[0m\u001b[0;34m:\u001b[0m\u001b[0;34m\u001b[0m\u001b[0;34m\u001b[0m\u001b[0m\n\u001b[1;32m    382\u001b[0m                     \u001b[0;31m# Remove the TypeError from the exception chain in Python 3;\u001b[0m\u001b[0;34m\u001b[0m\u001b[0;34m\u001b[0m\u001b[0;34m\u001b[0m\u001b[0m\n",
      "\u001b[0;32m~/anaconda/envs/py3.6/lib/python3.6/http/client.py\u001b[0m in \u001b[0;36mgetresponse\u001b[0;34m(self)\u001b[0m\n\u001b[1;32m   1329\u001b[0m         \u001b[0;32mtry\u001b[0m\u001b[0;34m:\u001b[0m\u001b[0;34m\u001b[0m\u001b[0;34m\u001b[0m\u001b[0m\n\u001b[1;32m   1330\u001b[0m             \u001b[0;32mtry\u001b[0m\u001b[0;34m:\u001b[0m\u001b[0;34m\u001b[0m\u001b[0;34m\u001b[0m\u001b[0m\n\u001b[0;32m-> 1331\u001b[0;31m                 \u001b[0mresponse\u001b[0m\u001b[0;34m.\u001b[0m\u001b[0mbegin\u001b[0m\u001b[0;34m(\u001b[0m\u001b[0;34m)\u001b[0m\u001b[0;34m\u001b[0m\u001b[0;34m\u001b[0m\u001b[0m\n\u001b[0m\u001b[1;32m   1332\u001b[0m             \u001b[0;32mexcept\u001b[0m \u001b[0mConnectionError\u001b[0m\u001b[0;34m:\u001b[0m\u001b[0;34m\u001b[0m\u001b[0;34m\u001b[0m\u001b[0m\n\u001b[1;32m   1333\u001b[0m                 \u001b[0mself\u001b[0m\u001b[0;34m.\u001b[0m\u001b[0mclose\u001b[0m\u001b[0;34m(\u001b[0m\u001b[0;34m)\u001b[0m\u001b[0;34m\u001b[0m\u001b[0;34m\u001b[0m\u001b[0m\n",
      "\u001b[0;32m~/anaconda/envs/py3.6/lib/python3.6/http/client.py\u001b[0m in \u001b[0;36mbegin\u001b[0;34m(self)\u001b[0m\n\u001b[1;32m    295\u001b[0m         \u001b[0;31m# read until we get a non-100 response\u001b[0m\u001b[0;34m\u001b[0m\u001b[0;34m\u001b[0m\u001b[0;34m\u001b[0m\u001b[0m\n\u001b[1;32m    296\u001b[0m         \u001b[0;32mwhile\u001b[0m \u001b[0;32mTrue\u001b[0m\u001b[0;34m:\u001b[0m\u001b[0;34m\u001b[0m\u001b[0;34m\u001b[0m\u001b[0m\n\u001b[0;32m--> 297\u001b[0;31m             \u001b[0mversion\u001b[0m\u001b[0;34m,\u001b[0m \u001b[0mstatus\u001b[0m\u001b[0;34m,\u001b[0m \u001b[0mreason\u001b[0m \u001b[0;34m=\u001b[0m \u001b[0mself\u001b[0m\u001b[0;34m.\u001b[0m\u001b[0m_read_status\u001b[0m\u001b[0;34m(\u001b[0m\u001b[0;34m)\u001b[0m\u001b[0;34m\u001b[0m\u001b[0;34m\u001b[0m\u001b[0m\n\u001b[0m\u001b[1;32m    298\u001b[0m             \u001b[0;32mif\u001b[0m \u001b[0mstatus\u001b[0m \u001b[0;34m!=\u001b[0m \u001b[0mCONTINUE\u001b[0m\u001b[0;34m:\u001b[0m\u001b[0;34m\u001b[0m\u001b[0;34m\u001b[0m\u001b[0m\n\u001b[1;32m    299\u001b[0m                 \u001b[0;32mbreak\u001b[0m\u001b[0;34m\u001b[0m\u001b[0;34m\u001b[0m\u001b[0m\n",
      "\u001b[0;32m~/anaconda/envs/py3.6/lib/python3.6/http/client.py\u001b[0m in \u001b[0;36m_read_status\u001b[0;34m(self)\u001b[0m\n\u001b[1;32m    256\u001b[0m \u001b[0;34m\u001b[0m\u001b[0m\n\u001b[1;32m    257\u001b[0m     \u001b[0;32mdef\u001b[0m \u001b[0m_read_status\u001b[0m\u001b[0;34m(\u001b[0m\u001b[0mself\u001b[0m\u001b[0;34m)\u001b[0m\u001b[0;34m:\u001b[0m\u001b[0;34m\u001b[0m\u001b[0;34m\u001b[0m\u001b[0m\n\u001b[0;32m--> 258\u001b[0;31m         \u001b[0mline\u001b[0m \u001b[0;34m=\u001b[0m \u001b[0mstr\u001b[0m\u001b[0;34m(\u001b[0m\u001b[0mself\u001b[0m\u001b[0;34m.\u001b[0m\u001b[0mfp\u001b[0m\u001b[0;34m.\u001b[0m\u001b[0mreadline\u001b[0m\u001b[0;34m(\u001b[0m\u001b[0m_MAXLINE\u001b[0m \u001b[0;34m+\u001b[0m \u001b[0;36m1\u001b[0m\u001b[0;34m)\u001b[0m\u001b[0;34m,\u001b[0m \u001b[0;34m\"iso-8859-1\"\u001b[0m\u001b[0;34m)\u001b[0m\u001b[0;34m\u001b[0m\u001b[0;34m\u001b[0m\u001b[0m\n\u001b[0m\u001b[1;32m    259\u001b[0m         \u001b[0;32mif\u001b[0m \u001b[0mlen\u001b[0m\u001b[0;34m(\u001b[0m\u001b[0mline\u001b[0m\u001b[0;34m)\u001b[0m \u001b[0;34m>\u001b[0m \u001b[0m_MAXLINE\u001b[0m\u001b[0;34m:\u001b[0m\u001b[0;34m\u001b[0m\u001b[0;34m\u001b[0m\u001b[0m\n\u001b[1;32m    260\u001b[0m             \u001b[0;32mraise\u001b[0m \u001b[0mLineTooLong\u001b[0m\u001b[0;34m(\u001b[0m\u001b[0;34m\"status line\"\u001b[0m\u001b[0;34m)\u001b[0m\u001b[0;34m\u001b[0m\u001b[0;34m\u001b[0m\u001b[0m\n",
      "\u001b[0;32m~/anaconda/envs/py3.6/lib/python3.6/socket.py\u001b[0m in \u001b[0;36mreadinto\u001b[0;34m(self, b)\u001b[0m\n\u001b[1;32m    584\u001b[0m         \u001b[0;32mwhile\u001b[0m \u001b[0;32mTrue\u001b[0m\u001b[0;34m:\u001b[0m\u001b[0;34m\u001b[0m\u001b[0;34m\u001b[0m\u001b[0m\n\u001b[1;32m    585\u001b[0m             \u001b[0;32mtry\u001b[0m\u001b[0;34m:\u001b[0m\u001b[0;34m\u001b[0m\u001b[0;34m\u001b[0m\u001b[0m\n\u001b[0;32m--> 586\u001b[0;31m                 \u001b[0;32mreturn\u001b[0m \u001b[0mself\u001b[0m\u001b[0;34m.\u001b[0m\u001b[0m_sock\u001b[0m\u001b[0;34m.\u001b[0m\u001b[0mrecv_into\u001b[0m\u001b[0;34m(\u001b[0m\u001b[0mb\u001b[0m\u001b[0;34m)\u001b[0m\u001b[0;34m\u001b[0m\u001b[0;34m\u001b[0m\u001b[0m\n\u001b[0m\u001b[1;32m    587\u001b[0m             \u001b[0;32mexcept\u001b[0m \u001b[0mtimeout\u001b[0m\u001b[0;34m:\u001b[0m\u001b[0;34m\u001b[0m\u001b[0;34m\u001b[0m\u001b[0m\n\u001b[1;32m    588\u001b[0m                 \u001b[0mself\u001b[0m\u001b[0;34m.\u001b[0m\u001b[0m_timeout_occurred\u001b[0m \u001b[0;34m=\u001b[0m \u001b[0;32mTrue\u001b[0m\u001b[0;34m\u001b[0m\u001b[0;34m\u001b[0m\u001b[0m\n",
      "\u001b[0;32m~/anaconda/envs/py3.6/lib/python3.6/site-packages/urllib3/contrib/pyopenssl.py\u001b[0m in \u001b[0;36mrecv_into\u001b[0;34m(self, *args, **kwargs)\u001b[0m\n\u001b[1;32m    295\u001b[0m     \u001b[0;32mdef\u001b[0m \u001b[0mrecv_into\u001b[0m\u001b[0;34m(\u001b[0m\u001b[0mself\u001b[0m\u001b[0;34m,\u001b[0m \u001b[0;34m*\u001b[0m\u001b[0margs\u001b[0m\u001b[0;34m,\u001b[0m \u001b[0;34m**\u001b[0m\u001b[0mkwargs\u001b[0m\u001b[0;34m)\u001b[0m\u001b[0;34m:\u001b[0m\u001b[0;34m\u001b[0m\u001b[0;34m\u001b[0m\u001b[0m\n\u001b[1;32m    296\u001b[0m         \u001b[0;32mtry\u001b[0m\u001b[0;34m:\u001b[0m\u001b[0;34m\u001b[0m\u001b[0;34m\u001b[0m\u001b[0m\n\u001b[0;32m--> 297\u001b[0;31m             \u001b[0;32mreturn\u001b[0m \u001b[0mself\u001b[0m\u001b[0;34m.\u001b[0m\u001b[0mconnection\u001b[0m\u001b[0;34m.\u001b[0m\u001b[0mrecv_into\u001b[0m\u001b[0;34m(\u001b[0m\u001b[0;34m*\u001b[0m\u001b[0margs\u001b[0m\u001b[0;34m,\u001b[0m \u001b[0;34m**\u001b[0m\u001b[0mkwargs\u001b[0m\u001b[0;34m)\u001b[0m\u001b[0;34m\u001b[0m\u001b[0;34m\u001b[0m\u001b[0m\n\u001b[0m\u001b[1;32m    298\u001b[0m         \u001b[0;32mexcept\u001b[0m \u001b[0mOpenSSL\u001b[0m\u001b[0;34m.\u001b[0m\u001b[0mSSL\u001b[0m\u001b[0;34m.\u001b[0m\u001b[0mSysCallError\u001b[0m \u001b[0;32mas\u001b[0m \u001b[0me\u001b[0m\u001b[0;34m:\u001b[0m\u001b[0;34m\u001b[0m\u001b[0;34m\u001b[0m\u001b[0m\n\u001b[1;32m    299\u001b[0m             \u001b[0;32mif\u001b[0m \u001b[0mself\u001b[0m\u001b[0;34m.\u001b[0m\u001b[0msuppress_ragged_eofs\u001b[0m \u001b[0;32mand\u001b[0m \u001b[0me\u001b[0m\u001b[0;34m.\u001b[0m\u001b[0margs\u001b[0m \u001b[0;34m==\u001b[0m \u001b[0;34m(\u001b[0m\u001b[0;34m-\u001b[0m\u001b[0;36m1\u001b[0m\u001b[0;34m,\u001b[0m \u001b[0;34m'Unexpected EOF'\u001b[0m\u001b[0;34m)\u001b[0m\u001b[0;34m:\u001b[0m\u001b[0;34m\u001b[0m\u001b[0;34m\u001b[0m\u001b[0m\n",
      "\u001b[0;32m~/anaconda/envs/py3.6/lib/python3.6/site-packages/OpenSSL/SSL.py\u001b[0m in \u001b[0;36mrecv_into\u001b[0;34m(self, buffer, nbytes, flags)\u001b[0m\n\u001b[1;32m   1819\u001b[0m             \u001b[0mresult\u001b[0m \u001b[0;34m=\u001b[0m \u001b[0m_lib\u001b[0m\u001b[0;34m.\u001b[0m\u001b[0mSSL_peek\u001b[0m\u001b[0;34m(\u001b[0m\u001b[0mself\u001b[0m\u001b[0;34m.\u001b[0m\u001b[0m_ssl\u001b[0m\u001b[0;34m,\u001b[0m \u001b[0mbuf\u001b[0m\u001b[0;34m,\u001b[0m \u001b[0mnbytes\u001b[0m\u001b[0;34m)\u001b[0m\u001b[0;34m\u001b[0m\u001b[0;34m\u001b[0m\u001b[0m\n\u001b[1;32m   1820\u001b[0m         \u001b[0;32melse\u001b[0m\u001b[0;34m:\u001b[0m\u001b[0;34m\u001b[0m\u001b[0;34m\u001b[0m\u001b[0m\n\u001b[0;32m-> 1821\u001b[0;31m             \u001b[0mresult\u001b[0m \u001b[0;34m=\u001b[0m \u001b[0m_lib\u001b[0m\u001b[0;34m.\u001b[0m\u001b[0mSSL_read\u001b[0m\u001b[0;34m(\u001b[0m\u001b[0mself\u001b[0m\u001b[0;34m.\u001b[0m\u001b[0m_ssl\u001b[0m\u001b[0;34m,\u001b[0m \u001b[0mbuf\u001b[0m\u001b[0;34m,\u001b[0m \u001b[0mnbytes\u001b[0m\u001b[0;34m)\u001b[0m\u001b[0;34m\u001b[0m\u001b[0;34m\u001b[0m\u001b[0m\n\u001b[0m\u001b[1;32m   1822\u001b[0m         \u001b[0mself\u001b[0m\u001b[0;34m.\u001b[0m\u001b[0m_raise_ssl_error\u001b[0m\u001b[0;34m(\u001b[0m\u001b[0mself\u001b[0m\u001b[0;34m.\u001b[0m\u001b[0m_ssl\u001b[0m\u001b[0;34m,\u001b[0m \u001b[0mresult\u001b[0m\u001b[0;34m)\u001b[0m\u001b[0;34m\u001b[0m\u001b[0;34m\u001b[0m\u001b[0m\n\u001b[1;32m   1823\u001b[0m \u001b[0;34m\u001b[0m\u001b[0m\n",
      "\u001b[0;31mKeyboardInterrupt\u001b[0m: "
     ]
    }
   ],
   "source": [
    "ID = 121202851 #316937670 \n",
    "\n",
    "print(\"TIC ID: \",ID)\n",
    "qld, R_star, R_star_min, R_star_max, M_star, M_star_min, M_star_max = catalog_info(TIC_ID=ID)\n",
    "# qld, R_star, R_star_min, R_star_max, M_star, M_star_min, M_star_max = catalog_info(EPIC_ID=211611158)\n",
    "print('Quadratic limb darkening q1, q2: ', qld[0], qld[1])\n",
    "print('Stellar radius: ', R_star, '+', R_star_max, '-', R_star_min, 'solar radii')\n",
    "print('Stellar mass: ', M_star, '+', M_star_max, '-', M_star_min,'solar mass')\n",
    "print(\" \")\n"
   ]
  },
  {
   "cell_type": "markdown",
   "metadata": {},
   "source": [
    "## Work in progress (come back later)\n",
    "Let's see if there are TPFs for this target"
   ]
  },
  {
   "cell_type": "code",
   "execution_count": null,
   "metadata": {},
   "outputs": [],
   "source": [
    "\n",
    "# tpfs = search_targetpixelfile(ID,mission=\"TESS\",radius=1)\n",
    "\n",
    "# tpf_time =[]; tpf_flux=[]; tpf_fluxerror=[]\n",
    "\n",
    "# if (len(tpfs))>0:\n",
    "#     print (\"number of available tpfs: \", len (tpfs))\n",
    "#     tpf=tpfs.download_all()\n",
    "    \n",
    "#     if len(tpf)>1:\n",
    "#         for x in range(len(tpf)):\n",
    "#             tpf_time.append(tpf[x].time)\n",
    "#             tpf_flux.append(tpf[x].flux)\n",
    "#             tpf_fluxerror.append(tpf[x].flux_err)\n",
    "            \n",
    "        \n",
    "    \n",
    "#     else:\n",
    "#         # Create a median image of the source over time\n",
    "#         median_image = np.nanmedian(tpf.flux, axis=0)\n",
    "\n",
    "#         # Select pixels which are brighter than the 95th percentile of the median image\n",
    "#         aperture_mask = median_image > np.nanpercentile(median_image, 95)\n",
    "\n",
    "#     #     tpf.plot(aperture_mask=tpf.pipeline_mask);\n",
    "#         tpf.plot(aperture_mask=aperture_mask);\n",
    "#         plt.show()\n",
    "\n",
    "#         lc = tpf.to_lightcurve()\n",
    "#         plt.plot(lc.time,lc.flux,c='grey',marker='.',linestyle='none')\n",
    "#         plt.xlabel(\"Time\")\n",
    "#         plt.ylabel('Flux')\n",
    "#         plt.title(\"TIC \"+str(ID))\n",
    "#         plt.show()\n",
    "\n",
    "        \n",
    "\n",
    "#         det_lc = lc.flatten(window_length=201).remove_outliers(sigma=6)\n",
    "#         plt.plot(det_lc.time,det_lc.flux,'k.')\n",
    "#         plt.xlabel(\"Time\")\n",
    "#         plt.ylabel('Flux')\n",
    "#         plt.title(\"TIC \"+str(ID))\n",
    "#         plt.show()\n",
    "\n",
    "\n",
    "    \n",
    "# else:\n",
    "#     print(\" no tpfs available\")\n",
    "#     print(\" \")\n",
    "#     print(\"try from tesscut\")\n",
    "    \n",
    "    \n"
   ]
  },
  {
   "cell_type": "markdown",
   "metadata": {},
   "source": [
    "# Let's get the FFI data"
   ]
  },
  {
   "cell_type": "code",
   "execution_count": null,
   "metadata": {},
   "outputs": [],
   "source": [
    "starName = \"TIC \" + str(ID)"
   ]
  },
  {
   "cell_type": "markdown",
   "metadata": {},
   "source": [
    "## First, we need to define an angular radius to search around the coordinates of our selected target"
   ]
  },
  {
   "cell_type": "code",
   "execution_count": null,
   "metadata": {},
   "outputs": [],
   "source": [
    "radSearch = 0.5 / 60 # angular radius in degrees\n",
    "\n",
    "catalogData = Catalogs.query_object(starName, radius = radSearch, catalog = \"TIC\")"
   ]
  },
  {
   "cell_type": "markdown",
   "metadata": {},
   "source": [
    "Now, let's see what our Right Ascension (RA) and Declination (Dec) are for this target as well as other information."
   ]
  },
  {
   "cell_type": "code",
   "execution_count": null,
   "metadata": {},
   "outputs": [],
   "source": [
    "ra = catalogData[0]['ra']; dec = catalogData[0]['dec']\n",
    "\n",
    "# Print out the first row in the table\n",
    "print( catalogData[:5]['ID', 'Tmag', 'Vmag', 'ra', 'dec', 'objType'] )"
   ]
  },
  {
   "cell_type": "markdown",
   "metadata": {},
   "source": [
    "Because M dwarfs are faint stars, we need to be sure there are no bright stars nearby that could contaminate our data"
   ]
  },
  {
   "cell_type": "code",
   "execution_count": null,
   "metadata": {},
   "outputs": [],
   "source": [
    "#Lets make a brightness cut to remove anything brighter than 17 TESS Magnitude (Tmag).\n",
    "\n",
    "bright = catalogData['Tmag'] < 17 #TESS magnitude\n",
    "\n",
    "# Make it a list of Ra, Dec pairs of the bright ones. This is now a list of nearby bright stars.\n",
    "nearbyStars = list( map( lambda x,y:[x,y], catalogData[bright]['ra'], catalogData[bright]['dec'] ) )\n",
    "print(nearbyStars)\n"
   ]
  },
  {
   "cell_type": "markdown",
   "metadata": {},
   "source": [
    "Lets now use the coordinates to get a sector tables for our target"
   ]
  },
  {
   "cell_type": "code",
   "execution_count": null,
   "metadata": {},
   "outputs": [],
   "source": [
    "coord = SkyCoord(ra, dec, unit = \"deg\")\n",
    "sectorTable = Tesscut.get_sectors(coord)\n",
    "print(sectorTable)\n"
   ]
  },
  {
   "cell_type": "markdown",
   "metadata": {},
   "source": [
    "Now that we know this target was observed by TESS, let's get the FFI and look at the data structure"
   ]
  },
  {
   "cell_type": "code",
   "execution_count": null,
   "metadata": {},
   "outputs": [],
   "source": [
    "cutoutsize=5 #pixels. Feel free to make this number larger and toy around.\n",
    "\n",
    "hdulist = Tesscut.get_cutouts(coord)#, cutoutsize) #number is pixel cutout?\n",
    "for ii in range(len(hdulist)):\n",
    "    print(hdulist[ii]) #if blank, does that mean no cutout is available yet?\n",
    "    print(\" \")\n",
    "\n",
    "\n",
    "hdulist[0].info()\n",
    "print(\" \")\n"
   ]
  },
  {
   "cell_type": "markdown",
   "metadata": {},
   "source": [
    "Here is a definition I like to use to plot what our cut out FFI data looks like:"
   ]
  },
  {
   "cell_type": "code",
   "execution_count": null,
   "metadata": {},
   "outputs": [],
   "source": [
    "def plot_cutout_ax(image,ax):\n",
    "    \"\"\"\n",
    "    Plot image and add grid lines.\n",
    "    \"\"\"\n",
    "    ax.imshow(image, origin = 'lower', cmap = plt.cm.YlGnBu_r, \n",
    "           vmax = np.percentile(image, 92),\n",
    "           vmin = np.percentile(image, 5))\n",
    "\n",
    "    ax.grid(axis = 'both',color = 'white', ls = 'solid')"
   ]
  },
  {
   "cell_type": "code",
   "execution_count": null,
   "metadata": {},
   "outputs": [],
   "source": [
    "fs=10 #fontsize\n",
    "\n",
    "from matplotlib.backends.backend_pdf import PdfPages\n",
    "\n",
    "with PdfPages('TIC_'+str(ID)+'_FFIs.pdf') as pdf: #this is a way to save PDF files of your figures\n",
    "    for ii in range(len(sectorTable)):\n",
    "        print (ii)\n",
    "\n",
    "        hdu = hdulist[ii]\n",
    "        \n",
    "        Image = hdu[1].data['FLUX'][0] \n",
    "        wcs = WCS(hdu[2].header)\n",
    "        \n",
    "        pltind = 221\n",
    "        \n",
    "        fig = plt.figure(figsize=(12, 8))\n",
    "        \n",
    "        fig.add_subplot(pltind).imshow(Image, origin = 'lower', cmap = plt.cm.YlGnBu_r, \n",
    "               vmax = np.percentile(Image, 92),\n",
    "               vmin = np.percentile(Image, 5))\n",
    "        plt.ylabel('Image Row',fontsize = fs) \n",
    "        plt.xlabel('Image Column',fontsize = fs)\n",
    "        plt.title(\"Sector \"+str(hdulist[ii][0].header['SECTOR']),fontsize = fs)\n",
    "\n",
    "        \n",
    "        fig.add_subplot(pltind+1,projection = wcs).imshow(Image, origin = 'lower', cmap = plt.cm.YlGnBu_r, \n",
    "               vmax = np.percentile(Image, 92),\n",
    "               vmin = np.percentile(Image, 5))\n",
    "\n",
    "        plt.title(\"Sector \"+str(hdulist[ii][0].header['SECTOR']),fontsize = fs)\n",
    "        plt.xlabel('RA', fontsize = 12)\n",
    "        plt.ylabel('Dec', fontsize = 12)\n",
    "\n",
    "        fig.suptitle('TIC '+str(ID)+' FFIs')\n",
    "        fig.subplots_adjust(wspace=0.1)#,hspace=0.02)\n",
    "#         fig.tight_layout(rect=[0, 0.03, 1, 0.95])\n",
    "    pdf.savefig(bbox_inches='tight')\n",
    "    plt.show()"
   ]
  },
  {
   "cell_type": "markdown",
   "metadata": {},
   "source": [
    "Here are a couple more functions I like to use to extract light curves from these FFI cutouts with Simple Aperture Photometry"
   ]
  },
  {
   "cell_type": "code",
   "execution_count": null,
   "metadata": {},
   "outputs": [],
   "source": [
    "def aperture_phot(image, aperture):\n",
    "    \"\"\"\n",
    "    Sum-up the pixels that are in the aperture for one image.\n",
    "    image and aperture are 2D arrays that need to be the same size.\n",
    "    \n",
    "    aperture is a boolean array where True means to include the light of those pixels.\n",
    "    \"\"\"\n",
    "    flux = np.sum(image[aperture])\n",
    "\n",
    "    return flux\n",
    "\n",
    "def make_lc(flux_data, aperture):\n",
    "    \"\"\"\n",
    "    Apply the 2d aperture array to the and time series of 2D images. \n",
    "    Return the photometric series by summing over the pixels that are in the aperture.\n",
    "    \n",
    "    Aperture is a boolean array where True means it is in the desired aperture.\n",
    "    \"\"\"\n",
    "    \n",
    "    flux = np.array(list (map (lambda x: aperture_phot(x, aperture), flux_data) ) )\n",
    "    error = np.array(list (map (lambda x: aperture_phot(x, aperture), flux_data) ) )\n",
    "    return flux,error"
   ]
  },
  {
   "cell_type": "markdown",
   "metadata": {},
   "source": [
    "## NOTE:\n",
    "It is at this step that Ryan Oelker's work begins to differ and do a better job at extracting light curves from these FFI files."
   ]
  },
  {
   "cell_type": "code",
   "execution_count": null,
   "metadata": {},
   "outputs": [],
   "source": [
    "print (\"may want to use custom aperture:\")\n",
    "aperture = hdu[2].data\n",
    "\n",
    "print(\" \")\n",
    "print(\"cut out pixel values:\")\n",
    "print(aperture)\n",
    "\n",
    "print(\"Here we are using every pixel in the cutout data\")"
   ]
  },
  {
   "cell_type": "code",
   "execution_count": null,
   "metadata": {},
   "outputs": [],
   "source": []
  },
  {
   "cell_type": "markdown",
   "metadata": {},
   "source": [
    "## Simple Aperture Photometry Procedure:\n",
    "With the use of every pixel, we then count how many photons hit each pixel of the CCD of the cameras on TESS. \n",
    "\n",
    "We then check the dimmest pixels to estimate what the background brightness is and then subtract it from the brightness of our target.\n",
    "\n",
    "Finally, we then Normalize the brightness of our data by dividing it by its average so that its baseline is center on 1.0. "
   ]
  },
  {
   "cell_type": "code",
   "execution_count": null,
   "metadata": {},
   "outputs": [],
   "source": [
    "rawt=[];rawf=[];rawe=[]\n",
    "bkgt=[];bkgf=[];bkge=[]\n",
    "T=[];F=[];E=[]\n",
    "\n",
    "for ii in range(len(hdulist)): #number of sector data\n",
    "    hdu = hdulist[ii]\n",
    "    aperture = hdu[2].data == 1  #just for this case because cutout is so zoomed in\n",
    "\n",
    "    #extract raw light curve\n",
    "    f = make_lc(hdu[1].data['FLUX'], aperture)[0]\n",
    "    e = make_lc(hdu[1].data['FLUX_ERR'], aperture)[0]\n",
    "    t = hdu[1].data['TIME'] \n",
    "    \n",
    "    t = t[~np.isnan(t)] # ~np.isnan() removes NaN (not a number) values from array. Sometimes weird things happen that cause this (telescope errors, known problems,etc).\n",
    "    f = f[~np.isnan(f)]\n",
    "    e = e[~np.isnan(e)]\n",
    "\n",
    "    #estimate background flux by checking dimmest pixels by using percentile.\n",
    "    bkgAperture = hdu[1].data['FLUX'][0] < np.percentile(hdu[1].data['FLUX'][0], 5)\n",
    "    \n",
    "    bkgFlux = make_lc(hdu[1].data['FLUX'], bkgAperture)[0]\n",
    "    bkgSubFlux = f - (bkgFlux * np.sum(aperture) / np.sum(bkgAperture) ) #subtracting background flux\n",
    "    bkgSubFlux = bkgSubFlux[~np.isnan(bkgSubFlux)]\n",
    "\n",
    "    #Normalize background subtracted flux\n",
    "    NormFlux = bkgSubFlux/np.mean(bkgSubFlux)\n",
    "    NormFlux = NormFlux[~np.isnan(NormFlux)]\n",
    "    \n",
    "    rawt=np.append(rawt,t)\n",
    "    rawf=np.append(rawf,f)\n",
    "    rawe=np.append(rawe,e)\n",
    "    \n",
    "    #Background flux data\n",
    "    bkgFlux = bkgFlux[~np.isnan(bkgFlux)] \n",
    "\n",
    "    bkgt = np.append(bkgt,t)\n",
    "    bkgf = np.append(bkgf,bkgFlux)\n",
    "    bkge = np.append(bkge,e)\n",
    "    \n",
    "\n",
    "    #background subtracted and normalized data\n",
    "    NormFlux = NormFlux[~np.isnan(NormFlux)]\n",
    "    t = t[~np.isnan(NormFlux)]\n",
    "    e = e[~np.isnan(NormFlux)]\n",
    "\n",
    "    T = np.append(T,t)\n",
    "    F = np.append(F,NormFlux)\n",
    "    E = np.append(E,e)\n",
    "\n",
    "\n",
    "\n",
    "plt.figure(figsize = (11,5))\n",
    "fig = plt.figure(figsize = (8, 8))\n",
    "fig.add_subplot(311)\n",
    "plt.plot(rawt,rawf, color='grey',marker='.',linestyle='none', lw = .5)\n",
    "plt.xlabel('TIME (BJD)')\n",
    "plt.ylabel('Flux (e-/s)')\n",
    "plt.title('Flux in Photometric Aperture (Sector 1 and 2)')\n",
    "\n",
    "fig.add_subplot(312)\n",
    "plt.plot(bkgt, bkgf, 'r.', lw = .5)\n",
    "plt.xlabel('TIME (BJD)')\n",
    "plt.ylabel('Estimate of Background')\n",
    "plt.title('Background Flux')\n",
    "\n",
    "fig.add_subplot(313)\n",
    "plt.plot(T, F,'.k', lw = 0.5)\n",
    "plt.xlabel('TIME (BTJD)')\n",
    "plt.ylabel('Normalized Flux (e-/s)')\n",
    "plt.title('Background Subtracted Flux')\n",
    "\n",
    "fig.tight_layout()\n",
    "fig.subplots_adjust(hspace=0.4)\n",
    "plt.show()\n",
    "\n"
   ]
  },
  {
   "cell_type": "code",
   "execution_count": null,
   "metadata": {},
   "outputs": [],
   "source": []
  },
  {
   "cell_type": "markdown",
   "metadata": {},
   "source": [
    "This is pretty messy. Let's see if we can clean this up a bit more. Let's start by doing a 3 sigma cut where we remove outliers that are above or below the mean +/- 3xstd of our Flux."
   ]
  },
  {
   "cell_type": "code",
   "execution_count": null,
   "metadata": {},
   "outputs": [],
   "source": [
    "print(\"remove some outliers \")\n",
    "\n",
    "threshold1 = np.mean(F)+1.0*np.std(F)\n",
    "threshold2 = np.mean(F)-1.0*np.std(F)\n",
    "\n",
    "cutTime = T[np.where( (F<threshold1) & (F>threshold2)  )[0]]\n",
    "cutFlux = F[np.where( (F<threshold1) & (F>threshold2)  )[0]]#/np.mean(NormFlux[np.where( (NormFlux<threshold1) & (NormFlux>threshold2)  )[0]])\n",
    "cutFluxError = E[np.where( (F<threshold1) & (F>threshold2)  )[0]]\n",
    "\n",
    "\n",
    "plt.figure(figsize = (11,5))\n",
    "plt.plot(cutTime, cutFlux,'.k', lw = 0.5)\n",
    "\n",
    "# plt.xlim(1325, 1336)\n",
    "plt.xlabel('TIME (BTJD)')\n",
    "plt.ylabel('Normalized Flux (e-/s)')\n",
    "plt.title('Background Subtracted Flux')\n",
    "plt.show()\n",
    "\n",
    "x=cutTime; y=cutFlux; yerr = cutFluxError\n"
   ]
  },
  {
   "cell_type": "markdown",
   "metadata": {},
   "source": [
    "Much better! I think we can do better to remove some of the wiggles seen in this light curve.\n",
    "\n",
    "We can do this by using a Savitsky-Golay filter:\n",
    "\n",
    "If given a window size, you can slide this window through the data and perform a cubic interpolation between data points to estimate the general shape of the data. You can read more about this here:\n",
    "[https://en.wikipedia.org/wiki/Savitzky%E2%80%93Golay_filter](https://en.wikipedia.org/wiki/Savitzky%E2%80%93Golay_filter)\n",
    "\n",
    "We can then subtract this model from our data to get a flat light curve. \n",
    "\n",
    "To decide on how big to make this sliding window, we need to figure out the cadence (sample rate) of our data."
   ]
  },
  {
   "cell_type": "code",
   "execution_count": null,
   "metadata": {},
   "outputs": [],
   "source": [
    "cad =  hdu[1].header['FRAMETIM'] *hdu[1].header[\"NUM_FRM\"]; \n",
    "cad/= 60.0 * 60.0 * 24.0 # in days\n",
    "print(\"cadence: \")\n",
    "print(cad,\" days; in hours: \",cad*24.0)\n",
    "\n",
    "print(\"\")\n",
    "print( \"timesteps between two sets of data points (days:\")\n",
    "print(T[-1]-T[-2],\" days; in hours: \",(T[-1]-T[-2])*24.0)"
   ]
  },
  {
   "cell_type": "markdown",
   "metadata": {},
   "source": [
    "This cadence makes sense. FFIs are taken evry 30 minutes which this supports."
   ]
  },
  {
   "cell_type": "code",
   "execution_count": null,
   "metadata": {},
   "outputs": [],
   "source": [
    "\n",
    "from scipy.signal import savgol_filter\n",
    "\n",
    "newflux = y\n",
    "\n",
    "# Identify extra outliers that survived our initial cut\n",
    "print(\" \")\n",
    "window_size = int(5.0/cad) #number of data points in 5 hour window\n",
    "if (window_size % 2) == 0: #must be odd\n",
    "    window_size = window_size+1\n",
    "print(\"number of data points in \",5,\" hours: \",window_size)\n",
    "\n",
    "#smoothing with Savitsky-Golay filter, doing so ten times\n",
    "\n",
    "o = np.ones(len(newflux), dtype=bool)\n",
    "for i in range(10):\n",
    "    y_prime = np.interp(x, x[o], newflux[o])\n",
    "    smooth = savgol_filter(y_prime, window_size, polyorder=3)\n",
    "    resid = newflux - smooth\n",
    "    sigma = np.sqrt(np.mean(resid**2))\n",
    "    o0 = np.abs(resid) < 3*sigma\n",
    "    if o.sum() == o0.sum():\n",
    "        o = o0\n",
    "        break\n",
    "    o = o0\n",
    "\n",
    "# Only discard positive outliers\n",
    "o = resid < 3.0*sigma\n",
    "\n",
    "# Shift the data so that the data starts at t=0.  (Optional. See later tutorial pages)\n",
    "# x_ref = np.min(x[o])\n",
    "# x -= x_ref\n",
    "\n",
    "# Plot the data\n",
    "plt.plot(x, newflux, \"k.\", label=\"data\")\n",
    "plt.plot(x, smooth)\n",
    "plt.plot(x[~o], newflux[~o], \"xr\", label=\"outliers\")\n",
    "plt.legend(fontsize=12)\n",
    "# plt.xlim(x.min(), x.max())\n",
    "plt.xlabel(\"shifted time (start at 0)\")\n",
    "plt.ylabel(\"flux\")\n",
    "plt.show()\n",
    "\n",
    "# Make sure that the data type is consistent\n",
    "xx = np.ascontiguousarray(x[o], dtype=np.float64)\n",
    "newflux = np.ascontiguousarray(newflux[o], dtype=np.float64)\n",
    "smooth = np.ascontiguousarray(smooth[o], dtype=np.float64)\n",
    "newfluxerror = np.ascontiguousarray(cutFluxError[o], dtype=np.float64)\n",
    "\n",
    "plt.plot(xx, newflux - smooth,'k.',label='flux-smoothed')\n",
    "plt.legend(fontsize=12)\n",
    "# plt.xlim(x.min(), x.max())\n",
    "plt.xlabel(\"shifted time (start at 0)\")\n",
    "plt.ylabel(\"flux\")\n",
    "plt.show()\n"
   ]
  },
  {
   "cell_type": "markdown",
   "metadata": {},
   "source": [
    "# And that's how you do basic photometry and data clean up!"
   ]
  },
  {
   "cell_type": "code",
   "execution_count": null,
   "metadata": {},
   "outputs": [],
   "source": []
  },
  {
   "cell_type": "code",
   "execution_count": null,
   "metadata": {},
   "outputs": [],
   "source": []
  },
  {
   "cell_type": "code",
   "execution_count": null,
   "metadata": {},
   "outputs": [],
   "source": []
  },
  {
   "cell_type": "markdown",
   "metadata": {},
   "source": [
    "# Back up in case MAST queries are not working (TIC v8 updating?)"
   ]
  },
  {
   "cell_type": "code",
   "execution_count": 39,
   "metadata": {},
   "outputs": [
    {
     "name": "stdout",
     "output_type": "stream",
     "text": [
      "Load in data sets downloaded from Filtergraph. Same target as in cell above ^^^\n",
      "Make sure to download 'TIC_316937670_lightcurve.txt' from GitHub Photometry folder\n"
     ]
    },
    {
     "data": {
      "image/png": "[encoded data removed]",
      "text/plain": [
       "<Figure size 432x288 with 1 Axes>"
      ]
     },
     "metadata": {
      "needs_background": "light"
     },
     "output_type": "display_data"
    }
   ],
   "source": [
    "#Back up in case MAST queries are not working (TIC v8 updating?)\n",
    "\n",
    "print (\"Load in data sets downloaded from Filtergraph. Same target as in cell above ^^^\")\n",
    "print( \"Make sure to download 'TIC_316937670_lightcurve.txt' from GitHub Photometry folder\")\n",
    "\n",
    "#load in data.\n",
    "ID='316937670'\n",
    "\n",
    "data = np.loadtxt('TIC_'+ID+'_lightcurve.txt')\n",
    "t = np.transpose(data)[0]\n",
    "f = np.transpose(data)[1]/np.mean(np.transpose(data)[1])\n",
    "fe = np.transpose(data)[2]\n",
    "\n",
    "plt.plot(t,f,'k.')\n",
    "plt.show()\n"
   ]
  },
  {
   "cell_type": "code",
   "execution_count": 40,
   "metadata": {},
   "outputs": [
    {
     "name": "stdout",
     "output_type": "stream",
     "text": [
      "0.015601840555555541\n",
      " \n",
      "number of data points in  5  hours:  321\n"
     ]
    },
    {
     "data": {
      "image/png": "[encoded data removed]",
      "text/plain": [
       "<Figure size 720x288 with 1 Axes>"
      ]
     },
     "metadata": {
      "needs_background": "light"
     },
     "output_type": "display_data"
    },
    {
     "data": {
      "image/png": "[encoded data removed]",
      "text/plain": [
       "<Figure size 720x288 with 1 Axes>"
      ]
     },
     "metadata": {
      "needs_background": "light"
     },
     "output_type": "display_data"
    }
   ],
   "source": [
    "from scipy.signal import savgol_filter\n",
    "\n",
    "newflux = f\n",
    "x = t\n",
    "\n",
    "cad = x[-1]-x[0]\n",
    "cad/= 60.0 * 60.0  # in days\n",
    "print(cad)\n",
    "\n",
    "\n",
    "# Identify extra outliers that survived our initial cut\n",
    "print(\" \")\n",
    "window_size = int(5.0/cad) #number of data points in 5 hour window\n",
    "if (window_size % 2) == 0: #must be odd\n",
    "    window_size = window_size+1\n",
    "print(\"number of data points in \",5,\" hours: \",window_size)\n",
    "\n",
    "#smoothing with Savitsky-Golay filter, doing so ten times\n",
    "\n",
    "o = np.ones(len(newflux), dtype=bool)\n",
    "# for i in range(10):\n",
    "for i in range(100):\n",
    "    y_prime = np.interp(x, x[o], newflux[o])\n",
    "    smooth = savgol_filter(y_prime, window_size, polyorder=3)\n",
    "    resid = newflux - smooth\n",
    "    sigma = np.sqrt(np.mean(resid**2))\n",
    "    o0 = np.abs(resid) < 3*sigma\n",
    "    if o.sum() == o0.sum():\n",
    "        o = o0\n",
    "        break\n",
    "    o = o0\n",
    "\n",
    "# Only discard positive outliers\n",
    "o = resid < 3.0*sigma\n",
    "\n",
    "# Shift the data so that the data starts at t=0.  (Optional. See later tutorial pages)\n",
    "# x_ref = np.min(x[o])\n",
    "# x -= x_ref\n",
    "\n",
    "# Plot the data\n",
    "plt.figure(figsize=(10,4))\n",
    "plt.plot(x, newflux, \"k.\", label=\"data\")\n",
    "plt.plot(x, smooth)\n",
    "plt.plot(x[~o], newflux[~o], \"xr\", label=\"outliers\")\n",
    "plt.legend(fontsize=12)\n",
    "# plt.xlim(x.min(), x.max())\n",
    "plt.xlabel(\"shifted time (start at 0)\")\n",
    "plt.ylabel(\"flux\")\n",
    "plt.ylim(0.9985,1.0015)\n",
    "plt.show()\n",
    "\n",
    "# Make sure that the data type is consistent\n",
    "xx = np.ascontiguousarray(x[o], dtype=np.float64)\n",
    "newflux = np.ascontiguousarray(newflux[o], dtype=np.float64)\n",
    "smooth = np.ascontiguousarray(smooth[o], dtype=np.float64)\n",
    "newfluxerror = np.ascontiguousarray(fe[o], dtype=np.float64)\n",
    "\n",
    "plt.figure(figsize=(10,4))\n",
    "plt.plot(xx, newflux - smooth+1,'k.',label='flux-smoothed')\n",
    "plt.legend(fontsize=12)\n",
    "# plt.xlim(x.min(), x.max())\n",
    "plt.xlabel(\"shifted time (start at 0)\")\n",
    "plt.ylabel(\"flux\")\n",
    "plt.ylim(0.9985,1.0015)\n",
    "plt.show()\n",
    "\n",
    "#save data to text file\n",
    "np.savetxt('TIC_'+ID+'_lightcurve_cleaned.txt',list(zip(xx,newflux - smooth+1,newfluxerror)))\n"
   ]
  }
 ],
 "metadata": {
  "kernelspec": {
   "display_name": "Python [conda env:py3.6]",
   "language": "python",
   "name": "conda-env-py3.6-py"
  },
  "language_info": {
   "codemirror_mode": {
    "name": "ipython",
    "version": 3
   },
   "file_extension": ".py",
   "mimetype": "text/x-python",
   "name": "python",
   "nbconvert_exporter": "python",
   "pygments_lexer": "ipython3",
   "version": "3.6.8"
  }
 },
 "nbformat": 4,
 "nbformat_minor": 2
}
