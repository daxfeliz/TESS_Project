{
 "cells": [
  {
   "cell_type": "markdown",
   "metadata": {},
   "source": [
    "# Introduction to Photometry \n",
    "In this example, I will go over how to extract a photometric time series from the Full Frame Images from TESS.\n",
    "\n",
    "## First, what is the  TESS mission and how does it work?\n",
    "\n",
    "Click the image below for Video Introduction:\n",
    "[![Youtube Video: ](https://img.youtube.com/vi/Q4KjvPIbgMI/0.jpg)](https://www.youtube.com/watch?v=Q4KjvPIbgMI)"
   ]
  },
  {
   "cell_type": "code",
   "execution_count": 10,
   "metadata": {},
   "outputs": [],
   "source": [
    "#or run this from your machine\n",
    "# from IPython.display import Audio,Image, YouTubeVideo\n",
    "# youtubeid='Q4KjvPIbgMI'\n",
    "# YouTubeVideo(id=youtubeid,width=800,height=400)"
   ]
  },
  {
   "cell_type": "markdown",
   "metadata": {},
   "source": [
    "As of today (May 29th, 2019), TESS is observing Sector 12 out of the 13 southern hemisphere sectors. For sectors 14-26, TESS will be begin observing the Northern hemisphere. There are tens of thousands of stars in each sector so there is plenty of work to do!"
   ]
  },
  {
   "cell_type": "markdown",
   "metadata": {},
   "source": [
    "Below are some very useful sites to bookmark for the future:\n",
    "\n",
    "## TESS Data Alerts (may need to register to use):\n",
    "[https://archive.stsci.edu/prepds/tess-data-alerts/](https://archive.stsci.edu/prepds/tess-data-alerts/)\n",
    "From MIT's Quick Look Pipeline (QLP, publication in preparation), special target stars in TESS are flagged for having interesting transit-like events or confirm previous discoveries or detections of known exoplanets. For most interesting flagged targets, there are two PDF reports: Data Validation Summary (dvs) and Data Validation Report (dvr). The dvs files are one page summary reports that show the light curves and detected transit-like events.\n",
    "\n",
    "Here is an example of an Ultra Short Period (USP) Super Earth-sized planet orbiting an M dwarf star:\n",
    "[https://archive.stsci.edu/hlsps/tess-data-alerts/hlsp_tess-data-alerts_tess_phot_00316937670-s01s02-01_tess_v1_dvs.pdf](https://archive.stsci.edu/hlsps/tess-data-alerts/hlsp_tess-data-alerts_tess_phot_00316937670-s01s02-01_tess_v1_dvs.pdf)\n",
    "\n",
    "## MAST\n",
    "[https://mast.stsci.edu/portal/Mashup/Clients/Mast/Portal.html](https://mast.stsci.edu/portal/Mashup/Clients/Mast/Portal.html)\n",
    "A very useful resource for searching stars that may be available in other astronomy surveys (like GAIA, 2MASS, Hipparcos, Tycho, etc).\n",
    "\n",
    "## SIMBAD\n",
    "[http://simbad.u-strasbg.fr/simbad/](http://simbad.u-strasbg.fr/simbad/)\n",
    "Much like MAST, SIMBAD is another search engine that is very useful in astronomy. You can also get a list of publications for a target from here to see previous work by others.\n",
    "\n",
    "## Web TESS viewing Tool\n",
    "[https://heasarc.gsfc.nasa.gov/cgi-bin/tess/webtess/wtv.py](https://heasarc.gsfc.nasa.gov/cgi-bin/tess/webtess/wtv.py)\n",
    "This is useful for checking when a target will or will not be observed by TESS\n",
    "\n",
    "## High precision TESS Light Curves Filtergraph\n",
    "[https://filtergraph.com/tess_ffi/](https://filtergraph.com/tess_ffi/)\n",
    "Ryan Oelkers and Keivan Stassun have provided incredibly useful already processed light curves available for download. I will show you how to extract light curves with \"Simple Aperture Photometry\" but these light curves have a much better methodology and we will be using this data extensively. [Read more about their work here.](https://arxiv.org/pdf/1803.02316.pdf)\n",
    "\n",
    "In the next section, I will show you how to use the Filtergraph website."
   ]
  },
  {
   "cell_type": "code",
   "execution_count": null,
   "metadata": {},
   "outputs": [],
   "source": []
  }
 ],
 "metadata": {
  "kernelspec": {
   "display_name": "Python [conda env:py3.6]",
   "language": "python",
   "name": "conda-env-py3.6-py"
  },
  "language_info": {
   "codemirror_mode": {
    "name": "ipython",
    "version": 3
   },
   "file_extension": ".py",
   "mimetype": "text/x-python",
   "name": "python",
   "nbconvert_exporter": "python",
   "pygments_lexer": "ipython3",
   "version": "3.6.8"
  }
 },
 "nbformat": 4,
 "nbformat_minor": 2
}
