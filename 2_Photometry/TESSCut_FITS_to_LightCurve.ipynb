{
 "cells": [
  {
   "cell_type": "code",
   "execution_count": 1,
   "metadata": {},
   "outputs": [],
   "source": [
    "# Based on https://exoplanet.dfm.io/en/latest/tutorials/stellar-variability/\n",
    "\n",
    "import numpy as np\n",
    "import matplotlib.pyplot as plt\n",
    "from matplotlib import pylab\n",
    "from pylab import *\n",
    "import matplotlib.gridspec as gridspec\n",
    "\n",
    "import glob, os\n",
    "from os import listdir\n",
    "from os.path import isfile, join\n",
    "import fnmatch\n",
    "import numpy as np\n",
    "import astropy\n",
    "from astropy.stats import BoxLeastSquares # <--- Super Important! We use this to search for periodic events in our data.\n",
    "# print(astropy.__version__)\n",
    "import lightkurve as lk #<--- Super Important! We use this to clean up our light curves as well as produce phase folded \n",
    "from scipy.signal import savgol_filter\n",
    "\n",
    "def ChauventsCriteron(x, y, z, mean=None, stdv=None):\n",
    "    from scipy.special import erfc\n",
    "    if mean is None:\n",
    "        mean = y.mean()           # Mean of incoming array y\n",
    "    if stdv is None:\n",
    "        stdv = y.std()            # Its standard deviation\n",
    "    N = len(y)                   # Lenght of incoming arrays\n",
    "    criterion = 1.0/(2*N)        # Chauvenet's criterion\n",
    "    d = abs(y-mean)/stdv         # Distance of a value to mean in stdv's\n",
    "    d /= 2.0**0.5                # The left and right tail threshold values\n",
    "    prob = erfc(d)               # Area normal dist.    \n",
    "    filter = prob >= criterion   # The 'accept' filter array with booleans\n",
    "    \n",
    "    xf = x[filter]; yf = y[filter]; zf=z[filter]\n",
    "#     print (\"criterion: \", criterion)\n",
    "#     print (\"3*std:\", std(y))\n",
    "#     return filter                # Use boolean array outside this function\n",
    "    return xf,yf,zf\n",
    "# For some light curves, where there are flare events, we may need to \n",
    "# turn this off. (Will add in future versions)\n",
    "\n",
    "\n",
    "#Below are some parameters we will use for cleaning up our data.\n",
    "Nsig=3; bin_size=5; window_size=201;spacing=0.02\n",
    "\n",
    "\n",
    "\n",
    "from astropy.io import fits\n",
    "import exoplanet as xo\n",
    "\n",
    "import theano.tensor as tt\n",
    "\n",
    "# import xoflares \n",
    "\n",
    "#-========= Karen's inverse weighted binning function ++++\n",
    "def Bin_func(time,flux,error,binsize):\n",
    "    good = np.where(np.isfinite(time))\n",
    "    timefit = time[good]\n",
    "    fluxfit = flux[good]\n",
    "    errfit  = error[good]\n",
    "    timemax = np.max(timefit)\n",
    "    timemin = np.min(timefit)\n",
    "    npoints = len(timefit)\n",
    "    nbins   = int(math.ceil((timemax - timemin)/binsize)) #binsize in days\n",
    "    bintime = np.full((nbins,), np.nan)\n",
    "    binflux = np.full((nbins,), np.nan)\n",
    "    binerr  = np.full((nbins,), np.nan)\n",
    "    for i in range(0,nbins-1):\n",
    "        tobin = [np.where( (timefit >= (timemin + i*binsize)) & (timefit < (timemin + (i+1)*binsize)) )]\n",
    "        if tobin[0] != -1:\n",
    "    #     inverse variance weighted means\n",
    "            binflux[i] = ((fluxfit[tobin]/(errfit[tobin]**2.0)).sum()) / ((1.0/errfit[tobin]**2.0).sum())\n",
    "            bintime[i] = ((timefit[tobin]/(errfit[tobin]**2.0)).sum()) / ((1.0/errfit[tobin]**2.0).sum())\n",
    "            binerr[i]  = 1.0 / (np.sqrt( (1.0/errfit[tobin]**2.0)).sum() )\n",
    "    \n",
    "    good2   = np.where(np.isfinite(bintime))\n",
    "    bintime = bintime[good2]\n",
    "    binflux = binflux[good2]\n",
    "    binerr  = binerr[good2]\n",
    "    \n",
    "    return bintime, binflux, binerr\n",
    "\n",
    "\n",
    "from lightkurve import search_targetpixelfile\n",
    "\n",
    "from astroquery.mast import Catalogs\n",
    "from astroquery.mast import Tesscut\n",
    "from astropy.coordinates import SkyCoord\n",
    "from astropy.wcs import WCS\n",
    "from astropy.io import fits\n",
    "from matplotlib.backends.backend_pdf import PdfPages"
   ]
  },
  {
   "cell_type": "code",
   "execution_count": 200,
   "metadata": {},
   "outputs": [],
   "source": [
    "def aperture_phot(image, aperture):\n",
    "    \"\"\"\n",
    "    Sum-up the pixels that are in the aperture for one image.\n",
    "    image and aperture are 2D arrays that need to be the same size.\n",
    "    \n",
    "    aperture is a boolean array where True means to include the light of those pixels.\n",
    "    \"\"\"\n",
    "    flux = np.sum(image[aperture])\n",
    "\n",
    "    return flux\n",
    "\n",
    "def make_lc(flux_data, aperture):\n",
    "    \"\"\"\n",
    "    Apply the 2d aperture array to the and time series of 2D images. \n",
    "    Return the photometric series by summing over the pixels that are in the aperture.\n",
    "    \n",
    "    Aperture is a boolean array where True means it is in the desired aperture.\n",
    "    \"\"\"\n",
    "    \n",
    "    flux = np.array(list (map (lambda x: aperture_phot(x, aperture), flux_data) ) )\n",
    "    error = np.array(list (map (lambda x: aperture_phot(x, aperture), flux_data) ) )\n",
    "    return flux,error"
   ]
  },
  {
   "cell_type": "code",
   "execution_count": 3,
   "metadata": {},
   "outputs": [
    {
     "name": "stdout",
     "output_type": "stream",
     "text": [
      "TIC ID:  416802189\n",
      "Quadratic limb darkening q1, q2:  0.1604 0.4325\n",
      "Stellar radius:  0.424772 + 0.0165809 - 0.0165809 solar radii\n",
      "Stellar mass:  0.419141 + 0.0234756 - 0.0234756 solar mass\n",
      " \n"
     ]
    }
   ],
   "source": [
    "# Interesting ones (Peter's MDEBs?)\n",
    "# 416801752 #need to check momentum dumps LARGE increase towards end\n",
    "# 121202851 #different BLS/TLS results but look convincing\n",
    "# 416802189 #different BLS/TLS results, do alias check\n",
    "# 416802173 #BLS decent, TLS weird\n",
    "\n",
    "ID =  416802189\n",
    "\n",
    "\n",
    "from transitleastsquares import catalog_info\n",
    "\n",
    "print(\"TIC ID: \",ID)\n",
    "qld, M_star, M_star_min, M_star_max, R_star, R_star_min, R_star_max = catalog_info(TIC_ID=ID)\n",
    "print('Quadratic limb darkening q1, q2: ', qld[0], qld[1])\n",
    "print('Stellar radius: ', R_star, '+', R_star_max, '-', R_star_min, 'solar radii')\n",
    "print('Stellar mass: ', M_star, '+', M_star_max, '-', M_star_min,'solar mass')\n",
    "print(\" \")\n",
    "\n",
    "from astropy.io import fits\n",
    "from astropy.wcs import WCS"
   ]
  },
  {
   "cell_type": "markdown",
   "metadata": {},
   "source": [
    "# Once you have a TESS cutout from  https://mast.stsci.edu/tesscut/ you can import your FITS file to extract the image below:"
   ]
  },
  {
   "cell_type": "code",
   "execution_count": 199,
   "metadata": {},
   "outputs": [
    {
     "name": "stdout",
     "output_type": "stream",
     "text": [
      "Filename: data/tess-s0005-1-4_55.320459_6.560130_10x15_astrocut.fits\n",
      "No.    Name      Ver    Type      Cards   Dimensions   Format\n",
      "  0  PRIMARY       1 PrimaryHDU      55   ()      \n",
      "  1  PIXELS        1 BinTableHDU    279   1196R x 12C   [D, E, J, 150J, 150E, 150E, 150E, 150E, J, E, E, 38A]   \n",
      "  2  APERTURE      1 ImageHDU        79   (10, 15)   int32   \n"
     ]
    },
    {
     "data": {
      "image/png": "[encoded data removed]",
      "text/plain": [
       "<Figure size 864x576 with 2 Axes>"
      ]
     },
     "metadata": {
      "needs_background": "light"
     },
     "output_type": "display_data"
    }
   ],
   "source": [
    "\n",
    "file =\"data/tess-s0005-1-4_55.320459_6.560130_10x15_astrocut.fits\"\n",
    "fits.info(file)\n",
    "\n",
    "fs=10\n",
    "# with PdfPages('TIC_'+str(ID)+'_FFIs.pdf') as pdf: #this is a way to save PDF files of your figures\n",
    "    # Reading in WCS coordinates and calibrated image\n",
    "with fits.open(file, mode = \"readonly\") as hdulist:\n",
    "    wcs_info = WCS(hdulist[1].header)\n",
    "    cal_image = hdulist[1].data\n",
    "    header = hdulist[1].header\n",
    "    \n",
    "    Image = cal_image['FLUX'][0] \n",
    "    wcs = WCS(hdulist[2].header)\n",
    "    aperture = hdulist[2].data\n",
    "    \n",
    "with PdfPages('TIC_'+str(ID)+'_FFIs.pdf') as pdf: #this is a way to save PDF files of your figures\n",
    "    pltind = 221\n",
    "\n",
    "    fig = plt.figure(figsize=(12, 8))\n",
    "\n",
    "    fig.add_subplot(pltind).imshow(Image, origin = 'lower', cmap = plt.cm.YlGnBu_r, \n",
    "           vmax = np.percentile(Image, 92),\n",
    "           vmin = np.percentile(Image, 5))\n",
    "    plt.ylabel('Image Row',fontsize = fs) \n",
    "    plt.xlabel('Image Column',fontsize = fs)\n",
    "    plt.title(\"Sector \"+str(hdulist[0].header['SECTOR']),fontsize = fs)\n",
    "\n",
    "\n",
    "    fig.add_subplot(pltind+1,projection = wcs).imshow(Image, origin = 'lower', cmap = plt.cm.YlGnBu_r, \n",
    "           vmax = np.percentile(Image, 92),\n",
    "           vmin = np.percentile(Image, 5))\n",
    "    \n",
    "    plt.title(\"Sector \"+str(hdulist[0].header['SECTOR']),fontsize = fs)\n",
    "    plt.xlabel('RA', fontsize = 12)\n",
    "    plt.ylabel('Dec', fontsize = 12)\n",
    "\n",
    "    fig.suptitle('TIC '+str(ID)+' FFIs')\n",
    "    fig.subplots_adjust(wspace=0.1)#,hspace=0.02)\n",
    "#         fig.tight_layout(rect=[0, 0.03, 1, 0.95])\n",
    "    pdf.savefig(bbox_inches='tight')\n",
    "    plt.show()\n",
    "\n",
    "# Reading in WCS coordinates and calibrated image\n",
    "with fits.open(file, mode = \"readonly\") as hdulist:\n",
    "    wcs_info = WCS(hdulist[1].header)\n",
    "    cal_image = hdulist[1].data\n",
    "    header = hdulist[1].header\n",
    "    "
   ]
  },
  {
   "cell_type": "markdown",
   "metadata": {},
   "source": [
    "# Here is the same data set with a smaller cut out (5x5 instead of 15x10)"
   ]
  },
  {
   "cell_type": "code",
   "execution_count": 201,
   "metadata": {},
   "outputs": [
    {
     "data": {
      "image/png": "[encoded data removed]",
      "text/plain": [
       "<Figure size 864x576 with 2 Axes>"
      ]
     },
     "metadata": {
      "needs_background": "light"
     },
     "output_type": "display_data"
    }
   ],
   "source": [
    "file = 'data/tess-s0005-1-4_55.224195_7.162489_5x5_astrocut.fits'\n",
    "fs=10\n",
    "# with PdfPages('TIC_'+str(ID)+'_FFIs.pdf') as pdf: #this is a way to save PDF files of your figures\n",
    "    # Reading in WCS coordinates and calibrated image\n",
    "with fits.open(file, mode = \"readonly\") as hdulist:\n",
    "    wcs_info = WCS(hdulist[1].header)\n",
    "    cal_image = hdulist[1].data\n",
    "    header = hdulist[1].header\n",
    "    \n",
    "    Image = cal_image['FLUX'][0] \n",
    "    wcs = WCS(hdulist[2].header)\n",
    "    aperture = hdulist[2].data\n",
    "    \n",
    "with PdfPages('TIC_'+str(ID)+'_FFIs.pdf') as pdf: #this is a way to save PDF files of your figures\n",
    "    pltind = 221\n",
    "\n",
    "    fig = plt.figure(figsize=(12, 8))\n",
    "\n",
    "    fig.add_subplot(pltind).imshow(Image, origin = 'lower', cmap = plt.cm.YlGnBu_r, \n",
    "           vmax = np.percentile(Image, 92),\n",
    "           vmin = np.percentile(Image, 5))\n",
    "    plt.ylabel('Image Row',fontsize = fs) \n",
    "    plt.xlabel('Image Column',fontsize = fs)\n",
    "    plt.title(\"Sector \"+str(hdulist[0].header['SECTOR']),fontsize = fs)\n",
    "\n",
    "\n",
    "    fig.add_subplot(pltind+1,projection = wcs).imshow(Image, origin = 'lower', cmap = plt.cm.YlGnBu_r, \n",
    "           vmax = np.percentile(Image, 92),\n",
    "           vmin = np.percentile(Image, 5))\n",
    "    \n",
    "    plt.title(\"Sector \"+str(hdulist[0].header['SECTOR']),fontsize = fs)\n",
    "    plt.xlabel('RA', fontsize = 12)\n",
    "    plt.ylabel('Dec', fontsize = 12)\n",
    "\n",
    "    fig.suptitle('TIC '+str(ID)+' FFIs')\n",
    "    fig.subplots_adjust(wspace=0.1)#,hspace=0.02)\n",
    "#         fig.tight_layout(rect=[0, 0.03, 1, 0.95])\n",
    "    pdf.savefig(bbox_inches='tight')\n",
    "    plt.show()\n",
    "\n",
    "# Reading in WCS coordinates and calibrated image\n",
    "with fits.open(file, mode = \"readonly\") as hdulist:\n",
    "    wcs_info = WCS(hdulist[1].header)\n",
    "    cal_image = hdulist[1].data\n",
    "    header = hdulist[1].header\n",
    "    "
   ]
  },
  {
   "cell_type": "markdown",
   "metadata": {},
   "source": [
    "# Below is a function to extract a light curve from the FITS file:"
   ]
  },
  {
   "cell_type": "code",
   "execution_count": 195,
   "metadata": {},
   "outputs": [],
   "source": [
    "def TESScutFits_to_lightcurve(fits_file):\n",
    "    \n",
    "    rawt=[];rawf=[];rawe=[]\n",
    "    bkgt=[];bkgf=[];bkge=[]\n",
    "    T=[];F=[];E=[]\n",
    "\n",
    "    with fits.open(fits_file, mode = \"readonly\") as hdu:\n",
    "        wcs_info = WCS(hdu[1].header)\n",
    "        cal_image = hdu[1].data\n",
    "        header = hdu[1].header\n",
    "        quality = hdu[1].data['QUALITY']\n",
    "\n",
    "        Image = cal_image['FLUX'][0] \n",
    "        wcs = WCS(hdu[2].header)\n",
    "        aperture = hdu[2].data ==1 #just for this case because cutout is so zoomed in\n",
    "\n",
    "\n",
    "        #extract raw light curve\n",
    "        f = make_lc(hdu[1].data['FLUX'], aperture)[0]\n",
    "        e = make_lc(hdu[1].data['FLUX_ERR'], aperture)[0]\n",
    "        t = hdu[1].data['TIME'] \n",
    "\n",
    "        t = t[~np.isnan(t)] # ~np.isnan() removes NaN (not a number) values from array. Sometimes weird things happen that cause this (telescope errors, known problems,etc).\n",
    "        f = f[~np.isnan(f)]\n",
    "        e = e[~np.isnan(e)]\n",
    "\n",
    "        #removing bad quality data points\n",
    "        m = np.where(quality==0)[0]\n",
    "        t=t[m]\n",
    "        f=f[m]\n",
    "        e=e[m]\n",
    "\n",
    "        #estimate background flux by checking dimmest pixels by using percentile.\n",
    "        bkgAperture = hdu[1].data['FLUX'][0] < np.percentile(hdu[1].data['FLUX'][0], 5)\n",
    "\n",
    "        bkgFlux = make_lc(hdu[1].data['FLUX'], bkgAperture)[0][m] #also apply quality mas\n",
    "        bkgSubFlux = f - (bkgFlux * np.sum(aperture) / np.sum(bkgAperture) ) #subtracting background flux\n",
    "        bkgSubFlux = bkgSubFlux[~np.isnan(bkgSubFlux)]\n",
    "\n",
    "        #Normalize background subtracted flux\n",
    "        NormFlux = bkgSubFlux/np.mean(bkgSubFlux)\n",
    "        NormFlux = NormFlux[~np.isnan(NormFlux)]\n",
    "\n",
    "        rawt=np.append(rawt,t)\n",
    "        rawf=np.append(rawf,f)\n",
    "        rawe=np.append(rawe,e)\n",
    "\n",
    "        #Background flux data\n",
    "        bkgFlux = bkgFlux[~np.isnan(bkgFlux)] \n",
    "\n",
    "        bkgt = np.append(bkgt,t)\n",
    "        bkgf = np.append(bkgf,bkgFlux)\n",
    "        bkge = np.append(bkge,e)\n",
    "\n",
    "\n",
    "        #background subtracted and normalized data\n",
    "        NormFlux = NormFlux[~np.isnan(NormFlux)]\n",
    "        t = t[~np.isnan(NormFlux)]\n",
    "        e = e[~np.isnan(NormFlux)]\n",
    "\n",
    "        T = np.append(T,t)\n",
    "        F = np.append(F,NormFlux)\n",
    "        E = np.append(E,e)\n",
    "        \n",
    "    return T,F,E"
   ]
  },
  {
   "cell_type": "markdown",
   "metadata": {},
   "source": [
    "# Here is how the two cutout sizes compare:"
   ]
  },
  {
   "cell_type": "code",
   "execution_count": 204,
   "metadata": {},
   "outputs": [
    {
     "data": {
      "image/png": "[encoded data removed]",
      "text/plain": [
       "<Figure size 432x288 with 1 Axes>"
      ]
     },
     "metadata": {
      "needs_background": "light"
     },
     "output_type": "display_data"
    }
   ],
   "source": [
    "\n",
    "tt,ff,ee = TESScutFits_to_lightcurve(\"data/tess-s0005-1-4_55.224195_7.162489_10x15_astrocut.fits\")\n",
    "tt2,ff2,ee2 = TESScutFits_to_lightcurve(\"data/tess-s0005-1-4_55.224195_7.162489_5x5_astrocut.fits\")\n",
    "plt.plot(tt,ff,'k.',label='15x10 cutout')\n",
    "plt.plot(tt2,ff2,'r.',label='5x5 cutout')\n",
    "plt.legend(loc='best',fancybox=True,framealpha=0.5)\n",
    "plt.title(\"TIC \"+str(ID))\n",
    "plt.show()\n"
   ]
  },
  {
   "cell_type": "code",
   "execution_count": null,
   "metadata": {},
   "outputs": [],
   "source": []
  }
 ],
 "metadata": {
  "kernelspec": {
   "display_name": "py3.6",
   "language": "python",
   "name": "py3.6"
  },
  "language_info": {
   "codemirror_mode": {
    "name": "ipython",
    "version": 3
   },
   "file_extension": ".py",
   "mimetype": "text/x-python",
   "name": "python",
   "nbconvert_exporter": "python",
   "pygments_lexer": "ipython3",
   "version": "3.7.3"
  }
 },
 "nbformat": 4,
 "nbformat_minor": 2
}
