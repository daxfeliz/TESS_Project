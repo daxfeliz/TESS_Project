{
 "cells": [
  {
   "cell_type": "code",
   "execution_count": 3,
   "metadata": {},
   "outputs": [],
   "source": [
    "# from https://www.w3schools.com/python/python_mysql_create_db.asp\n",
    "h='localhost'\n",
    "u='root'\n",
    "pw='Daxthejew'\n",
    "\n",
    "import mysql.connector\n",
    "\n",
    "mydb = mysql.connector.connect(host=h,user=u, password=pw)"
   ]
  },
  {
   "cell_type": "code",
   "execution_count": 2,
   "metadata": {},
   "outputs": [
    {
     "ename": "NameError",
     "evalue": "name 'mydb' is not defined",
     "output_type": "error",
     "traceback": [
      "\u001b[0;31m---------------------------------------------------------------------------\u001b[0m",
      "\u001b[0;31mNameError\u001b[0m                                 Traceback (most recent call last)",
      "\u001b[0;32m<ipython-input-2-a99037a9dd39>\u001b[0m in \u001b[0;36m<module>\u001b[0;34m\u001b[0m\n\u001b[1;32m      1\u001b[0m \u001b[0;31m# make test database\u001b[0m\u001b[0;34m\u001b[0m\u001b[0;34m\u001b[0m\u001b[0;34m\u001b[0m\u001b[0m\n\u001b[1;32m      2\u001b[0m \u001b[0;34m\u001b[0m\u001b[0m\n\u001b[0;32m----> 3\u001b[0;31m \u001b[0mmycursor\u001b[0m \u001b[0;34m=\u001b[0m \u001b[0mmydb\u001b[0m\u001b[0;34m.\u001b[0m\u001b[0mcursor\u001b[0m\u001b[0;34m(\u001b[0m\u001b[0;34m)\u001b[0m\u001b[0;34m\u001b[0m\u001b[0;34m\u001b[0m\u001b[0m\n\u001b[0m\u001b[1;32m      4\u001b[0m \u001b[0;34m\u001b[0m\u001b[0m\n\u001b[1;32m      5\u001b[0m \u001b[0mmycursor\u001b[0m\u001b[0;34m.\u001b[0m\u001b[0mexecute\u001b[0m\u001b[0;34m(\u001b[0m\u001b[0;34m\"drop database test\"\u001b[0m\u001b[0;34m)\u001b[0m \u001b[0;31m#deletes previous runs\u001b[0m\u001b[0;34m\u001b[0m\u001b[0;34m\u001b[0m\u001b[0m\n",
      "\u001b[0;31mNameError\u001b[0m: name 'mydb' is not defined"
     ]
    }
   ],
   "source": [
    "# make test database\n",
    "\n",
    "mycursor = mydb.cursor()\n",
    "\n",
    "mycursor.execute(\"drop database test\") #deletes previous runs\n",
    "mycursor.execute(\"create DATABASE test\")\n",
    "\n",
    "#check if database exits (if it does run 'drop database test' instead)\n",
    "\n",
    "mycursor.execute(\"SHOW DATABASES\")\n",
    "\n",
    "for x in mycursor:\n",
    "    print(x)\n"
   ]
  },
  {
   "cell_type": "code",
   "execution_count": null,
   "metadata": {},
   "outputs": [],
   "source": [
    "#try connecting to specific database\n",
    "\n",
    "mydb = mysql.connector.connect(host=h, user=u, password=pw, database=\"test\")\n",
    "\n",
    "#let's add a table to our test data base\n",
    "mycursor = mydb.cursor()\n",
    "\n",
    "\n",
    "mycursor.execute(\"CREATE TABLE customers (name VARCHAR(255), address VARCHAR(255))\")\n",
    "\n",
    "# check if table exists\n",
    "mycursor.execute(\"show tables\")\n",
    "\n",
    "for x in mycursor:\n",
    "    print(x)\n"
   ]
  },
  {
   "cell_type": "code",
   "execution_count": null,
   "metadata": {},
   "outputs": [],
   "source": [
    "# When creating a table, you should also create a column with a unique key for each record.\n",
    "# This can be done by defining a PRIMARY KEY.\n",
    "# statement \"INT AUTO_INCREMENT PRIMARY KEY\" which will insert a unique number for each record. \n",
    "# Starting at 1, and increased by one for each record.\n",
    "\n",
    "#use ALTER to alter existing table by ADDing a column\n",
    "mycursor.execute(\"ALTER TABLE customers ADD COLUMN id INT AUTO_INCREMENT PRIMARY KEY\")"
   ]
  },
  {
   "cell_type": "code",
   "execution_count": null,
   "metadata": {},
   "outputs": [],
   "source": [
    "#Ok, so we have a table with IDs, let's add values using variables/strings\n",
    "sql = \"INSERT INTO customers (name, address) VALUES (%s, %s)\"\n",
    "val = (\"John\", \"Highway 21\")\n",
    "\n",
    "mycursor.execute(sql, val)\n",
    "mydb.commit()\n",
    "print(mycursor.rowcount, \"record inserted.\")\n"
   ]
  },
  {
   "cell_type": "code",
   "execution_count": null,
   "metadata": {},
   "outputs": [],
   "source": [
    "#Let's now try to insert multiple rows\n",
    "\n",
    "sql = \"INSERT INTO customers (name, address) VALUES (%s, %s)\"\n",
    "val = [\n",
    "  ('Peter', 'Lowstreet 4'),\n",
    "  ('Amy', 'Apple st 652'),\n",
    "  ('Hannah', 'Mountain 21'),\n",
    "  ('Michael', 'Valley 345'),\n",
    "  ('Sandy', 'Ocean blvd 2'),\n",
    "  ('Betty', 'Green Grass 1'),\n",
    "  ('Richard', 'Sky st 331'),\n",
    "  ('Susan', 'One way 98'),\n",
    "  ('Vicky', 'Yellow Garden 2'),\n",
    "  ('Ben', 'Park Lane 38'),\n",
    "  ('William', 'Central st 954'),\n",
    "  ('Chuck', 'Main Road 989'),\n",
    "  ('Viola', 'Sideway 1633')\n",
    "]\n",
    "\n",
    "mycursor.executemany(sql, val)\n",
    "\n",
    "mydb.commit()\n",
    "\n",
    "print(mycursor.rowcount, \"was inserted.\")"
   ]
  },
  {
   "cell_type": "code",
   "execution_count": null,
   "metadata": {},
   "outputs": [],
   "source": [
    "# Now let's try to select items from database\n",
    "mycursor.execute(\"SELECT * FROM customers\")\n",
    "\n",
    "myresult = mycursor.fetchall()\n",
    "\n",
    "for x in myresult:\n",
    "    print(x)"
   ]
  },
  {
   "cell_type": "code",
   "execution_count": null,
   "metadata": {},
   "outputs": [],
   "source": [
    "# Let's say you only want a specific column\n",
    "\n",
    "mycursor.execute(\"SELECT name, address FROM customers\")\n",
    "\n",
    "myresult = mycursor.fetchall()\n",
    "\n",
    "for x in myresult:\n",
    "    print(x)"
   ]
  },
  {
   "cell_type": "code",
   "execution_count": null,
   "metadata": {},
   "outputs": [],
   "source": [
    "#Let's say you only want one row\n",
    "\n",
    "mycursor.execute(\"SELECT * FROM customers\")\n",
    "\n",
    "myresult = mycursor.fetchone() #1st row by default\n",
    "\n",
    "print(myresult)"
   ]
  },
  {
   "cell_type": "code",
   "execution_count": null,
   "metadata": {},
   "outputs": [],
   "source": [
    "#Lets try using a filter to get a specific result\n",
    "\n",
    "mydb = mysql.connector.connect(host=h, user=u, password=pw, database=\"test\")\n",
    "\n",
    "mycursor = mydb.cursor()\n",
    "\n",
    "sql = \"SELECT * FROM customers WHERE address = 'Park Lane 38'\"\n",
    "\n",
    "mycursor.execute(sql)\n",
    "\n",
    "myresult = mycursor.fetchall()\n",
    "\n",
    "for x in myresult:\n",
    "    print(x)"
   ]
  },
  {
   "cell_type": "code",
   "execution_count": null,
   "metadata": {},
   "outputs": [],
   "source": [
    "# Much like in bash, you can also use wildcards to filter results\n",
    "# You can also select the records that starts, includes, or ends with a given letter or phrase.\n",
    "# Use the %  to represent wildcard characters for addresses with the phrase \"way\":\n",
    "\n",
    "sql = \"SELECT * FROM customers WHERE address LIKE '%way%'\"\n",
    "\n",
    "mycursor.execute(sql)\n",
    "\n",
    "myresult = mycursor.fetchall()\n",
    "\n",
    "for x in myresult:\n",
    "    print(x)"
   ]
  },
  {
   "cell_type": "code",
   "execution_count": null,
   "metadata": {},
   "outputs": [],
   "source": [
    "# You can also sort results from your queries, in this case by name\n",
    "\n",
    "sql = \"SELECT * FROM customers ORDER BY name\"\n",
    "\n",
    "mycursor.execute(sql)\n",
    "\n",
    "myresult = mycursor.fetchall()\n",
    "\n",
    "for x in myresult:\n",
    "    print(x)\n"
   ]
  },
  {
   "cell_type": "code",
   "execution_count": null,
   "metadata": {},
   "outputs": [],
   "source": [
    "#you can also sort in descending order with DESC or ascending order with ASC \n",
    "\n",
    "sql = \"SELECT * FROM customers ORDER BY name DESC\"\n",
    "\n",
    "mycursor.execute(sql)\n",
    "\n",
    "myresult = mycursor.fetchall()\n",
    "\n",
    "for x in myresult:\n",
    "    print(x)\n",
    "\n",
    "print(' ')\n",
    "sql = \"SELECT * FROM customers ORDER BY name ASC\"\n",
    "\n",
    "mycursor.execute(sql)\n",
    "\n",
    "myresult = mycursor.fetchall()\n",
    "\n",
    "for x in myresult:\n",
    "    print(x)"
   ]
  },
  {
   "cell_type": "code",
   "execution_count": null,
   "metadata": {},
   "outputs": [],
   "source": [
    "# # you can remove records with DELETE\n",
    "\n",
    "# sql = \"DELETE FROM customers WHERE address = 'Mountain 21'\"\n",
    "\n",
    "# mycursor.execute(sql)\n",
    "\n",
    "# mydb.commit() #required or else changes won't be saved, kind of like git\n",
    "\n",
    "# print(mycursor.rowcount, \"record(s) deleted\")\n"
   ]
  },
  {
   "cell_type": "code",
   "execution_count": null,
   "metadata": {},
   "outputs": [],
   "source": [
    "# # how to delete a table\n",
    "\n",
    "# sql = \"DROP TABLE customers\"\n",
    "# mycursor.execute(sql)"
   ]
  },
  {
   "cell_type": "code",
   "execution_count": null,
   "metadata": {},
   "outputs": [],
   "source": [
    "# # If the the table you want to delete is already deleted, or for any other reason does not exist,\n",
    "# # you can use the IF EXISTS keyword to avoid getting an error.\n",
    "\n",
    "# sql = \"DROP TABLE IF EXISTS customers\"\n",
    "# mycursor.execute(sql)"
   ]
  },
  {
   "cell_type": "code",
   "execution_count": null,
   "metadata": {},
   "outputs": [],
   "source": [
    "# You can update existing records in a table by using the \"UPDATE\" statement:\n",
    "mydb = mysql.connector.connect(host=h, user=u, password=pw, database=\"test\")\n",
    "\n",
    "mycursor = mydb.cursor()\n",
    "\n",
    "sql = \"UPDATE customers SET address = 'Canyon 123' WHERE address = 'Valley 345'\"\n",
    "mycursor.execute(sql)\n",
    "mydb.commit()\n",
    "print(mycursor.rowcount, \"record(s) affected\")"
   ]
  },
  {
   "cell_type": "code",
   "execution_count": null,
   "metadata": {},
   "outputs": [],
   "source": [
    "# Let's say you don't want all results but only a subset, let's do the first 5.\n",
    "# You can limit the number of records returned from the query, by using the \"LIMIT\" statement:\n",
    "\n",
    "mycursor.execute(\"SELECT * FROM customers LIMIT 5\")\n",
    "\n",
    "myresult = mycursor.fetchall()\n",
    "\n",
    "for x in myresult:\n",
    "    print(x)"
   ]
  },
  {
   "cell_type": "code",
   "execution_count": null,
   "metadata": {},
   "outputs": [],
   "source": [
    "# Let's try from a specific row in the database, 3 to 5\n",
    "\n",
    "mycursor.execute(\"SELECT * FROM customers LIMIT 5 OFFSET 2\")  #offsets from 0\n",
    "\n",
    "myresult = mycursor.fetchall()\n",
    "\n",
    "for x in myresult:\n",
    "    print(x)"
   ]
  },
  {
   "cell_type": "code",
   "execution_count": null,
   "metadata": {},
   "outputs": [],
   "source": []
  },
  {
   "cell_type": "code",
   "execution_count": null,
   "metadata": {},
   "outputs": [],
   "source": []
  },
  {
   "cell_type": "markdown",
   "metadata": {},
   "source": [
    "# Let's try making a database for ecliptic longitudes and latitudes to filter"
   ]
  },
  {
   "cell_type": "code",
   "execution_count": 7,
   "metadata": {},
   "outputs": [
    {
     "data": {
      "image/png": "[encoded data removed]",
      "text/plain": [
       "<Figure size 432x288 with 1 Axes>"
      ]
     },
     "metadata": {
      "needs_background": "light"
     },
     "output_type": "display_data"
    }
   ],
   "source": [
    "import numpy as np\n",
    "from matplotlib import pyplot as plt\n",
    "import pandas as pd\n",
    "def SouthernHemisphere():\n",
    "    #1st create southern hemisphere\n",
    "    ECLONGS=[]\n",
    "    ECLATS =[]\n",
    "    for x in range(360+1):\n",
    "        eclong = np.linspace(x,x+1,100)\n",
    "        eclat = np.linspace(-90,0,100)\n",
    "        ECLONGS=np.append(ECLONGS,eclong)\n",
    "        ECLATS=np.append(ECLATS,eclat)    \n",
    "        \n",
    "        data=pd.DataFrame({'eclong':ECLONGS,'eclat':ECLATS})\n",
    "    return data\n",
    "\n",
    "data = SouthernHemisphere()\n",
    "\n",
    "plt.plot(data['eclong'],data['eclat'])\n",
    "plt.xlim(-10,370)\n",
    "plt.xticks(np.arange(0,360+45,45))\n",
    "plt.yticks(np.arange(-90,0+15,15))\n",
    "plt.savefig('SouthernHemisphere.png')\n",
    "plt.show()\n",
    "\n",
    "#save data as csv file\n",
    "\n",
    "data.to_csv('SouthernHemisphere.csv')"
   ]
  },
  {
   "cell_type": "code",
   "execution_count": 13,
   "metadata": {},
   "outputs": [
    {
     "name": "stdout",
     "output_type": "stream",
     "text": [
      "('information_schema',)\n",
      "('mysql',)\n",
      "('performance_schema',)\n",
      "('sys',)\n",
      "('TESS_South',)\n",
      "('TESSSouth',)\n",
      "('test',)\n"
     ]
    }
   ],
   "source": [
    "mydb = mysql.connector.connect(host=h, user=u, password=pw)\n",
    "mycursor = mydb.cursor()\n",
    "\n",
    "# mycursor.execute(\"drop DATABASE TESSSouth\")\n",
    "mycursor.execute(\"create DATABASE TESSSouth\")\n",
    "mycursor.execute(\"SHOW DATABASES\")\n",
    "\n",
    "for x in mycursor:\n",
    "    print(x)"
   ]
  },
  {
   "cell_type": "code",
   "execution_count": 14,
   "metadata": {},
   "outputs": [],
   "source": [
    "mydb = mysql.connector.connect(host=h, user=u, password=pw,database=\"TESSSouth\", allow_local_infile=True)\n",
    "mycursor = mydb.cursor()\n",
    "#make table with id, eclong, eclat in coordinates table\n",
    "sql=\"CREATE TABLE coordinates (id INT NOT NULL AUTO_INCREMENT, eclong VARCHAR(255) NOT NULL, eclat VARCHAR(255) NOT NULL, PRIMARY KEY (id));\"\n",
    "\n",
    "mycursor.execute(sql)"
   ]
  },
  {
   "cell_type": "code",
   "execution_count": 15,
   "metadata": {},
   "outputs": [
    {
     "name": "stdout",
     "output_type": "stream",
     "text": [
      "('coordinates',)\n"
     ]
    }
   ],
   "source": [
    "from mysql.connector.constants import ClientFlag\n",
    "mydb = mysql.connector.connect(host=h, user=u, password=pw, database=\"TESSSouth\", allow_local_infile=True, client_flags=[ClientFlag.LOCAL_FILES])\n",
    "mycursor = mydb.cursor()\n",
    "mycursor.execute(\"show tables\")\n",
    "for x in mycursor:\n",
    "    print(x)"
   ]
  },
  {
   "cell_type": "code",
   "execution_count": 16,
   "metadata": {},
   "outputs": [
    {
     "data": {
      "text/html": [
       "<div>\n",
       "<style scoped>\n",
       "    .dataframe tbody tr th:only-of-type {\n",
       "        vertical-align: middle;\n",
       "    }\n",
       "\n",
       "    .dataframe tbody tr th {\n",
       "        vertical-align: top;\n",
       "    }\n",
       "\n",
       "    .dataframe thead th {\n",
       "        text-align: right;\n",
       "    }\n",
       "</style>\n",
       "<table border=\"1\" class=\"dataframe\">\n",
       "  <thead>\n",
       "    <tr style=\"text-align: right;\">\n",
       "      <th></th>\n",
       "      <th>eclong</th>\n",
       "      <th>eclat</th>\n",
       "    </tr>\n",
       "  </thead>\n",
       "  <tbody>\n",
       "    <tr>\n",
       "      <th>0</th>\n",
       "      <td>0.000000</td>\n",
       "      <td>-90.000000</td>\n",
       "    </tr>\n",
       "    <tr>\n",
       "      <th>1</th>\n",
       "      <td>0.010101</td>\n",
       "      <td>-89.090909</td>\n",
       "    </tr>\n",
       "    <tr>\n",
       "      <th>2</th>\n",
       "      <td>0.020202</td>\n",
       "      <td>-88.181818</td>\n",
       "    </tr>\n",
       "    <tr>\n",
       "      <th>3</th>\n",
       "      <td>0.030303</td>\n",
       "      <td>-87.272727</td>\n",
       "    </tr>\n",
       "    <tr>\n",
       "      <th>4</th>\n",
       "      <td>0.040404</td>\n",
       "      <td>-86.363636</td>\n",
       "    </tr>\n",
       "    <tr>\n",
       "      <th>...</th>\n",
       "      <td>...</td>\n",
       "      <td>...</td>\n",
       "    </tr>\n",
       "    <tr>\n",
       "      <th>36095</th>\n",
       "      <td>360.959596</td>\n",
       "      <td>-3.636364</td>\n",
       "    </tr>\n",
       "    <tr>\n",
       "      <th>36096</th>\n",
       "      <td>360.969697</td>\n",
       "      <td>-2.727273</td>\n",
       "    </tr>\n",
       "    <tr>\n",
       "      <th>36097</th>\n",
       "      <td>360.979798</td>\n",
       "      <td>-1.818182</td>\n",
       "    </tr>\n",
       "    <tr>\n",
       "      <th>36098</th>\n",
       "      <td>360.989899</td>\n",
       "      <td>-0.909091</td>\n",
       "    </tr>\n",
       "    <tr>\n",
       "      <th>36099</th>\n",
       "      <td>361.000000</td>\n",
       "      <td>0.000000</td>\n",
       "    </tr>\n",
       "  </tbody>\n",
       "</table>\n",
       "<p>36100 rows × 2 columns</p>\n",
       "</div>"
      ],
      "text/plain": [
       "           eclong      eclat\n",
       "0        0.000000 -90.000000\n",
       "1        0.010101 -89.090909\n",
       "2        0.020202 -88.181818\n",
       "3        0.030303 -87.272727\n",
       "4        0.040404 -86.363636\n",
       "...           ...        ...\n",
       "36095  360.959596  -3.636364\n",
       "36096  360.969697  -2.727273\n",
       "36097  360.979798  -1.818182\n",
       "36098  360.989899  -0.909091\n",
       "36099  361.000000   0.000000\n",
       "\n",
       "[36100 rows x 2 columns]"
      ]
     },
     "execution_count": 16,
     "metadata": {},
     "output_type": "execute_result"
    }
   ],
   "source": [
    "data"
   ]
  },
  {
   "cell_type": "code",
   "execution_count": 17,
   "metadata": {},
   "outputs": [
    {
     "ename": "MySQLInterfaceError",
     "evalue": "Commands out of sync; you can't run this command now",
     "output_type": "error",
     "traceback": [
      "\u001b[0;31m---------------------------------------------------------------------------\u001b[0m",
      "\u001b[0;31mMySQLInterfaceError\u001b[0m                       Traceback (most recent call last)",
      "\u001b[0;32m<ipython-input-17-b3f8dba15843>\u001b[0m in \u001b[0;36m<module>\u001b[0;34m\u001b[0m\n\u001b[1;32m     15\u001b[0m \u001b[0;34m\u001b[0m\u001b[0m\n\u001b[1;32m     16\u001b[0m \u001b[0mcursor\u001b[0m\u001b[0;34m.\u001b[0m\u001b[0mexecute\u001b[0m\u001b[0;34m(\u001b[0m\u001b[0mLoadSQL\u001b[0m\u001b[0;34m)\u001b[0m\u001b[0;34m\u001b[0m\u001b[0;34m\u001b[0m\u001b[0m\n\u001b[0;32m---> 17\u001b[0;31m \u001b[0mmydb\u001b[0m\u001b[0;34m.\u001b[0m\u001b[0mcommit\u001b[0m\u001b[0;34m(\u001b[0m\u001b[0;34m)\u001b[0m\u001b[0;34m\u001b[0m\u001b[0;34m\u001b[0m\u001b[0m\n\u001b[0m\u001b[1;32m     18\u001b[0m \u001b[0mcursor\u001b[0m\u001b[0;34m.\u001b[0m\u001b[0mclose\u001b[0m\u001b[0;34m(\u001b[0m\u001b[0;34m)\u001b[0m\u001b[0;34m\u001b[0m\u001b[0;34m\u001b[0m\u001b[0m\n\u001b[1;32m     19\u001b[0m \u001b[0mmydb\u001b[0m\u001b[0;34m.\u001b[0m\u001b[0mclose\u001b[0m\u001b[0;34m(\u001b[0m\u001b[0;34m)\u001b[0m\u001b[0;34m\u001b[0m\u001b[0;34m\u001b[0m\u001b[0m\n",
      "\u001b[0;32m~/anaconda2/envs/py3.6/lib/python3.7/site-packages/mysql/connector/connection_cext.py\u001b[0m in \u001b[0;36mcommit\u001b[0;34m(self)\u001b[0m\n\u001b[1;32m    378\u001b[0m         \u001b[0;34m\"\"\"Commit current transaction\"\"\"\u001b[0m\u001b[0;34m\u001b[0m\u001b[0;34m\u001b[0m\u001b[0m\n\u001b[1;32m    379\u001b[0m         \u001b[0;32mif\u001b[0m \u001b[0mself\u001b[0m\u001b[0;34m.\u001b[0m\u001b[0m_cmysql\u001b[0m\u001b[0;34m:\u001b[0m\u001b[0;34m\u001b[0m\u001b[0;34m\u001b[0m\u001b[0m\n\u001b[0;32m--> 380\u001b[0;31m             \u001b[0mself\u001b[0m\u001b[0;34m.\u001b[0m\u001b[0m_cmysql\u001b[0m\u001b[0;34m.\u001b[0m\u001b[0mcommit\u001b[0m\u001b[0;34m(\u001b[0m\u001b[0;34m)\u001b[0m\u001b[0;34m\u001b[0m\u001b[0;34m\u001b[0m\u001b[0m\n\u001b[0m\u001b[1;32m    381\u001b[0m \u001b[0;34m\u001b[0m\u001b[0m\n\u001b[1;32m    382\u001b[0m     \u001b[0;32mdef\u001b[0m \u001b[0mrollback\u001b[0m\u001b[0;34m(\u001b[0m\u001b[0mself\u001b[0m\u001b[0;34m)\u001b[0m\u001b[0;34m:\u001b[0m\u001b[0;34m\u001b[0m\u001b[0;34m\u001b[0m\u001b[0m\n",
      "\u001b[0;31mMySQLInterfaceError\u001b[0m: Commands out of sync; you can't run this command now"
     ]
    }
   ],
   "source": [
    "mydb = mysql.connector.connect(host=h, user=u, password=pw, database=\"TESSSouth\", allow_local_infile=True)#, client_flags=[ClientFlag.LOCAL_FILES])\n",
    "cursor = mydb.cursor()\n",
    "\n",
    "import os\n",
    "filepath=os.getcwd()+'/SouthernHemisphere.csv'\n",
    "\n",
    "\n",
    "# Now load csv into sql table\n",
    "LoadSQL = \"\"\"LOAD DATA LOCAL INFILE '%s'\n",
    "    INTO TABLE %s\n",
    "    FIELDS TERMINATED BY ',' ENCLOSED BY '\"'\n",
    "    LINES TERMINATED BY '\\r\\n'\n",
    "    IGNORE 1 LINES;\n",
    "    (id, eclong, eclat)\"\"\" % (filepath, 'coordinates')\n",
    "\n",
    "cursor.execute(LoadSQL)\n",
    "mydb.commit()\n",
    "cursor.close()\n",
    "mydb.close()"
   ]
  },
  {
   "cell_type": "code",
   "execution_count": 18,
   "metadata": {},
   "outputs": [],
   "source": [
    "config = {\n",
    "    'user': u,\n",
    "    'password': pw,\n",
    "    'host': h,\n",
    "    'buffered': True,\n",
    "    'allow_local_infile':True,\n",
    "    'client_flags': [ClientFlag.SSL]\n",
    "}\n",
    "\n",
    "\n",
    "\n",
    "mydb = mysql.connector.connect(**config)\n",
    "mycursor = mydb.cursor()\n",
    "mycursor.execute(\"drop DATABASE test\")\n",
    "mycursor.execute(\"create DATABASE test\")\n",
    "mycursor.execute(\"use test\")\n",
    "mycursor.execute(\"create table coords (id char(13), eclong decimal(12,8), eclat decimal(12,8));\")"
   ]
  },
  {
   "cell_type": "code",
   "execution_count": 19,
   "metadata": {},
   "outputs": [],
   "source": [
    "import mysql.connector\n",
    "from mysql.connector.constants import ClientFlag\n",
    "\n",
    "config = {\n",
    "    'user': u,\n",
    "    'password': pw,\n",
    "    'host': h,\n",
    "    'database': 'test',\n",
    "    'buffered': True,\n",
    "    'allow_local_infile':True,\n",
    "    'client_flags': [ClientFlag.SSL]\n",
    "}\n",
    "\n",
    "\n",
    "\n",
    "mydb = mysql.connector.connect(**config)\n",
    "cursor = mydb.cursor()\n",
    "cursor.execute('set global local_infile=1')\n",
    "\n",
    "import os\n",
    "filepath=os.getcwd()+'/test.csv'\n",
    "\n",
    "\n",
    "# Now load csv into sql table\n",
    "LoadSQL = \"load data local infile '\"+str(filepath)+\"' into table coords fields terminated by ',' (id,eclong,eclat);\"\n",
    "\n",
    "cursor.execute(LoadSQL)\n",
    "mydb.commit()\n",
    "cursor.close()\n",
    "mydb.close()"
   ]
  },
  {
   "cell_type": "code",
   "execution_count": null,
   "metadata": {},
   "outputs": [],
   "source": []
  },
  {
   "cell_type": "code",
   "execution_count": null,
   "metadata": {},
   "outputs": [],
   "source": [
    "config = {\n",
    "    'user': u,\n",
    "    'password': pw,\n",
    "    'host': h,\n",
    "    'buffered': True,\n",
    "    'allow_local_infile':True,\n",
    "    'client_flags': [ClientFlag.SSL]\n",
    "}\n",
    "\n",
    "\n",
    "\n",
    "mydb = mysql.connector.connect(**config)\n",
    "mycursor = mydb.cursor()\n",
    "mycursor.execute(\"drop DATABASE TESSSouth\")\n",
    "mycursor.execute(\"create DATABASE TESS_South\")\n",
    "mycursor.execute(\"use TESS_South\")\n",
    "mycursor.execute(\"create table coords (id char(13), eclong decimal(12,8), eclat decimal(12,8));\")\n"
   ]
  },
  {
   "cell_type": "code",
   "execution_count": null,
   "metadata": {},
   "outputs": [],
   "source": [
    "import mysql.connector\n",
    "from mysql.connector.constants import ClientFlag\n",
    "\n",
    "config = {\n",
    "    'user': u,\n",
    "    'password': pw,\n",
    "    'host': h,\n",
    "    'database': 'TESS_South',\n",
    "    'buffered': True,\n",
    "    'allow_local_infile':True,\n",
    "    'client_flags': [ClientFlag.SSL]\n",
    "}\n",
    "\n",
    "\n",
    "\n",
    "mydb = mysql.connector.connect(**config)\n",
    "cursor = mydb.cursor()\n",
    "cursor.execute('set global local_infile=1')\n",
    "\n",
    "import os\n",
    "filepath=os.getcwd()+'/SouthernHemisphere.csv'\n",
    "\n",
    "# Now load csv into sql table\n",
    "LoadSQL = \"load data local infile '\"+str(filepath)+\"' into table coords fields terminated by ',' (id,eclong,eclat);\"\n",
    "\n",
    "cursor.execute(LoadSQL)\n",
    "mydb.commit()\n",
    "cursor.close()\n",
    "mydb.close()"
   ]
  },
  {
   "cell_type": "markdown",
   "metadata": {},
   "source": [
    "# Now that we uploaded our simulated darta to mysql, let's see if we can properly filter by sector"
   ]
  },
  {
   "cell_type": "code",
   "execution_count": 4,
   "metadata": {},
   "outputs": [
    {
     "ename": "NameError",
     "evalue": "name 'np' is not defined",
     "output_type": "error",
     "traceback": [
      "\u001b[0;31m---------------------------------------------------------------------------\u001b[0m",
      "\u001b[0;31mNameError\u001b[0m                                 Traceback (most recent call last)",
      "\u001b[0;32m<ipython-input-4-8b7af55de025>\u001b[0m in \u001b[0;36m<module>\u001b[0;34m\u001b[0m\n\u001b[1;32m     30\u001b[0m \u001b[0;34m\u001b[0m\u001b[0m\n\u001b[1;32m     31\u001b[0m \u001b[0;34m\u001b[0m\u001b[0m\n\u001b[0;32m---> 32\u001b[0;31m \u001b[0mS1\u001b[0m \u001b[0;34m=\u001b[0m \u001b[0mSectorBounds_shift\u001b[0m\u001b[0;34m(\u001b[0m\u001b[0;36m1\u001b[0m\u001b[0;34m)\u001b[0m\u001b[0;34m\u001b[0m\u001b[0;34m\u001b[0m\u001b[0m\n\u001b[0m\u001b[1;32m     33\u001b[0m \u001b[0mS2\u001b[0m \u001b[0;34m=\u001b[0m \u001b[0mSectorBounds_shift\u001b[0m\u001b[0;34m(\u001b[0m\u001b[0;36m2\u001b[0m\u001b[0;34m)\u001b[0m\u001b[0;34m\u001b[0m\u001b[0;34m\u001b[0m\u001b[0m\n\u001b[1;32m     34\u001b[0m \u001b[0mS3\u001b[0m \u001b[0;34m=\u001b[0m \u001b[0mSectorBounds_shift\u001b[0m\u001b[0;34m(\u001b[0m\u001b[0;36m3\u001b[0m\u001b[0;34m)\u001b[0m\u001b[0;34m\u001b[0m\u001b[0;34m\u001b[0m\u001b[0m\n",
      "\u001b[0;32m<ipython-input-4-8b7af55de025>\u001b[0m in \u001b[0;36mSectorBounds_shift\u001b[0;34m(Sector)\u001b[0m\n\u001b[1;32m      6\u001b[0m     \u001b[0mECLATS\u001b[0m \u001b[0;34m=\u001b[0m\u001b[0;34m[\u001b[0m\u001b[0;34m]\u001b[0m\u001b[0;34m\u001b[0m\u001b[0;34m\u001b[0m\u001b[0m\n\u001b[1;32m      7\u001b[0m     \u001b[0;32mfor\u001b[0m \u001b[0mx\u001b[0m \u001b[0;32min\u001b[0m \u001b[0mrange\u001b[0m\u001b[0;34m(\u001b[0m\u001b[0;36m360\u001b[0m\u001b[0;34m+\u001b[0m\u001b[0;36m1\u001b[0m\u001b[0;34m)\u001b[0m\u001b[0;34m:\u001b[0m\u001b[0;34m\u001b[0m\u001b[0;34m\u001b[0m\u001b[0m\n\u001b[0;32m----> 8\u001b[0;31m         \u001b[0meclong\u001b[0m \u001b[0;34m=\u001b[0m \u001b[0mnp\u001b[0m\u001b[0;34m.\u001b[0m\u001b[0mlinspace\u001b[0m\u001b[0;34m(\u001b[0m\u001b[0mx\u001b[0m\u001b[0;34m,\u001b[0m\u001b[0mx\u001b[0m\u001b[0;34m+\u001b[0m\u001b[0;36m1\u001b[0m\u001b[0;34m,\u001b[0m\u001b[0;36m100\u001b[0m\u001b[0;34m)\u001b[0m\u001b[0;34m\u001b[0m\u001b[0;34m\u001b[0m\u001b[0m\n\u001b[0m\u001b[1;32m      9\u001b[0m         \u001b[0meclat\u001b[0m \u001b[0;34m=\u001b[0m \u001b[0mnp\u001b[0m\u001b[0;34m.\u001b[0m\u001b[0mlinspace\u001b[0m\u001b[0;34m(\u001b[0m\u001b[0;34m-\u001b[0m\u001b[0;36m90\u001b[0m\u001b[0;34m,\u001b[0m\u001b[0;36m0\u001b[0m\u001b[0;34m,\u001b[0m\u001b[0;36m100\u001b[0m\u001b[0;34m)\u001b[0m\u001b[0;34m\u001b[0m\u001b[0;34m\u001b[0m\u001b[0m\n\u001b[1;32m     10\u001b[0m         \u001b[0mECLONGS\u001b[0m\u001b[0;34m=\u001b[0m\u001b[0mnp\u001b[0m\u001b[0;34m.\u001b[0m\u001b[0mappend\u001b[0m\u001b[0;34m(\u001b[0m\u001b[0mECLONGS\u001b[0m\u001b[0;34m,\u001b[0m\u001b[0meclong\u001b[0m\u001b[0;34m)\u001b[0m\u001b[0;34m\u001b[0m\u001b[0;34m\u001b[0m\u001b[0m\n",
      "\u001b[0;31mNameError\u001b[0m: name 'np' is not defined"
     ]
    }
   ],
   "source": [
    "#This is what the filtered sectors should look like:\n",
    "\n",
    "def SectorBounds_shift(Sector):\n",
    "    #1st create southern hemisphere\n",
    "    ECLONGS=[]\n",
    "    ECLATS =[]\n",
    "    for x in range(360+1):\n",
    "        eclong = np.linspace(x,x+1,100)\n",
    "        eclat = np.linspace(-90,0,100)\n",
    "        ECLONGS=np.append(ECLONGS,eclong)\n",
    "        ECLATS=np.append(ECLATS,eclat)    \n",
    "    #then store in dataframe\n",
    "    simDF=pd.DataFrame({\"eclong\":ECLONGS,\"eclat\":ECLATS})    \n",
    "    \n",
    "    #then make sky cut depending on Sector\n",
    "    #these are central ecliptic longitude pointings for S1 - S13\n",
    "    ctr_eclongs = [315.8,343,10.94,38.48,65.85,92.85,119.738980,146.15,172.28,198.72,225.93,253.56,281.12]\n",
    "    \n",
    "    Sector_ind=Sector-1 #zero indexing\n",
    "    \n",
    "    x = np.array(np.remainder(simDF['eclong']+360-ctr_eclongs[Sector_ind],360)) # shift lon values\n",
    "    ind = x>180\n",
    "    x[ind] -=360    # scale conversion to [-180, 180]\n",
    "    x=-x    # reverse the scale: East to the left\n",
    "    \n",
    "    cut = (x < 12/np.cos(simDF['eclat']*np.pi/180)) & (-12/np.cos(simDF['eclat']*np.pi/180) < x)\n",
    "    cutDF = simDF.loc[(simDF['eclat'] < -6) & (cut) ]\n",
    "    \n",
    "    return cutDF\n",
    "\n",
    "\n",
    "S1 = SectorBounds_shift(1)\n",
    "S2 = SectorBounds_shift(2)\n",
    "S3 = SectorBounds_shift(3)\n",
    "S4 = SectorBounds_shift(4)\n",
    "\n",
    "fig=plt.figure(figsize=(10,5))\n",
    "ax1=fig.add_subplot(111)\n",
    "# ax2=fig.add_subplot(412)\n",
    "# ax3=fig.add_subplot(413)\n",
    "# ax4=fig.add_subplot(414)\n",
    "\n",
    "ax1.plot(S1['eclong'],S1['eclat'])\n",
    "# ax2.plot(S2['eclong'],S2['eclat'])\n",
    "# ax3.plot(S3['eclong'],S3['eclat'])\n",
    "# ax4.plot(S4['eclong'],S4['eclat'])\n",
    "\n",
    "fig.text(0.45,-0.01,'Ecliptic Longitude',fontsize=12)\n",
    "fig.text(-0.01,0.45,'Ecliptic Latitude',rotation=90,fontsize=12)\n",
    "fig.tight_layout(pad=1)\n",
    "fig.savefig('Sector1_bounds.png',bbox_inches='tight')\n",
    "plt.show()\n",
    "\n",
    "\n",
    "\n",
    "def shift_lon_get_x(lon, origin):\n",
    "    x = np.array(np.remainder(lon+360-origin,360)) # shift lon values\n",
    "    ind = x>180\n",
    "    x[ind] -=360    # scale conversion to [-180, 180]\n",
    "    x=-x    # reverse the scale: East to the left\n",
    "    return x\n",
    "\n",
    "fig=plt.figure(figsize=(10,5))\n",
    "ax1=fig.add_subplot(411)\n",
    "ax2=fig.add_subplot(412)\n",
    "ax3=fig.add_subplot(413)\n",
    "ax4=fig.add_subplot(414)\n",
    "\n",
    "ax1.plot(shift_lon_get_x(S1['eclong'], 315),S1['eclat'])\n",
    "ax2.plot(shift_lon_get_x(S2['eclong'], 343),S2['eclat'])\n",
    "ax3.plot(shift_lon_get_x(S3['eclong'], 10.94),S3['eclat'])\n",
    "ax4.plot(shift_lon_get_x(S4['eclong'], 38),S4['eclat'])\n",
    "\n",
    "fig.text(0.45,-0.01,'Shifted to 0: Ecliptic Longitude',fontsize=12)\n",
    "fig.text(-0.01,0.45,'Ecliptic Latitude',rotation=90,fontsize=12)\n",
    "fig.tight_layout()\n",
    "plt.show()"
   ]
  },
  {
   "cell_type": "code",
   "execution_count": 10,
   "metadata": {},
   "outputs": [
    {
     "ename": "NameError",
     "evalue": "name 'S1' is not defined",
     "output_type": "error",
     "traceback": [
      "\u001b[0;31m---------------------------------------------------------------------------\u001b[0m",
      "\u001b[0;31mNameError\u001b[0m                                 Traceback (most recent call last)",
      "\u001b[0;32m<ipython-input-10-e743c87bf4ee>\u001b[0m in \u001b[0;36m<module>\u001b[0;34m\u001b[0m\n\u001b[1;32m     37\u001b[0m \u001b[0;34m\u001b[0m\u001b[0m\n\u001b[1;32m     38\u001b[0m \u001b[0mfilter1\u001b[0m\u001b[0;34m=\u001b[0m\u001b[0mpd\u001b[0m\u001b[0;34m.\u001b[0m\u001b[0mread_csv\u001b[0m\u001b[0;34m(\u001b[0m\u001b[0;34m'filter1.csv'\u001b[0m\u001b[0;34m)\u001b[0m\u001b[0;34m\u001b[0m\u001b[0;34m\u001b[0m\u001b[0m\n\u001b[0;32m---> 39\u001b[0;31m \u001b[0mplt\u001b[0m\u001b[0;34m.\u001b[0m\u001b[0mplot\u001b[0m\u001b[0;34m(\u001b[0m\u001b[0mS1\u001b[0m\u001b[0;34m[\u001b[0m\u001b[0;34m'eclong'\u001b[0m\u001b[0;34m]\u001b[0m\u001b[0;34m,\u001b[0m\u001b[0mS1\u001b[0m\u001b[0;34m[\u001b[0m\u001b[0;34m'eclat'\u001b[0m\u001b[0;34m]\u001b[0m\u001b[0;34m,\u001b[0m\u001b[0;34m'r.'\u001b[0m\u001b[0;34m,\u001b[0m\u001b[0mlabel\u001b[0m\u001b[0;34m=\u001b[0m\u001b[0;34m'Python'\u001b[0m\u001b[0;34m)\u001b[0m\u001b[0;34m\u001b[0m\u001b[0;34m\u001b[0m\u001b[0m\n\u001b[0m\u001b[1;32m     40\u001b[0m \u001b[0mplt\u001b[0m\u001b[0;34m.\u001b[0m\u001b[0mplot\u001b[0m\u001b[0;34m(\u001b[0m\u001b[0mfilter1\u001b[0m\u001b[0;34m[\u001b[0m\u001b[0;34m'eclong'\u001b[0m\u001b[0;34m]\u001b[0m\u001b[0;34m,\u001b[0m\u001b[0mfilter1\u001b[0m\u001b[0;34m[\u001b[0m\u001b[0;34m'eclat'\u001b[0m\u001b[0;34m]\u001b[0m\u001b[0;34m,\u001b[0m\u001b[0;34m'b.'\u001b[0m\u001b[0;34m,\u001b[0m\u001b[0mlabel\u001b[0m\u001b[0;34m=\u001b[0m\u001b[0;34m'SQL'\u001b[0m\u001b[0;34m)\u001b[0m\u001b[0;34m\u001b[0m\u001b[0;34m\u001b[0m\u001b[0m\n\u001b[1;32m     41\u001b[0m \u001b[0mplt\u001b[0m\u001b[0;34m.\u001b[0m\u001b[0mxlim\u001b[0m\u001b[0;34m(\u001b[0m\u001b[0;34m-\u001b[0m\u001b[0;36m10\u001b[0m\u001b[0;34m,\u001b[0m\u001b[0;36m370\u001b[0m\u001b[0;34m)\u001b[0m\u001b[0;34m\u001b[0m\u001b[0;34m\u001b[0m\u001b[0m\n",
      "\u001b[0;31mNameError\u001b[0m: name 'S1' is not defined"
     ]
    }
   ],
   "source": [
    "import mysql.connector\n",
    "from mysql.connector.constants import ClientFlag\n",
    "import pandas as pd\n",
    "\n",
    "config = {\n",
    "    'user': u,\n",
    "    'password': pw,\n",
    "    'host': h,\n",
    "    'database': 'TESS_South',\n",
    "    'buffered': True,\n",
    "    'allow_local_infile':True,\n",
    "    'client_flags': [ClientFlag.SSL]\n",
    "}\n",
    "\n",
    "\n",
    "\n",
    "mydb = mysql.connector.connect(**config)\n",
    "cursor = mydb.cursor()\n",
    "\n",
    "#Sector 1\n",
    "query = \"select * from coords where eclat < -6 and mod(abs(eclong+360-315.8),360) < 180 and mod(abs(eclong+360-315.8),360) < 12/cos(radians(eclat));\"\n",
    "query = \"select * from coords where eclat < -6 and mod(abs(eclong-315.8+360),360)-360 < 180 and mod(abs(eclong-315.8),360) < 12/cos(radians(eclat));\"\n",
    "query = \"\"\"select * from coords\n",
    "    where eclat < -6\n",
    "    and mod(abs(eclong-315.8+360),360)-360 < 180\n",
    "    and mod(abs(eclong-315.8),360) < 12/cos(radians(eclat))\n",
    "    \"\"\"\n",
    "cursor.execute(query)\n",
    "import csv\n",
    "rows = cursor.fetchall()\n",
    "headers = [col[0] for col in cursor.description] # get headers\n",
    "fp = open('filter1.csv', 'w')\n",
    "myFile = csv.writer(fp)\n",
    "myFile.writerow(headers)\n",
    "myFile.writerows(rows)\n",
    "fp.close()\n",
    "\n",
    "filter1=pd.read_csv('filter1.csv')\n",
    "plt.plot(S1['eclong'],S1['eclat'],'r.',label='Python')\n",
    "plt.plot(filter1['eclong'],filter1['eclat'],'b.',label='SQL')\n",
    "plt.xlim(-10,370)\n",
    "plt.ylim(-100,10)\n",
    "plt.xticks(np.arange(0,360+45,45))\n",
    "plt.yticks(np.arange(-90,0+15,15))\n",
    "plt.xlabel('Ecliptic Longitude')\n",
    "plt.ylabel('Ecliptic Latitude')\n",
    "plt.legend(loc='upper left',ncol=2)\n",
    "plt.tight_layout(pad=1)\n",
    "plt.savefig('SQL_vs_Python_query_S1.png',bbox_inches='tight')\n",
    "plt.show()"
   ]
  },
  {
   "cell_type": "code",
   "execution_count": null,
   "metadata": {},
   "outputs": [],
   "source": []
  },
  {
   "cell_type": "code",
   "execution_count": null,
   "metadata": {},
   "outputs": [],
   "source": [
    "# x = np.array(np.remainder(simDF['eclong']+360-ctr_eclongs[Sector_ind],360)) # shift lon values\n",
    "# ind = x>180\n",
    "# x[ind] -=360    # scale conversion to [-180, 180]\n",
    "# x=-x    # reverse the scale: East to the left"
   ]
  },
  {
   "cell_type": "code",
   "execution_count": null,
   "metadata": {},
   "outputs": [],
   "source": []
  },
  {
   "cell_type": "code",
   "execution_count": null,
   "metadata": {},
   "outputs": [],
   "source": [
    "import mysql.connector\n",
    "from mysql.connector.constants import ClientFlag\n",
    "\n",
    "config = {\n",
    "    'user': u,\n",
    "    'password': pw,\n",
    "    'host': h,\n",
    "    'database': 'TESS_South',\n",
    "    'buffered': True,\n",
    "    'allow_local_infile':True,\n",
    "    'client_flags': [ClientFlag.SSL]\n",
    "}\n",
    "\n",
    "\n",
    "\n",
    "mydb = mysql.connector.connect(**config)\n",
    "cursor = mydb.cursor()\n",
    "\n",
    "#Sector 1\n",
    "query = \"\"\"select * from coords\n",
    "    where eclat < -6\n",
    "    and mod(abs(eclong-315.8+360),360)-360 < 180\n",
    "    and mod(abs(eclong-315.8),360) < 12/cos(radians(eclat))\n",
    "    \"\"\"\n",
    "#try a case statement\n",
    "query = \"\"\"select * from coords,\n",
    "    case \n",
    "    when eclat < -6 then eclong-360\n",
    "    else eclong\n",
    "    end as good_eclong\n",
    "    from 'eclong'\"\"\"\n",
    "\n",
    "\n",
    "cursor.execute(query)\n",
    "import csv\n",
    "rows = cursor.fetchall()\n",
    "headers = [col[0] for col in cursor.description] # get headers\n",
    "fp = open('filter2.csv', 'w')\n",
    "myFile = csv.writer(fp)\n",
    "myFile.writerow(headers)\n",
    "myFile.writerows(rows)\n",
    "fp.close()\n",
    "\n",
    "filter1=pd.read_csv('filter2.csv')\n",
    "plt.plot(shift_lon_get_x(S1['eclong'], 315),S1['eclat'],'r.')\n",
    "plt.plot(shift_lon_get_x(filter1['eclong'], 315),filter1['eclat'],'b.')\n",
    "# plt.xlim(-10,370)\n",
    "plt.xlim(-190,190)\n",
    "plt.ylim(-100,10)\n",
    "plt.xticks(np.arange(-180,180+45,45))\n",
    "plt.yticks(np.arange(-90,0+15,15))\n",
    "plt.show()"
   ]
  },
  {
   "cell_type": "code",
   "execution_count": null,
   "metadata": {},
   "outputs": [],
   "source": [
    "(eclat < -6 and mod(abs(eclong-315.8+360),360)-360 < 180 and mod(abs(eclong-315.8),360) < 12/cos(radians(eclat)))"
   ]
  },
  {
   "cell_type": "code",
   "execution_count": null,
   "metadata": {},
   "outputs": [],
   "source": []
  }
 ],
 "metadata": {
  "kernelspec": {
   "display_name": "py3.6",
   "language": "python",
   "name": "py3.6"
  }
 },
 "nbformat": 4,
 "nbformat_minor": 2
}
