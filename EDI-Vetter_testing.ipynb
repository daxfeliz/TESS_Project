{
 "cells": [
  {
   "cell_type": "markdown",
   "metadata": {},
   "source": [
    "# Testing EDI Vetter Unplugged tool for WASP 18b\n",
    "## (~0.92 day Period, ~13 Earth Radii Radius)"
   ]
  },
  {
   "cell_type": "code",
   "execution_count": 39,
   "metadata": {},
   "outputs": [],
   "source": [
    "import EDIunplugged as EDI\n",
    "import lightkurve as lk\n",
    "from wotan import flatten\n",
    "\n",
    "import os,sys\n",
    "import numpy as np\n",
    "from matplotlib import pyplot as plt\n",
    "import matplotlib.gridspec as gridspec\n",
    "\n",
    "import pandas as pd\n",
    "pd.set_option('display.notebook_repr_html', True)\n",
    "\n",
    "import lightkurve as lk\n",
    "lk.log.setLevel('INFO')\n",
    "\n",
    "#pipeline settings\n",
    "path=os.getcwd()+'/'"
   ]
  },
  {
   "cell_type": "code",
   "execution_count": 40,
   "metadata": {},
   "outputs": [
    {
     "name": "stderr",
     "output_type": "stream",
     "text": [
      "/Users/Dax/opt/anaconda3/lib/python3.8/site-packages/lightkurve/lightcurvefile.py:45: LightkurveWarning: `LightCurveFile.header` is deprecated, please use `LightCurveFile.get_header()` instead.\n",
      "  warnings.warn(\"`LightCurveFile.header` is deprecated, please use \"\n",
      "7% (1420/19737) of the cadences will be ignored due to the quality mask (quality_bitmask=175).\n"
     ]
    },
    {
     "data": {
      "image/png": "[encoded data removed]",
      "text/plain": [
       "<Figure size 432x288 with 1 Axes>"
      ]
     },
     "metadata": {
      "needs_background": "light"
     },
     "output_type": "display_data"
    }
   ],
   "source": [
    "ID=100100827; Sector=2\n",
    "\n",
    "\n",
    "#save to local directory\n",
    "downloadpath=os.getcwd()+'/'\n",
    "\n",
    "target='TIC '+str(ID)\n",
    "lc_2min=lk.search.search_lightcurvefile(target, cadence='short', mission=(\"TESS\"),sector=Sector).download(download_dir=downloadpath)\n",
    "lc_2min_precut=lc_2min.PDCSAP_FLUX.remove_nans().normalize()\n",
    "\n",
    "#apply quality mask\n",
    "q = lc_2min_precut.quality!=0\n",
    "lc_2min = lk.LightCurve(time=lc_2min_precut.time[~q],flux=lc_2min_precut.flux[~q],flux_err=lc_2min_precut.flux_err[~q])\n",
    "\n",
    "\n",
    "plt.errorbar(x=lc_2min_precut.time,y=lc_2min_precut.flux,yerr=lc_2min_precut.flux_err,color='grey',linestyle='none')\n",
    "plt.errorbar(x=lc_2min.time,y=lc_2min.flux,yerr=lc_2min.flux_err,color='black',linestyle='none')\n",
    "plt.xlabel('Time (TESS BJD)')\n",
    "plt.ylabel('Normalzed Flux')\n",
    "plt.title('TIC '+str(ID)+' Sector '+str(Sector))\n",
    "plt.show()"
   ]
  },
  {
   "cell_type": "code",
   "execution_count": 41,
   "metadata": {},
   "outputs": [],
   "source": [
    "#saving in current working directory\n",
    "input_LC = pd.DataFrame({'Time':lc_2min.time, 'SAP Flux':lc_2min.flux, 'SAP Error':lc_2min.flux_err})\n",
    "input_LC.to_csv(os.getcwd()+'/TIC_'+str(ID)+'_Sector_'+str(Sector)+'_SPOC_LC.csv')\n"
   ]
  },
  {
   "cell_type": "code",
   "execution_count": 42,
   "metadata": {},
   "outputs": [],
   "source": [
    "# Old version of EDI"
   ]
  },
  {
   "cell_type": "code",
   "execution_count": 43,
   "metadata": {},
   "outputs": [],
   "source": [
    "# known_period = 0.94124 #WASP 18b\n",
    "# known_period2 = 2.1558 #WASP 18c\n",
    "\n",
    "# time=input_LC['Time']\n",
    "# flux=input_LC['SAP Flux']\n",
    "# error=input_LC['SAP Error']\n",
    "\n",
    "# from transitleastsquares import transitleastsquares\n",
    "\n",
    "# #input parameters\n",
    "# N_transits=3\n",
    "# minP=0.5\n",
    "# oversampling_factor=3\n",
    "# duration_grid_step=1.1\n",
    "# T0_fit_margin = 0.001\n",
    "# maxP= (max(time)-min(time))/N_transits #length of our light curve\n",
    "\n",
    "# #for reporting TLS model's planet radius\n",
    "# R_earth = 6.378*10.0**8.0 #cm\n",
    "# R_sun = 6.955*10.0**10.0 #cm\n",
    "\n",
    "# #getting stellar parameters from TIC\n",
    "# from transitleastsquares import catalog_info    \n",
    "# qld, M_star, M_star_min, M_star_max, R_star, R_star_min, R_star_max = catalog_info(TIC_ID=ID)\n",
    "\n",
    "# def phasefold(T0,time,period,flux):\n",
    "#     phase=(time- T0 + 0.5*period) % period - 0.5*period        \n",
    "#     ind=np.argsort(phase, axis=0)\n",
    "#     return phase[ind],flux[ind]\n",
    "\n",
    "# tls = transitleastsquares(time,flux,error)\n",
    "\n",
    "# tls_power = tls.power(R_star_min=R_star-R_star_min, R_star_max=R_star+R_star_max,R_star=R_star,\\\n",
    "#                                   M_star_min=M_star-M_star_min, M_star_max=M_star+M_star_max,M_star=M_star,\\\n",
    "#                                   u=qld,period_min=minP,period_max=maxP,\\\n",
    "#                                   n_transits_min=N_transits,\\\n",
    "#                                   oversampling_factor=oversampling_factor,\\\n",
    "#                                   duration_grid_step=duration_grid_step,\\\n",
    "#                                   T0_fit_margin=T0_fit_margin,show_progress_bar=False)\n",
    "# print(' ')\n",
    "# print('TIC '+str(ID)+' Sector '+str(Sector))\n",
    "# print('Period: '+str(tls_power.period))\n",
    "# print('Odd/Even Mismatch: ',tls_power.odd_even_mismatch)\n",
    "# print('Transit Count: ',tls_power.transit_count)\n",
    "\n",
    "# ModelT=tls_power.model_lightcurve_time \n",
    "# ModelF=tls_power.model_lightcurve_model\n",
    "\n",
    "\n",
    "\n",
    "# #phase folding LC and TLS model\n",
    "# pf,ff  = phasefold(tls_power.T0, time, tls_power.period,flux)\n",
    "# pf_model,ff_model = phasefold(ModelT,tls_power.T0,tls_power.period,ModelF)\n",
    "\n",
    "# gs1 = gridspec.GridSpec(2, 2)\n",
    "# gs1.update(left=0.65, right=1.25, wspace=0.25,hspace=0.5)\n",
    "# ###\n",
    "# ###\n",
    "# fig = plt.figure(figsize=(10,6))        \n",
    "# ax1 = fig.add_subplot(gs1[0:1, 0:2])\n",
    "# ax2 = fig.add_subplot(gs1[1:, 0:1])\n",
    "# ax3 = fig.add_subplot(gs1[1:, 1:2])\n",
    "\n",
    "\n",
    "# ax1.plot(tls_power.periods, tls_power.power, rasterized=True)\n",
    "# ax1.axvline(x=known_period,color='red',zorder=-1)\n",
    "# ax1.axvline(x=known_period2,color='green',zorder=-1)\n",
    "# ax1.set_title(\"TIC \"+str(ID)+\" \"+\"Sector \"+str(Sector))#\" Camera \"+Camera+\" CCD \"+CCD)\n",
    "# ax1.set_xlabel(\"Period (days)\")\n",
    "# ax1.set_xticks(np.arange(0.0, 15.0, 1.0))\n",
    "# ax1.set_xlim(np.min(tls_power.periods)-0.5, np.max(tls_power.periods)+0.5)\n",
    "# ###\n",
    "# ax1.set_ylabel(\"TLS Power\")\n",
    "# ax1.set_ylim(np.min(tls_power.power)-0.5, np.max(tls_power.power)+0.5)\n",
    "\n",
    "# ax2.plot(time,flux,'k.')\n",
    "# ax2.set_ylabel('Normalized Flux')\n",
    "# ax2.set_xlabel('Time [TESS BJD]')\n",
    "# ax2.plot(time,flux,'k.')\n",
    "# ax2.plot(ModelT,ModelF,'r-',linewidth=3)\n",
    "\n",
    "# ax3.plot(24*pf,ff,'k.')\n",
    "# ax3.plot(24*pf_model,ff_model,'r-',linewidth=3)\n",
    "# ax3.set_xlim(-3*24*tls_power.duration,3*24*tls_power.duration)\n",
    "# ax3.set_xlabel('Phase [Hours since TC]')\n",
    "# fig.savefig('TIC_'+str(ID)+'_Sector_'+str(Sector)+'_SPOC_TLS_result.png',bbox_inches='tight')\n",
    "# fig.show()\n",
    "\n",
    "# params=EDI.parameters(tls_power,limbDark=[qld[0], qld[1]], impact=0, snrThreshold=6, minTransit=N_transits)\n",
    "# params=EDI.Go(params,telescope='TESS')"
   ]
  },
  {
   "cell_type": "code",
   "execution_count": null,
   "metadata": {},
   "outputs": [],
   "source": []
  },
  {
   "cell_type": "code",
   "execution_count": 44,
   "metadata": {},
   "outputs": [],
   "source": [
    "# new version after emailing Jon"
   ]
  },
  {
   "cell_type": "code",
   "execution_count": 45,
   "metadata": {},
   "outputs": [
    {
     "name": "stdout",
     "output_type": "stream",
     "text": [
      "Transit Least Squares TLS 1.0.25 (04 June 2020)\n",
      "Creating model cache for 35 durations\n",
      "Searching 18316 data points, 1479 periods from 0.858 to 9.135 days\n",
      "Using all 4 CPU threads\n"
     ]
    },
    {
     "name": "stderr",
     "output_type": "stream",
     "text": [
      "/Users/Dax/opt/anaconda3/lib/python3.8/site-packages/transitleastsquares/transit.py:157: VisibleDeprecationWarning: Creating an ndarray from ragged nested sequences (which is a list-or-tuple of lists-or-tuples-or ndarrays with different lengths or shapes) is deprecated. If you meant to do this, you must specify 'dtype=object' when creating the ndarray\n",
      "  lc_arr = numpy.array(lc_arr)\n"
     ]
    },
    {
     "name": "stdout",
     "output_type": "stream",
     "text": [
      " \n",
      "TIC 100100827 Sector 2\n",
      "Period: 0.9414328975931052\n",
      "Odd/Even Mismatch:  0.11401218364993225\n",
      "Transit Count:  29\n"
     ]
    },
    {
     "name": "stderr",
     "output_type": "stream",
     "text": [
      "<ipython-input-45-1c3a8ef9b161>:87: UserWarning: Matplotlib is currently using module://ipykernel.pylab.backend_inline, which is a non-GUI backend, so cannot show the figure.\n",
      "  fig.show()\n"
     ]
    },
    {
     "name": "stdout",
     "output_type": "stream",
     "text": [
      "\n",
      " ___________ _____      _   _      _   _            \n",
      "|  ___|  _  \\_   _|    | | | |    | | | |           \n",
      "| |__ | | | | | |______| | | | ___| |_| |_ ___ _ __ \n",
      "|  __|| | | | | |______| | | |/ _ \\ __| __/ _ \\ '__|\n",
      "| |___| |/ / _| |_     \\ \\_/ /  __/ |_| ||  __/ |   \n",
      "\\____/|___/  \\___/      \\___/ \\___|\\__|\\__\\___|_|   Unplugged\n",
      "    \n",
      "Version 0.1.2 (11 Sept 2020)\n",
      "==========================================\n",
      "            Vetting Report\n",
      "==========================================\n",
      "        Flux Contamination : False\n",
      "  Too Many Transits Masked : False\n",
      "Odd/Even Transit Variation : False\n",
      "      Signal is not Unique : False\n",
      "   Secondary Eclipse Found : False\n",
      "Low Transit Phase Coverage : False\n",
      " Transit Duration Too Long : False\n",
      "==========================================\n",
      "Signal is a False Positive : False\n"
     ]
    },
    {
     "data": {
      "image/png": "[encoded data removed]",
      "text/plain": [
       "<Figure size 720x432 with 3 Axes>"
      ]
     },
     "metadata": {
      "needs_background": "light"
     },
     "output_type": "display_data"
    }
   ],
   "source": [
    "known_period = 0.94124 #WASP 18b\n",
    "known_period2 = 2.1558 #WASP 18c\n",
    "\n",
    "time=input_LC['Time']\n",
    "flux=input_LC['SAP Flux']\n",
    "error=input_LC['SAP Error']\n",
    "\n",
    "from transitleastsquares import transitleastsquares\n",
    "\n",
    "#input parameters\n",
    "N_transits=3\n",
    "minP=0.5\n",
    "oversampling_factor=3\n",
    "duration_grid_step=1.1\n",
    "T0_fit_margin = 0.001\n",
    "maxP= (max(time)-min(time))/N_transits #length of our light curve\n",
    "\n",
    "#for reporting TLS model's planet radius\n",
    "R_earth = 6.378*10.0**8.0 #cm\n",
    "R_sun = 6.955*10.0**10.0 #cm\n",
    "\n",
    "#getting stellar parameters from TIC\n",
    "from transitleastsquares import catalog_info    \n",
    "qld, M_star, M_star_min, M_star_max, R_star, R_star_min, R_star_max = catalog_info(TIC_ID=ID)\n",
    "\n",
    "def phasefold(T0,time,period,flux):\n",
    "    phase=(time- T0 + 0.5*period) % period - 0.5*period        \n",
    "    ind=np.argsort(phase, axis=0)\n",
    "    return phase[ind],flux[ind]\n",
    "\n",
    "tls = transitleastsquares(time,flux,error)\n",
    "\n",
    "tls_power = tls.power(R_star_min=R_star-R_star_min, R_star_max=R_star+R_star_max,R_star=R_star,\\\n",
    "                                  M_star_min=M_star-M_star_min, M_star_max=M_star+M_star_max,M_star=M_star,\\\n",
    "                                  u=qld,period_min=minP,period_max=maxP,\\\n",
    "                                  n_transits_min=N_transits,\\\n",
    "                                  oversampling_factor=oversampling_factor,\\\n",
    "                                  duration_grid_step=duration_grid_step,\\\n",
    "                                  T0_fit_margin=T0_fit_margin,show_progress_bar=False)\n",
    "print(' ')\n",
    "print('TIC '+str(ID)+' Sector '+str(Sector))\n",
    "print('Period: '+str(tls_power.period))\n",
    "print('Odd/Even Mismatch: ',tls_power.odd_even_mismatch)\n",
    "print('Transit Count: ',tls_power.transit_count)\n",
    "\n",
    "ModelT=tls_power.model_lightcurve_time \n",
    "ModelF=tls_power.model_lightcurve_model\n",
    "\n",
    "\n",
    "\n",
    "#phase folding LC and TLS model\n",
    "pf,ff  = phasefold(tls_power.T0, time, tls_power.period,flux)\n",
    "pf_model,ff_model = phasefold(ModelT,tls_power.T0,tls_power.period,ModelF)\n",
    "\n",
    "gs1 = gridspec.GridSpec(2, 2)\n",
    "gs1.update(left=0.65, right=1.25, wspace=0.25,hspace=0.5)\n",
    "###\n",
    "###\n",
    "fig = plt.figure(figsize=(10,6))        \n",
    "ax1 = fig.add_subplot(gs1[0:1, 0:2])\n",
    "ax2 = fig.add_subplot(gs1[1:, 0:1])\n",
    "ax3 = fig.add_subplot(gs1[1:, 1:2])\n",
    "\n",
    "\n",
    "ax1.plot(tls_power.periods, tls_power.power, rasterized=True)\n",
    "ax1.axvline(x=known_period,color='red',zorder=-1)\n",
    "ax1.axvline(x=known_period2,color='green',zorder=-1)\n",
    "ax1.set_title(\"TIC \"+str(ID)+\" \"+\"Sector \"+str(Sector))#\" Camera \"+Camera+\" CCD \"+CCD)\n",
    "ax1.set_xlabel(\"Period (days)\")\n",
    "ax1.set_xticks(np.arange(0.0, 15.0, 1.0))\n",
    "ax1.set_xlim(np.min(tls_power.periods)-0.5, np.max(tls_power.periods)+0.5)\n",
    "###\n",
    "ax1.set_ylabel(\"TLS Power\")\n",
    "ax1.set_ylim(np.min(tls_power.power)-0.5, np.max(tls_power.power)+0.5)\n",
    "\n",
    "ax2.plot(time,flux,'k.')\n",
    "ax2.set_ylabel('Normalized Flux')\n",
    "ax2.set_xlabel('Time [TESS BJD]')\n",
    "ax2.plot(time,flux,'k.')\n",
    "ax2.plot(ModelT,ModelF,'r-',linewidth=3)\n",
    "\n",
    "ax3.plot(24*pf,ff,'k.')\n",
    "ax3.plot(24*pf_model,ff_model,'r-',linewidth=3)\n",
    "ax3.set_xlim(-3*24*tls_power.duration,3*24*tls_power.duration)\n",
    "ax3.set_xlabel('Phase [Hours since TC]')\n",
    "fig.savefig('TIC_'+str(ID)+'_Sector_'+str(Sector)+'_SPOC_TLS_result.png',bbox_inches='tight')\n",
    "fig.show()\n",
    "\n",
    "params=EDI.parameters(tls_power,limbDark=[qld[0], qld[1]], impact=0, snrThreshold=6, minTransit=N_transits)\n",
    "params=EDI.Go(params,telescope='TESS')"
   ]
  },
  {
   "cell_type": "code",
   "execution_count": 46,
   "metadata": {},
   "outputs": [
    {
     "name": "stdout",
     "output_type": "stream",
     "text": [
      "\n",
      " ___________ _____      _   _      _   _            \n",
      "|  ___|  _  \\_   _|    | | | |    | | | |           \n",
      "| |__ | | | | | |______| | | | ___| |_| |_ ___ _ __ \n",
      "|  __|| | | | | |______| | | |/ _ \\ __| __/ _ \\ '__|\n",
      "| |___| |/ / _| |_     \\ \\_/ /  __/ |_| ||  __/ |   \n",
      "\\____/|___/  \\___/      \\___/ \\___|\\__|\\__\\___|_|   Unplugged\n",
      "    \n",
      "Version 0.1.2 (11 Sept 2020)\n",
      "==========================================\n",
      "            Vetting Report\n",
      "==========================================\n",
      "        Flux Contamination : False\n",
      "  Too Many Transits Masked : False\n",
      "Odd/Even Transit Variation : False\n",
      "      Signal is not Unique : False\n",
      "   Secondary Eclipse Found : False\n",
      "Low Transit Phase Coverage : False\n",
      " Transit Duration Too Long : False\n",
      "==========================================\n",
      "Signal is a False Positive : False\n"
     ]
    }
   ],
   "source": [
    "params=EDI.Go(params,telescope='TESS')"
   ]
  },
  {
   "cell_type": "code",
   "execution_count": 47,
   "metadata": {},
   "outputs": [],
   "source": [
    "EDI_results = pd.DataFrame({'ID':ID,'Flux Contamination':params.fluxContaminationFP, 'Too Many Transits Masked':params.TransMaskFP, 'Odd/Even Transit Variation':params.even_odd_transit_misfit,'Signal is not Unique':params.uniquenessFP,'Secondary Eclipse Found':params.SeFP,'Low Transit Phase Coverage':params.phaseCoverFP, 'Transit Duration Too Long':params.tdurFP, 'Signal is a False Positive':params.FalsePositive},index=[0])\n",
    "EDI_results.to_csv('TIC_'+str(ID)+'_Sector_'+str(Sector)+'_EDI-Vetter_results.csv')\n"
   ]
  },
  {
   "cell_type": "code",
   "execution_count": 48,
   "metadata": {},
   "outputs": [
    {
     "data": {
      "text/html": [
       "<div>\n",
       "<style scoped>\n",
       "    .dataframe tbody tr th:only-of-type {\n",
       "        vertical-align: middle;\n",
       "    }\n",
       "\n",
       "    .dataframe tbody tr th {\n",
       "        vertical-align: top;\n",
       "    }\n",
       "\n",
       "    .dataframe thead th {\n",
       "        text-align: right;\n",
       "    }\n",
       "</style>\n",
       "<table border=\"1\" class=\"dataframe\">\n",
       "  <thead>\n",
       "    <tr style=\"text-align: right;\">\n",
       "      <th></th>\n",
       "      <th>ID</th>\n",
       "      <th>Flux Contamination</th>\n",
       "      <th>Too Many Transits Masked</th>\n",
       "      <th>Odd/Even Transit Variation</th>\n",
       "      <th>Signal is not Unique</th>\n",
       "      <th>Secondary Eclipse Found</th>\n",
       "      <th>Low Transit Phase Coverage</th>\n",
       "      <th>Transit Duration Too Long</th>\n",
       "      <th>Signal is a False Positive</th>\n",
       "    </tr>\n",
       "  </thead>\n",
       "  <tbody>\n",
       "    <tr>\n",
       "      <th>0</th>\n",
       "      <td>100100827</td>\n",
       "      <td>False</td>\n",
       "      <td>False</td>\n",
       "      <td>False</td>\n",
       "      <td>False</td>\n",
       "      <td>False</td>\n",
       "      <td>False</td>\n",
       "      <td>False</td>\n",
       "      <td>False</td>\n",
       "    </tr>\n",
       "  </tbody>\n",
       "</table>\n",
       "</div>"
      ],
      "text/plain": [
       "          ID  Flux Contamination  Too Many Transits Masked  \\\n",
       "0  100100827               False                     False   \n",
       "\n",
       "   Odd/Even Transit Variation  Signal is not Unique  Secondary Eclipse Found  \\\n",
       "0                       False                 False                    False   \n",
       "\n",
       "   Low Transit Phase Coverage  Transit Duration Too Long  \\\n",
       "0                       False                      False   \n",
       "\n",
       "   Signal is a False Positive  \n",
       "0                       False  "
      ]
     },
     "execution_count": 48,
     "metadata": {},
     "output_type": "execute_result"
    }
   ],
   "source": [
    "EDI_results"
   ]
  },
  {
   "cell_type": "code",
   "execution_count": null,
   "metadata": {},
   "outputs": [],
   "source": []
  }
 ],
 "metadata": {
  "kernelspec": {
   "display_name": "Python 3",
   "language": "python",
   "name": "python3"
  },
  "language_info": {
   "codemirror_mode": {
    "name": "ipython",
    "version": 3
   },
   "file_extension": ".py",
   "mimetype": "text/x-python",
   "name": "python",
   "nbconvert_exporter": "python",
   "pygments_lexer": "ipython3",
   "version": "3.8.3"
  }
 },
 "nbformat": 4,
 "nbformat_minor": 4
}
