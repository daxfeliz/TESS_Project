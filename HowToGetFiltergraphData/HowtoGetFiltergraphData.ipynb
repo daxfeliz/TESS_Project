{
 "cells": [
  {
   "cell_type": "markdown",
   "metadata": {},
   "source": [
    "## Ryan Oelker's Filtergraph website is a great resource for getting pre-processed light curves\n",
    "\n",
    "[https://filtergraph.com/tess_ffi](https://filtergraph.com/tess_ffi)\n",
    "\n",
    "In order to download light curves in bulk, we'll need to filter the data to contain only 4 columns of data: TIC ID, Sector, Camera and CCD. \n",
    "\n",
    "Once you have these options filtered, display the results as a Table (default is scatter plot). You can then download X amount of light curves as a ASCII, space seperated file.\n"
   ]
  },
  {
   "cell_type": "code",
   "execution_count": null,
   "metadata": {},
   "outputs": [],
   "source": [
    "Once you have a Sector_N.txt file (N=number), you can use the get_curves.py script to "
   ]
  }
 ],
 "metadata": {
  "kernelspec": {
   "display_name": "Python [conda env:py3.6]",
   "language": "python",
   "name": "conda-env-py3.6-py"
  },
  "language_info": {
   "codemirror_mode": {
    "name": "ipython",
    "version": 3
   },
   "file_extension": ".py",
   "mimetype": "text/x-python",
   "name": "python",
   "nbconvert_exporter": "python",
   "pygments_lexer": "ipython3",
   "version": "3.6.8"
  }
 },
 "nbformat": 4,
 "nbformat_minor": 2
}
