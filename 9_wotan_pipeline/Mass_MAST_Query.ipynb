{
 "cells": [
  {
   "cell_type": "markdown",
   "metadata": {},
   "source": [
    "# So searching stellar parameters on the MAST portal is a major pain. \n",
    "\n",
    "## We can query our planet candidates with our output file \"Sector_NN_PlanetCandidates_TLS.txt\"\n",
    "\n",
    "## I looked at the source code from the transitleastsquares function \"catalog_info\". It's basically using astroquery.mast's \"Catalogs\" function with specific outputs. \n",
    "\n",
    "We can grab a number of parameters, specifically:\n",
    "- TESS Mag\n",
    "- Visual Mag\n",
    "- Effective Temperature\n",
    "- Distance (pc)\n",
    "- Mass (solar)\n",
    "- Radius (solar)\n",
    "- logg \n",
    "\n",
    "\n",
    "## Let's go through an example of what this query and results look like"
   ]
  },
  {
   "cell_type": "code",
   "execution_count": 45,
   "metadata": {},
   "outputs": [],
   "source": [
    "#Needed for handling lists, arrays, strings, importing data and general math\n",
    "import numpy as np\n",
    "\n",
    "import astropy\n",
    "\n",
    "# Old query tool\n",
    "# from transitleastsquares import catalog_info #specific outputs from MAST catalog\n",
    "\n",
    "# New query tool\n",
    "from astroquery.mast import Catalogs"
   ]
  },
  {
   "cell_type": "code",
   "execution_count": 46,
   "metadata": {},
   "outputs": [],
   "source": [
    "candidateIDs = np.transpose(np.loadtxt(\"Sector_01_PlanetCandidates_TLS.txt\"))[0]"
   ]
  },
  {
   "cell_type": "code",
   "execution_count": null,
   "metadata": {},
   "outputs": [],
   "source": []
  },
  {
   "cell_type": "code",
   "execution_count": 49,
   "metadata": {},
   "outputs": [
    {
     "name": "stdout",
     "output_type": "stream",
     "text": [
      "135\n",
      " \n"
     ]
    }
   ],
   "source": [
    "print(len(candidateIDs))\n",
    "for x in range(1):\n",
    "    print(\" \")\n",
    "    \n",
    "    ID = str(candidateIDs[x])[:-2]\n",
    "    result = Catalogs.query_criteria(catalog=\"Tic\", ID=int(ID))#.as_array() #<---used in TLS code\n",
    "    \n",
    "# pretty simple, right? Almost makes you wonder why I didn't do this before..."
   ]
  },
  {
   "cell_type": "markdown",
   "metadata": {},
   "source": [
    "# Let's print what this result looks"
   ]
  },
  {
   "cell_type": "code",
   "execution_count": 50,
   "metadata": {},
   "outputs": [
    {
     "data": {
      "text/html": [
       "<i>Table masked=True length=1</i>\n",
       "<table id=\"table4851981000\" class=\"table-striped table-bordered table-condensed\">\n",
       "<thead><tr><th>ID</th><th>version</th><th>HIP</th><th>TYC</th><th>UCAC</th><th>TWOMASS</th><th>SDSS</th><th>ALLWISE</th><th>GAIA</th><th>APASS</th><th>KIC</th><th>objType</th><th>typeSrc</th><th>ra</th><th>dec</th><th>POSflag</th><th>pmRA</th><th>e_pmRA</th><th>pmDEC</th><th>e_pmDEC</th><th>PMflag</th><th>plx</th><th>e_plx</th><th>PARflag</th><th>gallong</th><th>gallat</th><th>eclong</th><th>eclat</th><th>Bmag</th><th>e_Bmag</th><th>Vmag</th><th>e_Vmag</th><th>umag</th><th>e_umag</th><th>gmag</th><th>e_gmag</th><th>rmag</th><th>e_rmag</th><th>imag</th><th>e_imag</th><th>zmag</th><th>e_zmag</th><th>Jmag</th><th>e_Jmag</th><th>Hmag</th><th>e_Hmag</th><th>Kmag</th><th>e_Kmag</th><th>TWOMflag</th><th>prox</th><th>w1mag</th><th>e_w1mag</th><th>w2mag</th><th>e_w2mag</th><th>w3mag</th><th>e_w3mag</th><th>w4mag</th><th>e_w4mag</th><th>GAIAmag</th><th>e_GAIAmag</th><th>Tmag</th><th>e_Tmag</th><th>TESSflag</th><th>SPFlag</th><th>Teff</th><th>e_Teff</th><th>logg</th><th>e_logg</th><th>MH</th><th>e_MH</th><th>rad</th><th>e_rad</th><th>mass</th><th>e_mass</th><th>rho</th><th>e_rho</th><th>lumclass</th><th>lum</th><th>e_lum</th><th>d</th><th>e_d</th><th>ebv</th><th>e_ebv</th><th>numcont</th><th>contratio</th><th>disposition</th><th>duplicate_id</th><th>priority</th><th>eneg_EBV</th><th>epos_EBV</th><th>EBVflag</th><th>eneg_Mass</th><th>epos_Mass</th><th>eneg_Rad</th><th>epos_Rad</th><th>eneg_rho</th><th>epos_rho</th><th>eneg_logg</th><th>epos_logg</th><th>eneg_lum</th><th>epos_lum</th><th>eneg_dist</th><th>epos_dist</th><th>distflag</th><th>eneg_Teff</th><th>epos_Teff</th><th>TeffFlag</th><th>gaiabp</th><th>e_gaiabp</th><th>gaiarp</th><th>e_gaiarp</th><th>gaiaqflag</th><th>starchareFlag</th><th>VmagFlag</th><th>BmagFlag</th><th>splists</th><th>e_RA</th><th>e_Dec</th><th>RA_orig</th><th>Dec_orig</th><th>e_RA_orig</th><th>e_Dec_orig</th><th>raddflag</th><th>wdflag</th><th>objID</th></tr></thead>\n",
       "<thead><tr><th>str9</th><th>str8</th><th>int64</th><th>str1</th><th>str10</th><th>str16</th><th>str1</th><th>str1</th><th>str19</th><th>str8</th><th>int64</th><th>str4</th><th>str7</th><th>float64</th><th>float64</th><th>str7</th><th>float64</th><th>float64</th><th>float64</th><th>float64</th><th>str5</th><th>float64</th><th>float64</th><th>str5</th><th>float64</th><th>float64</th><th>float64</th><th>float64</th><th>float64</th><th>float64</th><th>float64</th><th>float64</th><th>float64</th><th>float64</th><th>float64</th><th>float64</th><th>float64</th><th>float64</th><th>float64</th><th>float64</th><th>float64</th><th>float64</th><th>float64</th><th>float64</th><th>float64</th><th>float64</th><th>float64</th><th>float64</th><th>str19</th><th>float64</th><th>float64</th><th>float64</th><th>float64</th><th>float64</th><th>float64</th><th>float64</th><th>float64</th><th>float64</th><th>float64</th><th>float64</th><th>float64</th><th>float64</th><th>str5</th><th>str5</th><th>float64</th><th>float64</th><th>float64</th><th>float64</th><th>float64</th><th>float64</th><th>float64</th><th>float64</th><th>float64</th><th>float64</th><th>float64</th><th>float64</th><th>str5</th><th>float64</th><th>float64</th><th>float64</th><th>float64</th><th>float64</th><th>float64</th><th>int64</th><th>float64</th><th>str1</th><th>str1</th><th>float64</th><th>float64</th><th>float64</th><th>str1</th><th>float64</th><th>float64</th><th>float64</th><th>float64</th><th>float64</th><th>float64</th><th>float64</th><th>float64</th><th>float64</th><th>float64</th><th>float64</th><th>float64</th><th>str6</th><th>float64</th><th>float64</th><th>str5</th><th>float64</th><th>float64</th><th>float64</th><th>float64</th><th>int64</th><th>str1</th><th>str5</th><th>str8</th><th>str13</th><th>float64</th><th>float64</th><th>float64</th><th>float64</th><th>float64</th><th>float64</th><th>int64</th><th>int64</th><th>str9</th></tr></thead>\n",
       "<tr><td>201256293</td><td>20190415</td><td>--</td><td>--</td><td>170-000119</td><td>00070543-5605045</td><td>--</td><td>--</td><td>4922569671300905088</td><td>27127986</td><td>--</td><td>STAR</td><td>tmgaia2</td><td>1.77270472555149</td><td>-56.084616395621</td><td>tmgaia2</td><td>339.791</td><td>0.0539479</td><td>-7.3202</td><td>0.053537</td><td>gaia2</td><td>40.0789</td><td>0.0381119</td><td>gaia2</td><td>315.310110503448</td><td>-59.965131573087</td><td>330.598774743206</td><td>-50.1969913500593</td><td>15.052</td><td>0.019</td><td>13.487</td><td>0.047</td><td>--</td><td>--</td><td>--</td><td>--</td><td>--</td><td>--</td><td>--</td><td>--</td><td>--</td><td>--</td><td>9.567</td><td>0.023</td><td>9.061</td><td>0.027</td><td>8.71</td><td>0.019</td><td>AAA-222-111-000-0-0</td><td>--</td><td>--</td><td>--</td><td>--</td><td>--</td><td>--</td><td>--</td><td>--</td><td>--</td><td>12.3151</td><td>0.00036</td><td>11.0832</td><td>0.00732927</td><td>cdwrf</td><td>cdwrf</td><td>3377.0</td><td>157.0</td><td>4.87991</td><td>0.000999322</td><td>--</td><td>--</td><td>0.343946</td><td>0.0102276</td><td>0.327211</td><td>0.0201929</td><td>8.04187</td><td>0.220599</td><td>DWARF</td><td>0.013861157</td><td>0.003420577</td><td>24.9328</td><td>0.02385</td><td>--</td><td>--</td><td>40</td><td>0.00961202849</td><td>--</td><td>--</td><td>0.00645083236</td><td>--</td><td>--</td><td>--</td><td>--</td><td>--</td><td>--</td><td>--</td><td>--</td><td>--</td><td>--</td><td>--</td><td>--</td><td>--</td><td>0.0238</td><td>0.0239</td><td>bj2018</td><td>--</td><td>--</td><td>cdwrf</td><td>13.7541</td><td>0.002081</td><td>11.1495</td><td>0.001339</td><td>1</td><td>--</td><td>cdwrf</td><td>apassdr9</td><td>cooldwarfs_v8</td><td>0.947839474404792</td><td>0.830290964498308</td><td>1.77532672032454</td><td>-56.0846479409284</td><td>0.0282318741185446</td><td>0.0278575766225298</td><td>1</td><td>0</td><td>508612472</td></tr>\n",
       "</table>"
      ],
      "text/plain": [
       "<Table masked=True length=1>\n",
       "    ID    version   HIP  TYC  ...     e_Dec_orig     raddflag wdflag   objID  \n",
       "   str9     str8   int64 str1 ...      float64        int64   int64     str9  \n",
       "--------- -------- ----- ---- ... ------------------ -------- ------ ---------\n",
       "201256293 20190415    --   -- ... 0.0278575766225298        1      0 508612472"
      ]
     },
     "execution_count": 50,
     "metadata": {},
     "output_type": "execute_result"
    }
   ],
   "source": [
    "result"
   ]
  },
  {
   "cell_type": "markdown",
   "metadata": {},
   "source": [
    "# This result is a object class called Astropy Table\n",
    "## (try printing type(result))\n",
    "## This is kind of like a dictionary or a pandas dataframe\n",
    "## If you know the name of the column (or key), you can grab its value"
   ]
  },
  {
   "cell_type": "code",
   "execution_count": 54,
   "metadata": {},
   "outputs": [
    {
     "name": "stdout",
     "output_type": "stream",
     "text": [
      "       ra       \n",
      "----------------\n",
      "1.77270472555149\n",
      "      dec       \n",
      "----------------\n",
      "-56.084616395621\n",
      "  Tmag \n",
      "-------\n",
      "11.0832\n",
      " Vmag \n",
      "------\n",
      "13.487\n",
      " Teff \n",
      "------\n",
      "3377.0\n",
      "   d   \n",
      "-------\n",
      "24.9328\n",
      "  rad   \n",
      "--------\n",
      "0.343946\n",
      "  mass  \n",
      "--------\n",
      "0.327211\n",
      "  logg \n",
      "-------\n",
      "4.87991\n"
     ]
    }
   ],
   "source": [
    "print (result['ra'])\n",
    "print (result['dec'])\n",
    "print (result['Tmag'])\n",
    "print (result['Vmag'])\n",
    "print (result['Teff'])\n",
    "print (result['d'])\n",
    "print (result['rad'])\n",
    "print (result['mass'])\n",
    "print (result['logg'])\n"
   ]
  },
  {
   "cell_type": "markdown",
   "metadata": {},
   "source": [
    "# Now we can append these results to previous results from the BLS/TLS searches"
   ]
  },
  {
   "cell_type": "code",
   "execution_count": 101,
   "metadata": {},
   "outputs": [
    {
     "name": "stdout",
     "output_type": "stream",
     "text": [
      "runtime:  1.429842213789622  minutes\n"
     ]
    }
   ],
   "source": [
    "import time\n",
    "#from planet candidate list\n",
    "# ids =  np.transpose(np.loadtxt(\"Sector_01_PlanetCandidates_TLS.txt\"))[0]\n",
    "cams =  np.transpose(np.loadtxt(\"Sector_01_PlanetCandidates_TLS.txt\"))[1]\n",
    "ccds=  np.transpose(np.loadtxt(\"Sector_01_PlanetCandidates_TLS.txt\"))[2]\n",
    "rstar =  np.transpose(np.loadtxt(\"Sector_01_PlanetCandidates_TLS.txt\"))[3]\n",
    "mstar =  np.transpose(np.loadtxt(\"Sector_01_PlanetCandidates_TLS.txt\"))[4]\n",
    "rplanet =  np.transpose(np.loadtxt(\"Sector_01_PlanetCandidates_TLS.txt\"))[5]\n",
    "per =  np.transpose(np.loadtxt(\"Sector_01_PlanetCandidates_TLS.txt\"))[6]\n",
    "transdur =  np.transpose(np.loadtxt(\"Sector_01_PlanetCandidates_TLS.txt\"))[7]\n",
    "sdes =  np.transpose(np.loadtxt(\"Sector_01_PlanetCandidates_TLS.txt\"))[8]\n",
    "\n",
    "ras=[];decs=[];tmags=[];vmags=[];teffs=[];ds=[];plxs=[];rads=[];masses=[];loggs=[]\n",
    "ids = []\n",
    "start = time.time()\n",
    "for x in range(len(candidateIDs)):    \n",
    "    ID = str(candidateIDs[x])[:-2] #:-2 removes the .0 at the end of the TIC ID column\n",
    "    result = Catalogs.query_criteria(catalog=\"Tic\", ID=int(ID))\n",
    "    ids.append(ID)\n",
    "    ras.append(result['ra'][0])\n",
    "    decs.append(result['dec'][0])\n",
    "    tmags.append(result['Tmag'][0])\n",
    "    vmags.append(result['Vmag'][0])\n",
    "    teffs.append(result['Teff'][0])\n",
    "    ds.append(result['d'][0])\n",
    "    plxs.append(result['plx'][0])\n",
    "    rads.append(result['rad'][0])\n",
    "    masses.append(result['mass'][0])\n",
    "    loggs.append(result['logg'][0])\n",
    "\n",
    "end = time.time()\n",
    "\n",
    "print (\"runtime: \", (end-start)/60.0, \" minutes\")"
   ]
  },
  {
   "cell_type": "code",
   "execution_count": 138,
   "metadata": {},
   "outputs": [
    {
     "name": "stdout",
     "output_type": "stream",
     "text": [
      "135 135\n",
      "19\n"
     ]
    },
    {
     "name": "stderr",
     "output_type": "stream",
     "text": [
      "/Users/felizd/anaconda2/envs/py3.6/lib/python3.7/site-packages/ipykernel_launcher.py:2: UserWarning: Warning: converting a masked element to nan.\n",
      "  \n"
     ]
    }
   ],
   "source": [
    "print(len(loggs), len(ids))\n",
    "print(len(np.where(np.isnan(plxs)==True)[0])) \n",
    "# Some targets may have nans for some parameters or even zeros"
   ]
  },
  {
   "cell_type": "code",
   "execution_count": 139,
   "metadata": {},
   "outputs": [
    {
     "name": "stderr",
     "output_type": "stream",
     "text": [
      "/Users/felizd/anaconda2/envs/py3.6/lib/python3.7/site-packages/ipykernel_launcher.py:2: UserWarning: Warning: converting a masked element to nan.\n",
      "  \n"
     ]
    }
   ],
   "source": [
    "# From Distance and visual magnitudes, I calculate the absolute magnitude:\n",
    "absmag = np.array(vmags)-5*np.log10(np.array(ds)/10)\n",
    "absmag=absmag.tolist() #needs to be list for saving"
   ]
  },
  {
   "cell_type": "code",
   "execution_count": 137,
   "metadata": {},
   "outputs": [],
   "source": [
    "ls =np.array([ids,cams,ccds,tmags,plxs,ds,vmags,teffs,absmag,mstar,rstar,rplanet,per,transdur,sdes])\n",
    "ls = ls.astype(np.float) #turns strings into floats\n",
    "lsx = sorted(np.transpose(ls), key=lambda x: x[-1],reverse=True) \n",
    "#^^^ sort by SDE with highest at top of list\n",
    "\n",
    "# print(lsx)\n",
    "\n",
    "header='%1s\\t%3s\\t%11s\\t%12s\\t%18s\\t%4s\\t%4s\\t%16s\\t%6s\\t%29s\\t%13s\\t%7s\\t%26s\\t%27s\\t%3s'%('TIC ID','Cam','CCD','Tmag','pllx (mas)','distance (pc)','Vmag','Teff (K)','AbsMag','Mstar (solar)','Rstar (solar)','Rplanet','Period (d)','transitduration (d)','SDE')\n",
    "np.savetxt(\"Sector_01_PlanetCandidates_TLS_For_Spreadsheet.txt\",lsx,header=header,delimiter='\\t',fmt=\"%-12s\")#fmt='%s')\n",
    "\n"
   ]
  },
  {
   "cell_type": "code",
   "execution_count": 106,
   "metadata": {},
   "outputs": [
    {
     "name": "stdout",
     "output_type": "stream",
     "text": [
      "201256293\n"
     ]
    }
   ],
   "source": [
    "print (ids[0])"
   ]
  },
  {
   "cell_type": "code",
   "execution_count": null,
   "metadata": {},
   "outputs": [],
   "source": []
  }
 ],
 "metadata": {
  "kernelspec": {
   "display_name": "py3.6",
   "language": "python",
   "name": "py3.6"
  },
  "language_info": {
   "codemirror_mode": {
    "name": "ipython",
    "version": 3
   },
   "file_extension": ".py",
   "mimetype": "text/x-python",
   "name": "python",
   "nbconvert_exporter": "python",
   "pygments_lexer": "ipython3",
   "version": "3.7.3"
  }
 },
 "nbformat": 4,
 "nbformat_minor": 2
}
